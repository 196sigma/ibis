{
 "cells": [
  {
   "cell_type": "code",
   "execution_count": 1,
   "metadata": {},
   "outputs": [],
   "source": [
    "import pandas as pd\n",
    "import numpy as np\n",
    "import matplotlib.pyplot as plt\n",
    "from sklearn.linear_model import LinearRegression"
   ]
  },
  {
   "cell_type": "code",
   "execution_count": 2,
   "metadata": {},
   "outputs": [
    {
     "name": "stdout",
     "output_type": "stream",
     "text": [
      "(7559, 86)\n",
      "(7549, 86)\n"
     ]
    },
    {
     "data": {
      "text/html": [
       "<div>\n",
       "<style scoped>\n",
       "    .dataframe tbody tr th:only-of-type {\n",
       "        vertical-align: middle;\n",
       "    }\n",
       "\n",
       "    .dataframe tbody tr th {\n",
       "        vertical-align: top;\n",
       "    }\n",
       "\n",
       "    .dataframe thead th {\n",
       "        text-align: right;\n",
       "    }\n",
       "</style>\n",
       "<table border=\"1\" class=\"dataframe\">\n",
       "  <thead>\n",
       "    <tr style=\"text-align: right;\">\n",
       "      <th></th>\n",
       "      <th>date</th>\n",
       "      <th>open.hd</th>\n",
       "      <th>high.hd</th>\n",
       "      <th>low.hd</th>\n",
       "      <th>close.hd</th>\n",
       "      <th>adj.close.hd</th>\n",
       "      <th>volume.hd</th>\n",
       "      <th>open.low</th>\n",
       "      <th>high.low</th>\n",
       "      <th>low.low</th>\n",
       "      <th>...</th>\n",
       "      <th>volume.sp500.lag5</th>\n",
       "      <th>volume.sp500.lag6</th>\n",
       "      <th>volume.sp500.lag7</th>\n",
       "      <th>volume.sp500.lag8</th>\n",
       "      <th>volume.sp500.lag9</th>\n",
       "      <th>volume.sp500.lag10</th>\n",
       "      <th>adj.close.hd.up</th>\n",
       "      <th>adj.close.low.up</th>\n",
       "      <th>return.hd.1day</th>\n",
       "      <th>return.low.1day</th>\n",
       "    </tr>\n",
       "  </thead>\n",
       "  <tbody>\n",
       "    <tr>\n",
       "      <th>10</th>\n",
       "      <td>1991-01-15</td>\n",
       "      <td>2.722222</td>\n",
       "      <td>2.796296</td>\n",
       "      <td>2.703704</td>\n",
       "      <td>2.796296</td>\n",
       "      <td>1.767160</td>\n",
       "      <td>4897800</td>\n",
       "      <td>0.742188</td>\n",
       "      <td>0.746094</td>\n",
       "      <td>0.738281</td>\n",
       "      <td>...</td>\n",
       "      <td>143390000.0</td>\n",
       "      <td>130610000.0</td>\n",
       "      <td>140820000.0</td>\n",
       "      <td>141450000.0</td>\n",
       "      <td>126280000.0</td>\n",
       "      <td>114130000.0</td>\n",
       "      <td>1.0</td>\n",
       "      <td>1.0</td>\n",
       "      <td>0.020067</td>\n",
       "      <td>0.005250</td>\n",
       "    </tr>\n",
       "    <tr>\n",
       "      <th>11</th>\n",
       "      <td>1991-01-16</td>\n",
       "      <td>2.796296</td>\n",
       "      <td>2.925926</td>\n",
       "      <td>2.777778</td>\n",
       "      <td>2.861111</td>\n",
       "      <td>1.808121</td>\n",
       "      <td>6123600</td>\n",
       "      <td>0.742188</td>\n",
       "      <td>0.765625</td>\n",
       "      <td>0.742188</td>\n",
       "      <td>...</td>\n",
       "      <td>191100000.0</td>\n",
       "      <td>143390000.0</td>\n",
       "      <td>130610000.0</td>\n",
       "      <td>140820000.0</td>\n",
       "      <td>141450000.0</td>\n",
       "      <td>126280000.0</td>\n",
       "      <td>1.0</td>\n",
       "      <td>1.0</td>\n",
       "      <td>0.022914</td>\n",
       "      <td>0.020725</td>\n",
       "    </tr>\n",
       "    <tr>\n",
       "      <th>12</th>\n",
       "      <td>1991-01-17</td>\n",
       "      <td>3.055556</td>\n",
       "      <td>3.064815</td>\n",
       "      <td>2.972222</td>\n",
       "      <td>2.981482</td>\n",
       "      <td>1.884191</td>\n",
       "      <td>19796400</td>\n",
       "      <td>0.792969</td>\n",
       "      <td>0.816406</td>\n",
       "      <td>0.789063</td>\n",
       "      <td>...</td>\n",
       "      <td>124510000.0</td>\n",
       "      <td>191100000.0</td>\n",
       "      <td>143390000.0</td>\n",
       "      <td>130610000.0</td>\n",
       "      <td>140820000.0</td>\n",
       "      <td>141450000.0</td>\n",
       "      <td>1.0</td>\n",
       "      <td>1.0</td>\n",
       "      <td>0.041210</td>\n",
       "      <td>0.059719</td>\n",
       "    </tr>\n",
       "    <tr>\n",
       "      <th>13</th>\n",
       "      <td>1991-01-18</td>\n",
       "      <td>3.000000</td>\n",
       "      <td>3.037037</td>\n",
       "      <td>2.944444</td>\n",
       "      <td>3.018518</td>\n",
       "      <td>1.907597</td>\n",
       "      <td>10596900</td>\n",
       "      <td>0.804688</td>\n",
       "      <td>0.843750</td>\n",
       "      <td>0.804688</td>\n",
       "      <td>...</td>\n",
       "      <td>123050000.0</td>\n",
       "      <td>124510000.0</td>\n",
       "      <td>191100000.0</td>\n",
       "      <td>143390000.0</td>\n",
       "      <td>130610000.0</td>\n",
       "      <td>140820000.0</td>\n",
       "      <td>1.0</td>\n",
       "      <td>1.0</td>\n",
       "      <td>0.012346</td>\n",
       "      <td>0.042560</td>\n",
       "    </tr>\n",
       "    <tr>\n",
       "      <th>14</th>\n",
       "      <td>1991-01-21</td>\n",
       "      <td>2.962963</td>\n",
       "      <td>3.046296</td>\n",
       "      <td>2.953704</td>\n",
       "      <td>3.046296</td>\n",
       "      <td>1.925151</td>\n",
       "      <td>4736100</td>\n",
       "      <td>0.832031</td>\n",
       "      <td>0.867188</td>\n",
       "      <td>0.828125</td>\n",
       "      <td>...</td>\n",
       "      <td>120830000.0</td>\n",
       "      <td>123050000.0</td>\n",
       "      <td>124510000.0</td>\n",
       "      <td>191100000.0</td>\n",
       "      <td>143390000.0</td>\n",
       "      <td>130610000.0</td>\n",
       "      <td>1.0</td>\n",
       "      <td>1.0</td>\n",
       "      <td>0.009160</td>\n",
       "      <td>0.027398</td>\n",
       "    </tr>\n",
       "  </tbody>\n",
       "</table>\n",
       "<p>5 rows × 86 columns</p>\n",
       "</div>"
      ],
      "text/plain": [
       "          date   open.hd   high.hd    low.hd  close.hd  adj.close.hd  \\\n",
       "10  1991-01-15  2.722222  2.796296  2.703704  2.796296      1.767160   \n",
       "11  1991-01-16  2.796296  2.925926  2.777778  2.861111      1.808121   \n",
       "12  1991-01-17  3.055556  3.064815  2.972222  2.981482      1.884191   \n",
       "13  1991-01-18  3.000000  3.037037  2.944444  3.018518      1.907597   \n",
       "14  1991-01-21  2.962963  3.046296  2.953704  3.046296      1.925151   \n",
       "\n",
       "    volume.hd  open.low  high.low   low.low  ...  volume.sp500.lag5  \\\n",
       "10    4897800  0.742188  0.746094  0.738281  ...        143390000.0   \n",
       "11    6123600  0.742188  0.765625  0.742188  ...        191100000.0   \n",
       "12   19796400  0.792969  0.816406  0.789063  ...        124510000.0   \n",
       "13   10596900  0.804688  0.843750  0.804688  ...        123050000.0   \n",
       "14    4736100  0.832031  0.867188  0.828125  ...        120830000.0   \n",
       "\n",
       "    volume.sp500.lag6  volume.sp500.lag7  volume.sp500.lag8  \\\n",
       "10        130610000.0        140820000.0        141450000.0   \n",
       "11        143390000.0        130610000.0        140820000.0   \n",
       "12        191100000.0        143390000.0        130610000.0   \n",
       "13        124510000.0        191100000.0        143390000.0   \n",
       "14        123050000.0        124510000.0        191100000.0   \n",
       "\n",
       "    volume.sp500.lag9  volume.sp500.lag10  adj.close.hd.up  adj.close.low.up  \\\n",
       "10        126280000.0         114130000.0              1.0               1.0   \n",
       "11        141450000.0         126280000.0              1.0               1.0   \n",
       "12        140820000.0         141450000.0              1.0               1.0   \n",
       "13        130610000.0         140820000.0              1.0               1.0   \n",
       "14        143390000.0         130610000.0              1.0               1.0   \n",
       "\n",
       "    return.hd.1day  return.low.1day  \n",
       "10        0.020067         0.005250  \n",
       "11        0.022914         0.020725  \n",
       "12        0.041210         0.059719  \n",
       "13        0.012346         0.042560  \n",
       "14        0.009160         0.027398  \n",
       "\n",
       "[5 rows x 86 columns]"
      ]
     },
     "execution_count": 2,
     "metadata": {},
     "output_type": "execute_result"
    }
   ],
   "source": [
    "# Import data\n",
    "df = pd.read_csv(\"../data/data.csv\")\n",
    "print(df.shape)\n",
    "\n",
    "# Drop duplicates\n",
    "df = df.dropna()\n",
    "print(df.shape)\n",
    "\n",
    "df.head()"
   ]
  },
  {
   "cell_type": "markdown",
   "metadata": {},
   "source": [
    "## Model continuous price"
   ]
  },
  {
   "cell_type": "code",
   "execution_count": 3,
   "metadata": {},
   "outputs": [
    {
     "data": {
      "text/plain": [
       "Index(['date', 'open.hd', 'high.hd', 'low.hd', 'close.hd', 'adj.close.hd',\n",
       "       'volume.hd', 'open.low', 'high.low', 'low.low', 'close.low',\n",
       "       'adj.close.low', 'volume.low', 'open.sp500', 'high.sp500', 'low.sp500',\n",
       "       'close.sp500', 'adj.close.sp500', 'volume.sp500',\n",
       "       'adj.close.hd.normalized', 'adj.close.low.normalized',\n",
       "       'adj.close.sp500.normalized', 'adj.close.hd.lag1', 'adj.close.hd.lag2',\n",
       "       'adj.close.hd.lag3', 'adj.close.hd.lag4', 'adj.close.hd.lag5',\n",
       "       'adj.close.hd.lag6', 'adj.close.hd.lag7', 'adj.close.hd.lag8',\n",
       "       'adj.close.hd.lag9', 'adj.close.hd.lag10', 'adj.close.low.lag1',\n",
       "       'adj.close.low.lag2', 'adj.close.low.lag3', 'adj.close.low.lag4',\n",
       "       'adj.close.low.lag5', 'adj.close.low.lag6', 'adj.close.low.lag7',\n",
       "       'adj.close.low.lag8', 'adj.close.low.lag9', 'adj.close.low.lag10',\n",
       "       'adj.close.sp500.lag1', 'adj.close.sp500.lag2', 'adj.close.sp500.lag3',\n",
       "       'adj.close.sp500.lag4', 'adj.close.sp500.lag5', 'adj.close.sp500.lag6',\n",
       "       'adj.close.sp500.lag7', 'adj.close.sp500.lag8', 'adj.close.sp500.lag9',\n",
       "       'adj.close.sp500.lag10', 'volume.low.lag1', 'volume.low.lag2',\n",
       "       'volume.low.lag3', 'volume.low.lag4', 'volume.low.lag5',\n",
       "       'volume.low.lag6', 'volume.low.lag7', 'volume.low.lag8',\n",
       "       'volume.low.lag9', 'volume.low.lag10', 'volume.hd.lag1',\n",
       "       'volume.hd.lag2', 'volume.hd.lag3', 'volume.hd.lag4', 'volume.hd.lag5',\n",
       "       'volume.hd.lag6', 'volume.hd.lag7', 'volume.hd.lag8', 'volume.hd.lag9',\n",
       "       'volume.hd.lag10', 'volume.sp500.lag1', 'volume.sp500.lag2',\n",
       "       'volume.sp500.lag3', 'volume.sp500.lag4', 'volume.sp500.lag5',\n",
       "       'volume.sp500.lag6', 'volume.sp500.lag7', 'volume.sp500.lag8',\n",
       "       'volume.sp500.lag9', 'volume.sp500.lag10', 'adj.close.hd.up',\n",
       "       'adj.close.low.up', 'return.hd.1day', 'return.low.1day'],\n",
       "      dtype='object')"
      ]
     },
     "execution_count": 3,
     "metadata": {},
     "output_type": "execute_result"
    }
   ],
   "source": [
    "df.columns"
   ]
  },
  {
   "cell_type": "code",
   "execution_count": 4,
   "metadata": {},
   "outputs": [],
   "source": [
    "\n",
    "model_variables = ['adj.close.hd.lag1', 'adj.close.hd.lag2',\n",
    "'adj.close.hd.lag3', 'adj.close.hd.lag4', 'adj.close.hd.lag5',\n",
    "'adj.close.hd.lag6', 'adj.close.hd.lag7', 'adj.close.hd.lag8',\n",
    "'adj.close.hd.lag9', 'adj.close.hd.lag10', 'adj.close.low.lag1',\n",
    "'adj.close.low.lag2', 'adj.close.low.lag3', 'adj.close.low.lag4',\n",
    "'adj.close.low.lag5', 'adj.close.low.lag6', 'adj.close.low.lag7',\n",
    "'adj.close.low.lag8', 'adj.close.low.lag9', 'adj.close.low.lag10',\n",
    "'adj.close.sp500.lag1', 'adj.close.sp500.lag2', 'adj.close.sp500.lag3',\n",
    "'adj.close.sp500.lag4', 'adj.close.sp500.lag5', 'adj.close.sp500.lag6',\n",
    "'adj.close.sp500.lag7', 'adj.close.sp500.lag8', 'adj.close.sp500.lag9',\n",
    "'adj.close.sp500.lag10', 'volume.low.lag1', 'volume.low.lag2',\n",
    "'volume.low.lag3', 'volume.low.lag4', 'volume.low.lag5',\n",
    "'volume.low.lag6', 'volume.low.lag7', 'volume.low.lag8',\n",
    "'volume.low.lag9', 'volume.low.lag10', 'volume.hd.lag1',\n",
    "'volume.hd.lag2', 'volume.hd.lag3', 'volume.hd.lag4', 'volume.hd.lag5',\n",
    "'volume.hd.lag6', 'volume.hd.lag7', 'volume.hd.lag8', 'volume.hd.lag9',\n",
    "'volume.hd.lag10', 'volume.sp500.lag1', 'volume.sp500.lag2',\n",
    "'volume.sp500.lag3', 'volume.sp500.lag4', 'volume.sp500.lag5',\n",
    "'volume.sp500.lag6', 'volume.sp500.lag7', 'volume.sp500.lag8',\n",
    "'volume.sp500.lag9', 'volume.sp500.lag10',]"
   ]
  },
  {
   "cell_type": "code",
   "execution_count": 5,
   "metadata": {},
   "outputs": [
    {
     "name": "stdout",
     "output_type": "stream",
     "text": [
      "(6291, 60) (252, 60) (6291,) (6291,)\n"
     ]
    }
   ],
   "source": [
    "X_train = df.query(\"date < '2016-01-01'\")\n",
    "\n",
    "X_test = df.query(\"date >= '2016-01-01' & date < '2017-01-01'\")\n",
    "test_dates = X_test.pop('date')\n",
    "\n",
    "y_train_hd = X_train.pop('adj.close.hd')\n",
    "y_train_low = X_train.pop('adj.close.low')\n",
    "\n",
    "y_test_hd = X_test.pop('adj.close.hd')\n",
    "y_test_low = X_test.pop('adj.close.low')\n",
    "\n",
    "X_train = X_train[model_variables]\n",
    "X_test = X_test[model_variables]\n",
    "\n",
    "print(X_train.shape, X_test.shape, y_train_hd.shape, y_train_low.shape)"
   ]
  },
  {
   "cell_type": "code",
   "execution_count": 6,
   "metadata": {},
   "outputs": [],
   "source": [
    "lm_hd = LinearRegression().fit(X_train, y_train_hd)\n",
    "\n",
    "lm_hd_pred = lm_hd.predict(X_test)"
   ]
  },
  {
   "cell_type": "code",
   "execution_count": 7,
   "metadata": {},
   "outputs": [
    {
     "data": {
      "text/plain": [
       "(array([ 4.,  3.,  5., 15., 21., 37., 45., 36., 50., 36.]),\n",
       " array([100.02011889, 102.51522209, 105.01032529, 107.50542848,\n",
       "        110.00053168, 112.49563488, 114.99073808, 117.48584128,\n",
       "        119.98094448, 122.47604768, 124.97115088]),\n",
       " <a list of 10 Patch objects>)"
      ]
     },
     "execution_count": 7,
     "metadata": {},
     "output_type": "execute_result"
    },
    {
     "data": {
      "image/png": "[encoded data removed]",
      "text/plain": [
       "<Figure size 432x288 with 1 Axes>"
      ]
     },
     "metadata": {
      "needs_background": "light"
     },
     "output_type": "display_data"
    }
   ],
   "source": [
    "plt.hist(lm_hd_pred)"
   ]
  },
  {
   "cell_type": "code",
   "execution_count": 8,
   "metadata": {},
   "outputs": [
    {
     "name": "stdout",
     "output_type": "stream",
     "text": [
      "(252, 4)\n"
     ]
    },
    {
     "data": {
      "text/html": [
       "<div>\n",
       "<style scoped>\n",
       "    .dataframe tbody tr th:only-of-type {\n",
       "        vertical-align: middle;\n",
       "    }\n",
       "\n",
       "    .dataframe tbody tr th {\n",
       "        vertical-align: top;\n",
       "    }\n",
       "\n",
       "    .dataframe thead th {\n",
       "        text-align: right;\n",
       "    }\n",
       "</style>\n",
       "<table border=\"1\" class=\"dataframe\">\n",
       "  <thead>\n",
       "    <tr style=\"text-align: right;\">\n",
       "      <th></th>\n",
       "      <th>date</th>\n",
       "      <th>pred</th>\n",
       "      <th>actual</th>\n",
       "      <th>error</th>\n",
       "    </tr>\n",
       "  </thead>\n",
       "  <tbody>\n",
       "    <tr>\n",
       "      <th>6301</th>\n",
       "      <td>2016-01-04</td>\n",
       "      <td>117.807656</td>\n",
       "      <td>116.670708</td>\n",
       "      <td>1.136948</td>\n",
       "    </tr>\n",
       "    <tr>\n",
       "      <th>6302</th>\n",
       "      <td>2016-01-05</td>\n",
       "      <td>116.827539</td>\n",
       "      <td>116.100990</td>\n",
       "      <td>0.726549</td>\n",
       "    </tr>\n",
       "    <tr>\n",
       "      <th>6303</th>\n",
       "      <td>2016-01-06</td>\n",
       "      <td>116.329464</td>\n",
       "      <td>114.899315</td>\n",
       "      <td>1.430149</td>\n",
       "    </tr>\n",
       "    <tr>\n",
       "      <th>6304</th>\n",
       "      <td>2016-01-07</td>\n",
       "      <td>115.088759</td>\n",
       "      <td>111.623604</td>\n",
       "      <td>3.465155</td>\n",
       "    </tr>\n",
       "    <tr>\n",
       "      <th>6305</th>\n",
       "      <td>2016-01-08</td>\n",
       "      <td>111.852084</td>\n",
       "      <td>110.288376</td>\n",
       "      <td>1.563708</td>\n",
       "    </tr>\n",
       "  </tbody>\n",
       "</table>\n",
       "</div>"
      ],
      "text/plain": [
       "            date        pred      actual     error\n",
       "6301  2016-01-04  117.807656  116.670708  1.136948\n",
       "6302  2016-01-05  116.827539  116.100990  0.726549\n",
       "6303  2016-01-06  116.329464  114.899315  1.430149\n",
       "6304  2016-01-07  115.088759  111.623604  3.465155\n",
       "6305  2016-01-08  111.852084  110.288376  1.563708"
      ]
     },
     "execution_count": 8,
     "metadata": {},
     "output_type": "execute_result"
    }
   ],
   "source": [
    "df_pred_hd = pd.DataFrame() \n",
    "df_pred_hd['date'] = test_dates\n",
    "df_pred_hd['pred'] =  lm_hd_pred\n",
    "df_pred_hd['actual'] =  y_test_hd.values\n",
    "df_pred_hd['error'] = df_pred_hd['pred'] - df_pred_hd['actual']\n",
    "print(df_pred_hd.shape)\n",
    "df_pred_hd.head()"
   ]
  },
  {
   "cell_type": "code",
   "execution_count": 9,
   "metadata": {},
   "outputs": [
    {
     "data": {
      "text/plain": [
       "(array([ 7., 13., 45., 82., 62., 27.,  7.,  5.,  3.,  1.]),\n",
       " array([-3.33888976, -2.43769782, -1.53650587, -0.63531392,  0.26587803,\n",
       "         1.16706998,  2.06826192,  2.96945387,  3.87064582,  4.77183777,\n",
       "         5.67302971]),\n",
       " <a list of 10 Patch objects>)"
      ]
     },
     "execution_count": 9,
     "metadata": {},
     "output_type": "execute_result"
    },
    {
     "data": {
      "image/png": "[encoded data removed]",
      "text/plain": [
       "<Figure size 432x288 with 1 Axes>"
      ]
     },
     "metadata": {
      "needs_background": "light"
     },
     "output_type": "display_data"
    }
   ],
   "source": [
    "plt.hist(df_pred_hd['error'])"
   ]
  },
  {
   "cell_type": "code",
   "execution_count": 10,
   "metadata": {},
   "outputs": [
    {
     "data": {
      "text/plain": [
       "[<matplotlib.lines.Line2D at 0x7fef7ab898e0>]"
      ]
     },
     "execution_count": 10,
     "metadata": {},
     "output_type": "execute_result"
    },
    {
     "data": {
      "image/png": "[encoded data removed]",
      "text/plain": [
       "<Figure size 432x288 with 1 Axes>"
      ]
     },
     "metadata": {
      "needs_background": "light"
     },
     "output_type": "display_data"
    }
   ],
   "source": [
    "plt.plot('date', 'pred', data=df_pred_hd, marker='', color = 'green')\n",
    "plt.plot('date', 'actual', data=df_pred_hd, marker='', color = 'red')"
   ]
  },
  {
   "cell_type": "code",
   "execution_count": 11,
   "metadata": {},
   "outputs": [
    {
     "data": {
      "text/plain": [
       "[<matplotlib.lines.Line2D at 0x7fef7d1c7cd0>]"
      ]
     },
     "execution_count": 11,
     "metadata": {},
     "output_type": "execute_result"
    },
    {
     "data": {
      "image/png": "[encoded data removed]",
      "text/plain": [
       "<Figure size 432x288 with 1 Axes>"
      ]
     },
     "metadata": {
      "needs_background": "light"
     },
     "output_type": "display_data"
    }
   ],
   "source": [
    "plt.plot('date', 'error', data=df_pred_hd)"
   ]
  },
  {
   "cell_type": "markdown",
   "metadata": {},
   "source": [
    "## Predict up or down price movement and evaluate"
   ]
  },
  {
   "cell_type": "code",
   "execution_count": 12,
   "metadata": {},
   "outputs": [
    {
     "name": "stdout",
     "output_type": "stream",
     "text": [
      "(252, 6)\n"
     ]
    },
    {
     "data": {
      "text/html": [
       "<div>\n",
       "<style scoped>\n",
       "    .dataframe tbody tr th:only-of-type {\n",
       "        vertical-align: middle;\n",
       "    }\n",
       "\n",
       "    .dataframe tbody tr th {\n",
       "        vertical-align: top;\n",
       "    }\n",
       "\n",
       "    .dataframe thead th {\n",
       "        text-align: right;\n",
       "    }\n",
       "</style>\n",
       "<table border=\"1\" class=\"dataframe\">\n",
       "  <thead>\n",
       "    <tr style=\"text-align: right;\">\n",
       "      <th></th>\n",
       "      <th>date</th>\n",
       "      <th>pred</th>\n",
       "      <th>actual</th>\n",
       "      <th>error</th>\n",
       "      <th>adj.close.hd.up</th>\n",
       "      <th>adj.close.hd.lag1</th>\n",
       "    </tr>\n",
       "  </thead>\n",
       "  <tbody>\n",
       "    <tr>\n",
       "      <th>0</th>\n",
       "      <td>2016-01-04</td>\n",
       "      <td>117.807656</td>\n",
       "      <td>116.670708</td>\n",
       "      <td>1.136948</td>\n",
       "      <td>0.0</td>\n",
       "      <td>117.721062</td>\n",
       "    </tr>\n",
       "    <tr>\n",
       "      <th>1</th>\n",
       "      <td>2016-01-05</td>\n",
       "      <td>116.827539</td>\n",
       "      <td>116.100990</td>\n",
       "      <td>0.726549</td>\n",
       "      <td>0.0</td>\n",
       "      <td>116.670708</td>\n",
       "    </tr>\n",
       "    <tr>\n",
       "      <th>2</th>\n",
       "      <td>2016-01-06</td>\n",
       "      <td>116.329464</td>\n",
       "      <td>114.899315</td>\n",
       "      <td>1.430149</td>\n",
       "      <td>0.0</td>\n",
       "      <td>116.100990</td>\n",
       "    </tr>\n",
       "    <tr>\n",
       "      <th>3</th>\n",
       "      <td>2016-01-07</td>\n",
       "      <td>115.088759</td>\n",
       "      <td>111.623604</td>\n",
       "      <td>3.465155</td>\n",
       "      <td>0.0</td>\n",
       "      <td>114.899315</td>\n",
       "    </tr>\n",
       "    <tr>\n",
       "      <th>4</th>\n",
       "      <td>2016-01-08</td>\n",
       "      <td>111.852084</td>\n",
       "      <td>110.288376</td>\n",
       "      <td>1.563708</td>\n",
       "      <td>0.0</td>\n",
       "      <td>111.623604</td>\n",
       "    </tr>\n",
       "  </tbody>\n",
       "</table>\n",
       "</div>"
      ],
      "text/plain": [
       "         date        pred      actual     error  adj.close.hd.up  \\\n",
       "0  2016-01-04  117.807656  116.670708  1.136948              0.0   \n",
       "1  2016-01-05  116.827539  116.100990  0.726549              0.0   \n",
       "2  2016-01-06  116.329464  114.899315  1.430149              0.0   \n",
       "3  2016-01-07  115.088759  111.623604  3.465155              0.0   \n",
       "4  2016-01-08  111.852084  110.288376  1.563708              0.0   \n",
       "\n",
       "   adj.close.hd.lag1  \n",
       "0         117.721062  \n",
       "1         116.670708  \n",
       "2         116.100990  \n",
       "3         114.899315  \n",
       "4         111.623604  "
      ]
     },
     "execution_count": 12,
     "metadata": {},
     "output_type": "execute_result"
    }
   ],
   "source": [
    "df_pred_hd = df_pred_hd.merge(df[['date', 'adj.close.hd.up', 'adj.close.hd.lag1']])\n",
    "print(df_pred_hd.shape)\n",
    "df_pred_hd.head()"
   ]
  },
  {
   "cell_type": "code",
   "execution_count": 13,
   "metadata": {},
   "outputs": [
    {
     "data": {
      "text/html": [
       "<div>\n",
       "<style scoped>\n",
       "    .dataframe tbody tr th:only-of-type {\n",
       "        vertical-align: middle;\n",
       "    }\n",
       "\n",
       "    .dataframe tbody tr th {\n",
       "        vertical-align: top;\n",
       "    }\n",
       "\n",
       "    .dataframe thead th {\n",
       "        text-align: right;\n",
       "    }\n",
       "</style>\n",
       "<table border=\"1\" class=\"dataframe\">\n",
       "  <thead>\n",
       "    <tr style=\"text-align: right;\">\n",
       "      <th></th>\n",
       "      <th>date</th>\n",
       "      <th>pred</th>\n",
       "      <th>actual</th>\n",
       "      <th>error</th>\n",
       "      <th>adj.close.hd.up</th>\n",
       "      <th>adj.close.hd.lag1</th>\n",
       "      <th>pred_up</th>\n",
       "    </tr>\n",
       "  </thead>\n",
       "  <tbody>\n",
       "    <tr>\n",
       "      <th>0</th>\n",
       "      <td>2016-01-04</td>\n",
       "      <td>117.807656</td>\n",
       "      <td>116.670708</td>\n",
       "      <td>1.136948</td>\n",
       "      <td>0.0</td>\n",
       "      <td>117.721062</td>\n",
       "      <td>0</td>\n",
       "    </tr>\n",
       "    <tr>\n",
       "      <th>1</th>\n",
       "      <td>2016-01-05</td>\n",
       "      <td>116.827539</td>\n",
       "      <td>116.100990</td>\n",
       "      <td>0.726549</td>\n",
       "      <td>0.0</td>\n",
       "      <td>116.670708</td>\n",
       "      <td>0</td>\n",
       "    </tr>\n",
       "    <tr>\n",
       "      <th>2</th>\n",
       "      <td>2016-01-06</td>\n",
       "      <td>116.329464</td>\n",
       "      <td>114.899315</td>\n",
       "      <td>1.430149</td>\n",
       "      <td>0.0</td>\n",
       "      <td>116.100990</td>\n",
       "      <td>0</td>\n",
       "    </tr>\n",
       "    <tr>\n",
       "      <th>3</th>\n",
       "      <td>2016-01-07</td>\n",
       "      <td>115.088759</td>\n",
       "      <td>111.623604</td>\n",
       "      <td>3.465155</td>\n",
       "      <td>0.0</td>\n",
       "      <td>114.899315</td>\n",
       "      <td>0</td>\n",
       "    </tr>\n",
       "    <tr>\n",
       "      <th>4</th>\n",
       "      <td>2016-01-08</td>\n",
       "      <td>111.852084</td>\n",
       "      <td>110.288376</td>\n",
       "      <td>1.563708</td>\n",
       "      <td>0.0</td>\n",
       "      <td>111.623604</td>\n",
       "      <td>0</td>\n",
       "    </tr>\n",
       "  </tbody>\n",
       "</table>\n",
       "</div>"
      ],
      "text/plain": [
       "         date        pred      actual     error  adj.close.hd.up  \\\n",
       "0  2016-01-04  117.807656  116.670708  1.136948              0.0   \n",
       "1  2016-01-05  116.827539  116.100990  0.726549              0.0   \n",
       "2  2016-01-06  116.329464  114.899315  1.430149              0.0   \n",
       "3  2016-01-07  115.088759  111.623604  3.465155              0.0   \n",
       "4  2016-01-08  111.852084  110.288376  1.563708              0.0   \n",
       "\n",
       "   adj.close.hd.lag1  pred_up  \n",
       "0         117.721062        0  \n",
       "1         116.670708        0  \n",
       "2         116.100990        0  \n",
       "3         114.899315        0  \n",
       "4         111.623604        0  "
      ]
     },
     "execution_count": 13,
     "metadata": {},
     "output_type": "execute_result"
    }
   ],
   "source": [
    "threshold = 0.005\n",
    "df_pred_hd['pred_up'] = 1*(df_pred_hd['pred'] > (1+threshold)*df_pred_hd['adj.close.hd.lag1'])\n",
    "df_pred_hd.head()"
   ]
  },
  {
   "cell_type": "code",
   "execution_count": null,
   "metadata": {},
   "outputs": [],
   "source": [
    "from sklearn.metrics import confusion_matrix, f1_score\n",
    "\n",
    "def score_threshold_model(y_true, y_pred):\n",
    "    f1 = f1_score(y_true = y_true, y_pred = y_pred)\n",
    "    return f1\n",
    "\n",
    "#def score_threshold_model(y_true, y_pred):\n",
    "#    f1 = np.corrcoef(y_true, y_pred)\n",
    "#   return f1[0,1]\n",
    "\n",
    "def threshold_model(y_true, y_pred, close_lag1):\n",
    "    \"\"\"\n",
    "    y_test: binary target\n",
    "    y_pred: regression predictions\n",
    "    \"\"\"\n",
    "    threshold = -.5\n",
    "    score = -np.inf\n",
    "\n",
    "    while threshold < .1:\n",
    "        y_pred_thresholded = 1*(y_pred > (1+threshold)*close_lag1)\n",
    "        _score = score_threshold_model(y_true, y_pred_thresholded)\n",
    "        if _score > score:\n",
    "            score = _score\n",
    "        #print(f\"t: {threshold}, score = {score}\")\n",
    "        threshold += 0.01\n",
    "    print(threshold)\n",
    "    return y_pred_thresholded\n",
    "\n",
    "y_pred = threshold_model(y_true=df_pred_hd['adj.close.hd.up'], \n",
    "                y_pred=df_pred_hd['pred'], \n",
    "                close_lag1=df_pred_hd['adj.close.hd.lag1'])\n",
    "\n",
    "y_pred.describe()"
   ]
  },
  {
   "cell_type": "code",
   "execution_count": 19,
   "metadata": {},
   "outputs": [
    {
     "name": "stdout",
     "output_type": "stream",
     "text": [
      "(252, 10)\n"
     ]
    },
    {
     "data": {
      "text/html": [
       "<div>\n",
       "<style scoped>\n",
       "    .dataframe tbody tr th:only-of-type {\n",
       "        vertical-align: middle;\n",
       "    }\n",
       "\n",
       "    .dataframe tbody tr th {\n",
       "        vertical-align: top;\n",
       "    }\n",
       "\n",
       "    .dataframe thead th {\n",
       "        text-align: right;\n",
       "    }\n",
       "</style>\n",
       "<table border=\"1\" class=\"dataframe\">\n",
       "  <thead>\n",
       "    <tr style=\"text-align: right;\">\n",
       "      <th></th>\n",
       "      <th>date</th>\n",
       "      <th>pred</th>\n",
       "      <th>actual</th>\n",
       "      <th>error</th>\n",
       "      <th>adj.close.hd.up</th>\n",
       "      <th>adj.close.hd.lag1</th>\n",
       "      <th>pred_up</th>\n",
       "      <th>open.hd</th>\n",
       "      <th>adj.close.hd</th>\n",
       "      <th>close.hd</th>\n",
       "    </tr>\n",
       "  </thead>\n",
       "  <tbody>\n",
       "    <tr>\n",
       "      <th>0</th>\n",
       "      <td>2016-01-04</td>\n",
       "      <td>117.807656</td>\n",
       "      <td>116.670708</td>\n",
       "      <td>1.136948</td>\n",
       "      <td>0.0</td>\n",
       "      <td>117.721062</td>\n",
       "      <td>0</td>\n",
       "      <td>130.110001</td>\n",
       "      <td>116.670708</td>\n",
       "      <td>131.070007</td>\n",
       "    </tr>\n",
       "    <tr>\n",
       "      <th>1</th>\n",
       "      <td>2016-01-05</td>\n",
       "      <td>116.827539</td>\n",
       "      <td>116.100990</td>\n",
       "      <td>0.726549</td>\n",
       "      <td>0.0</td>\n",
       "      <td>116.670708</td>\n",
       "      <td>0</td>\n",
       "      <td>131.149994</td>\n",
       "      <td>116.100990</td>\n",
       "      <td>130.429993</td>\n",
       "    </tr>\n",
       "    <tr>\n",
       "      <th>2</th>\n",
       "      <td>2016-01-06</td>\n",
       "      <td>116.329464</td>\n",
       "      <td>114.899315</td>\n",
       "      <td>1.430149</td>\n",
       "      <td>0.0</td>\n",
       "      <td>116.100990</td>\n",
       "      <td>0</td>\n",
       "      <td>129.000000</td>\n",
       "      <td>114.899315</td>\n",
       "      <td>129.080002</td>\n",
       "    </tr>\n",
       "    <tr>\n",
       "      <th>3</th>\n",
       "      <td>2016-01-07</td>\n",
       "      <td>115.088759</td>\n",
       "      <td>111.623604</td>\n",
       "      <td>3.465155</td>\n",
       "      <td>0.0</td>\n",
       "      <td>114.899315</td>\n",
       "      <td>0</td>\n",
       "      <td>126.930000</td>\n",
       "      <td>111.623604</td>\n",
       "      <td>125.400002</td>\n",
       "    </tr>\n",
       "    <tr>\n",
       "      <th>4</th>\n",
       "      <td>2016-01-08</td>\n",
       "      <td>111.852084</td>\n",
       "      <td>110.288376</td>\n",
       "      <td>1.563708</td>\n",
       "      <td>0.0</td>\n",
       "      <td>111.623604</td>\n",
       "      <td>0</td>\n",
       "      <td>126.440002</td>\n",
       "      <td>110.288376</td>\n",
       "      <td>123.900002</td>\n",
       "    </tr>\n",
       "  </tbody>\n",
       "</table>\n",
       "</div>"
      ],
      "text/plain": [
       "         date        pred      actual     error  adj.close.hd.up  \\\n",
       "0  2016-01-04  117.807656  116.670708  1.136948              0.0   \n",
       "1  2016-01-05  116.827539  116.100990  0.726549              0.0   \n",
       "2  2016-01-06  116.329464  114.899315  1.430149              0.0   \n",
       "3  2016-01-07  115.088759  111.623604  3.465155              0.0   \n",
       "4  2016-01-08  111.852084  110.288376  1.563708              0.0   \n",
       "\n",
       "   adj.close.hd.lag1  pred_up     open.hd  adj.close.hd    close.hd  \n",
       "0         117.721062        0  130.110001    116.670708  131.070007  \n",
       "1         116.670708        0  131.149994    116.100990  130.429993  \n",
       "2         116.100990        0  129.000000    114.899315  129.080002  \n",
       "3         114.899315        0  126.930000    111.623604  125.400002  \n",
       "4         111.623604        0  126.440002    110.288376  123.900002  "
      ]
     },
     "execution_count": 19,
     "metadata": {},
     "output_type": "execute_result"
    }
   ],
   "source": [
    "#df_pred_hd = df_pred_hd.merge(df[['date', 'close.hd']], on = 'date')\n",
    "\n",
    "print(df_pred_hd.shape)\n",
    "df_pred_hd.to_csv(\"../data/predictions.csv\")\n",
    "df_pred_hd.head()"
   ]
  },
  {
   "cell_type": "code",
   "execution_count": null,
   "metadata": {},
   "outputs": [],
   "source": [
    "y_pred = df_pred_hd['pred'] # raw regression predictions\n",
    "y_true = df_pred_hd['adj.close.hd.up']\n",
    "close_lag1 = df_pred_hd['adj.close.hd.lag1']\n",
    "\n",
    "threshold = 0\n",
    "x = 1*(y_pred > close_lag1*(1+threshold))\n",
    "print(score_threshold_model(y_true, x))\n",
    "x.hist()\n",
    "\n",
    "\n",
    "threshold_model(y_true=df_pred_hd['adj.close.hd.up'], \n",
    "                y_pred=df_pred_hd['pred'], \n",
    "                close_lag1=df_pred_hd['adj.close.hd.lag1'])"
   ]
  },
  {
   "cell_type": "code",
   "execution_count": 16,
   "metadata": {},
   "outputs": [
    {
     "ename": "NameError",
     "evalue": "name 'confusion_matrix' is not defined",
     "output_type": "error",
     "traceback": [
      "\u001b[0;31m---------------------------------------------------------------------------\u001b[0m",
      "\u001b[0;31mNameError\u001b[0m                                 Traceback (most recent call last)",
      "\u001b[0;32m<ipython-input-16-a74c257bdf62>\u001b[0m in \u001b[0;36m<module>\u001b[0;34m\u001b[0m\n\u001b[1;32m      1\u001b[0m \u001b[0;31m#By definition, entry i,j in a confusion matrix is the number of observations\u001b[0m\u001b[0;34m\u001b[0m\u001b[0;34m\u001b[0m\u001b[0;34m\u001b[0m\u001b[0m\n\u001b[1;32m      2\u001b[0m \u001b[0;31m#actually in group i, but predicted to be in group j.\u001b[0m\u001b[0;34m\u001b[0m\u001b[0;34m\u001b[0m\u001b[0;34m\u001b[0m\u001b[0m\n\u001b[0;32m----> 3\u001b[0;31m \u001b[0mconfusion_matrix\u001b[0m\u001b[0;34m(\u001b[0m\u001b[0mdf_pred_hd\u001b[0m\u001b[0;34m[\u001b[0m\u001b[0;34m'adj.close.hd.up'\u001b[0m\u001b[0;34m]\u001b[0m\u001b[0;34m,\u001b[0m \u001b[0mdf_pred_hd\u001b[0m\u001b[0;34m[\u001b[0m\u001b[0;34m'pred_up'\u001b[0m\u001b[0;34m]\u001b[0m\u001b[0;34m)\u001b[0m\u001b[0;34m\u001b[0m\u001b[0;34m\u001b[0m\u001b[0m\n\u001b[0m",
      "\u001b[0;31mNameError\u001b[0m: name 'confusion_matrix' is not defined"
     ]
    }
   ],
   "source": [
    "\n",
    "#By definition, entry i,j in a confusion matrix is the number of observations \n",
    "#actually in group i, but predicted to be in group j.\n",
    "confusion_matrix(df_pred_hd['adj.close.hd.up'], df_pred_hd['pred_up'])\n"
   ]
  },
  {
   "cell_type": "code",
   "execution_count": 15,
   "metadata": {},
   "outputs": [
    {
     "ename": "NameError",
     "evalue": "name 'sklearn' is not defined",
     "output_type": "error",
     "traceback": [
      "\u001b[0;31m---------------------------------------------------------------------------\u001b[0m",
      "\u001b[0;31mNameError\u001b[0m                                 Traceback (most recent call last)",
      "\u001b[0;32m<ipython-input-15-e866e60ed5f8>\u001b[0m in \u001b[0;36m<module>\u001b[0;34m\u001b[0m\n\u001b[1;32m      1\u001b[0m \u001b[0;32mfrom\u001b[0m \u001b[0msklearn\u001b[0m\u001b[0;34m.\u001b[0m\u001b[0mmetrics\u001b[0m \u001b[0;32mimport\u001b[0m \u001b[0mplot_confusion_matrix\u001b[0m\u001b[0;34m\u001b[0m\u001b[0;34m\u001b[0m\u001b[0m\n\u001b[0;32m----> 2\u001b[0;31m sklearn.metrics.plot_confusion_matrix(estimator, \n\u001b[0m\u001b[1;32m      3\u001b[0m                                       \u001b[0mX\u001b[0m\u001b[0;34m,\u001b[0m \u001b[0my_true\u001b[0m\u001b[0;34m,\u001b[0m\u001b[0;34m\u001b[0m\u001b[0;34m\u001b[0m\u001b[0m\n\u001b[1;32m      4\u001b[0m                                       \u001b[0mlabels\u001b[0m\u001b[0;34m=\u001b[0m\u001b[0;32mNone\u001b[0m\u001b[0;34m,\u001b[0m\u001b[0;34m\u001b[0m\u001b[0;34m\u001b[0m\u001b[0m\n\u001b[1;32m      5\u001b[0m                                       \u001b[0msample_weight\u001b[0m\u001b[0;34m=\u001b[0m\u001b[0;32mNone\u001b[0m\u001b[0;34m,\u001b[0m\u001b[0;34m\u001b[0m\u001b[0;34m\u001b[0m\u001b[0m\n",
      "\u001b[0;31mNameError\u001b[0m: name 'sklearn' is not defined"
     ]
    }
   ],
   "source": [
    "from sklearn.metrics import plot_confusion_matrix\n",
    "sklearn.metrics.plot_confusion_matrix(estimator, \n",
    "                                      X, y_true, \n",
    "                                      labels=None, \n",
    "                                      sample_weight=None, \n",
    "                                      normalize=None, \n",
    "                                      display_labels=None, \n",
    "                                      include_values=True, \n",
    "                                      xticks_rotation='horizontal', \n",
    "                                      values_format=None, \n",
    "                                      cmap='viridis', \n",
    "                                      ax=None, \n",
    "                                      colorbar=True)"
   ]
  },
  {
   "cell_type": "code",
   "execution_count": null,
   "metadata": {},
   "outputs": [],
   "source": []
  }
 ],
 "metadata": {
  "kernelspec": {
   "display_name": "Python 3",
   "language": "python",
   "name": "python3"
  },
  "language_info": {
   "codemirror_mode": {
    "name": "ipython",
    "version": 3
   },
   "file_extension": ".py",
   "mimetype": "text/x-python",
   "name": "python",
   "nbconvert_exporter": "python",
   "pygments_lexer": "ipython3",
   "version": "3.8.3"
  }
 },
 "nbformat": 4,
 "nbformat_minor": 4
}
