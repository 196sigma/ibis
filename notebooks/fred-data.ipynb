{
 "cells": [
  {
   "cell_type": "code",
   "execution_count": null,
   "metadata": {},
   "outputs": [],
   "source": [
    "!ls"
   ]
  },
  {
   "cell_type": "code",
   "execution_count": null,
   "metadata": {},
   "outputs": [],
   "source": [
    "#%pip install fredapi"
   ]
  },
  {
   "cell_type": "code",
   "execution_count": null,
   "metadata": {},
   "outputs": [],
   "source": [
    "from fredapi import Fred\n",
    "import pandas as pd\n",
    "\n",
    "API_KEY = open(\"/home/reggie/Dropbox/API_KEYS/FRED-API-KEY\",\"r\").readlines()[0].strip()\n",
    "API_KEY"
   ]
  },
  {
   "cell_type": "code",
   "execution_count": null,
   "metadata": {},
   "outputs": [],
   "source": []
  },
  {
   "cell_type": "code",
   "execution_count": null,
   "metadata": {},
   "outputs": [],
   "source": [
    "fred = Fred(api_key=API_KEY)\n",
    "data = fred.get_series('SP500')\n",
    "data"
   ]
  },
  {
   "cell_type": "code",
   "execution_count": null,
   "metadata": {},
   "outputs": [],
   "source": [
    "MAX_SERIES = 154"
   ]
  },
  {
   "cell_type": "code",
   "execution_count": null,
   "metadata": {},
   "outputs": [],
   "source": [
    "df = fred.search_by_category(1)\n",
    "for i in range(2,MAX_SERIES+1):\n",
    "    try:\n",
    "        df_ = fred.search_by_category(i)\n",
    "        df = pd.concat([df, df_])\n",
    "        print(df.shape)\n",
    "    except ValueError:\n",
    "        print(\"No series \", i)\n",
    "        continue"
   ]
  },
  {
   "cell_type": "code",
   "execution_count": null,
   "metadata": {},
   "outputs": [],
   "source": [
    "df_monthly = df[df[\"frequency\"]==\"Monthly\"]\n",
    "print(df_monthly.shape)\n",
    "df_monthly.head()"
   ]
  },
  {
   "cell_type": "code",
   "execution_count": null,
   "metadata": {},
   "outputs": [],
   "source": [
    "df_monthly_nsa = df_monthly[df_monthly[\"seasonal_adjustment_short\"]==\"NSA\"]\n",
    "print(df_monthly_nsa.shape)"
   ]
  },
  {
   "cell_type": "code",
   "execution_count": null,
   "metadata": {},
   "outputs": [],
   "source": [
    "s = list(df_monthly[\"id\"])[0]\n",
    "print(s)\n",
    "s_df = fred.get_series_first_release(s)\n",
    "s_df = s_df.reset_index()\n",
    "s_df.columns = [\"date\",s]\n",
    "s_df.head()"
   ]
  },
  {
   "cell_type": "code",
   "execution_count": null,
   "metadata": {},
   "outputs": [],
   "source": [
    "s = list(df_monthly_nsa[\"id\"])[0]\n",
    "print(s)\n",
    "s_df = fred.get_series_first_release(s)\n",
    "s_df = s_df.reset_index()\n",
    "s_df.columns = [\"date\",s]\n",
    "print(s_df.shape)\n",
    "\n",
    "for s in list(df_monthly_nsa[\"id\"])[1:]:\n",
    "    print(s)\n",
    "    s_df_ = fred.get_series_first_release(s)\n",
    "    s_df_ = s_df_.reset_index()\n",
    "    s_df_.columns = [\"date\",s]\n",
    "    s_df = pd.merge(s_df, s_df_)\n",
    "    print(s_df.shape)"
   ]
  },
  {
   "cell_type": "code",
   "execution_count": null,
   "metadata": {},
   "outputs": [],
   "source": [
    "print(s_df.shape)\n",
    "s_df.head()\n"
   ]
  },
  {
   "cell_type": "code",
   "execution_count": null,
   "metadata": {},
   "outputs": [],
   "source": [
    "sp500 = fred.get_series(\"SP500\")\n",
    "sp500 = sp500.reset_index()\n",
    "sp500.columns = ['date', 'sp500']\n",
    "print(sp500.shape)\n",
    "sp500.head()"
   ]
  },
  {
   "cell_type": "code",
   "execution_count": null,
   "metadata": {},
   "outputs": [],
   "source": [
    "x = pd.merge(s_df, sp500)\n",
    "print(x.shape)\n",
    "x.head()"
   ]
  },
  {
   "cell_type": "code",
   "execution_count": null,
   "metadata": {},
   "outputs": [],
   "source": [
    "x['sp500_lead1'] = x['sp500'].shift(-1)\n",
    "x.head()"
   ]
  },
  {
   "cell_type": "code",
   "execution_count": null,
   "metadata": {},
   "outputs": [],
   "source": [
    "x.to_csv(\"../data/monthly_sp500_modeling.csv\", index=False)"
   ]
  },
  {
   "cell_type": "code",
   "execution_count": null,
   "metadata": {},
   "outputs": [],
   "source": []
  }
 ],
 "metadata": {
  "kernelspec": {
   "display_name": "Python 3",
   "language": "python",
   "name": "python3"
  },
  "language_info": {
   "codemirror_mode": {
    "name": "ipython",
    "version": 3
   },
   "file_extension": ".py",
   "mimetype": "text/x-python",
   "name": "python",
   "nbconvert_exporter": "python",
   "pygments_lexer": "ipython3",
   "version": "3.11.0"
  }
 },
 "nbformat": 4,
 "nbformat_minor": 2
}
