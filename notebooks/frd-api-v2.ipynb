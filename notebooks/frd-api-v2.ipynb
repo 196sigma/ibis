{
 "cells": [
  {
   "cell_type": "code",
   "execution_count": null,
   "metadata": {},
   "outputs": [],
   "source": [
    "import os\n",
    "import shutil\n",
    "from datetime import datetime, timedelta\n",
    "import urllib\n",
    "import zipfile\n",
    "import matplotlib.pyplot as plt\n",
    "import requests\n",
    "import pandas as pd\n",
    "import requests\n",
    "import zipfile\n",
    "from io import BytesIO\n",
    "from tqdm.notebook import tqdm"
   ]
  },
  {
   "cell_type": "markdown",
   "metadata": {},
   "source": [
    "# Environment Variables"
   ]
  },
  {
   "cell_type": "code",
   "execution_count": null,
   "metadata": {},
   "outputs": [],
   "source": [
    "COMPUTING_ENV = 'aws' # must set to \"local\" or \"remote\" before running"
   ]
  },
  {
   "cell_type": "code",
   "execution_count": null,
   "metadata": {},
   "outputs": [],
   "source": [
    "if COMPUTING_ENV == 'windows':\n",
    "    WORKING_DIR = \"C:\\\\Users\\\\regin\\\\Dropbox\\\\ibis\"\n",
    "    API_KEYS_DIR = \"C:\\\\Users\\\\regin\\\\Dropbox\\\\API_KEYS\"\n",
    "elif COMPUTING_ENV == 'ubuntu':\n",
    "    WORKING_DIR = \"/home/reggie//Dropbox/ibis\"\n",
    "    API_KEYS_DIR = \"/home/reggie/Dropbox/API_KEYS\"\n",
    "elif COMPUTING_ENV == 'aws':\n",
    "    WORKING_DIR = \"/home/ubuntu/ibis\"\n",
    "    API_KEYS_DIR = \"/home/ubuntu/API_KEYS\"\n",
    "\n",
    "DATA_DIR = os.path.join(WORKING_DIR, \"data\")\n",
    "FRD_DATA_DIR = os.path.join(DATA_DIR, 'frd-historical')\n",
    "\n",
    "stock_download_directories = pd.read_csv(os.path.join(FRD_DATA_DIR, 'stock-download-directories.csv'))\n",
    "stock_download_directories"
   ]
  },
  {
   "cell_type": "code",
   "execution_count": null,
   "metadata": {},
   "outputs": [],
   "source": [
    "timeframes = [\"1min\", \"5min\", \"daily\", \"weekly\", \"monthly\"]\n",
    "letters = \"ABCDEFGHIJKLMNOPQRSTUVWXYZ\"\n",
    "\n",
    "print(f\"Working directory:\\n\\t{WORKING_DIR}\")\n",
    "print(f\"Data directory:\\n\\t{DATA_DIR}\")\n",
    "print(f\"FRD data directory:\\n\\t{FRD_DATA_DIR}\")\n",
    "\n",
    "# make dirs\n",
    "for d in [DATA_DIR, FRD_DATA_DIR,]:\n",
    "    if not os.path.exists(d):\n",
    "        print(f\"Creating {d}\")\n",
    "        os.makedirs(d)\n",
    "\n",
    "\n",
    "\n",
    "FRD_USER_ID = open(os.path.join(API_KEYS_DIR, 'FRD-USER-ID')).read().strip()\n",
    "print(f\"FRD User ID: {FRD_USER_ID}\")"
   ]
  },
  {
   "cell_type": "markdown",
   "metadata": {},
   "source": [
    "# Utilities"
   ]
  },
  {
   "cell_type": "code",
   "execution_count": 123,
   "metadata": {},
   "outputs": [],
   "source": [
    "def download_frd_data(params, zips_dir, overwrite=False):\n",
    "    period = params['period']\n",
    "    adjustment = params['adjustment']\n",
    "    timeframe = params['timeframe']\n",
    "\n",
    "    if period == 'full':\n",
    "        ticker_range = params['ticker_range']\n",
    "        zip_fp = os.path.join(zips_dir, f\"{ticker_range}_{period}_{adjustment}_{timeframe}.zip\")\n",
    "    else:\n",
    "        zip_fp = os.path.join(zips_dir, f\"{period}_{adjustment}_{timeframe}.zip\")\n",
    "\n",
    "    if os.path.exists(zip_fp) and not overwrite:\n",
    "        print(f\"File already exists: {zip_fp}\")\n",
    "        return\n",
    "    \n",
    "    base_url = \"https://firstratedata.com/api/data_file\"\n",
    "    \n",
    "    response = requests.get(base_url, params=params)\n",
    "    print(response.url)\n",
    "    if response.status_code == 200:      \n",
    "        with open(zip_fp, 'wb') as file:\n",
    "            file.write(response.content)\n",
    "        print(f\"ZIP file saved: {zip_fp}\")\n",
    "    else:\n",
    "        print(f\"Failed to download data: {response.status_code}\")\n",
    "\n",
    "def extract_frd_zip(\n",
    "        src_zips_dir, \n",
    "        dest_csv_dir, \n",
    "        ticker_first_letter='', \n",
    "        period='full', \n",
    "        adjustment='adj_splitdiv', \n",
    "        timeframe='1min', \n",
    "        overwrite=False):\n",
    "    if period == 'full':\n",
    "        src_zip_fp = os.path.join(src_zips_dir, f\"{ticker_first_letter}_{period}_{adjustment}_{timeframe}.zip\")\n",
    "        dest_csv_fp = os.path.join(dest_csv_dir, ticker_first_letter)\n",
    "    else:\n",
    "        src_zip_fp = os.path.join(src_zips_dir, f\"{period}_{adjustment}_{timeframe}.zip\")\n",
    "        dest_csv_fp = dest_csv_dir\n",
    "    dest_dir_size = len(os.listdir(dest_csv_fp))\n",
    "\n",
    "    # extract if overwrite == True or directory is empty\n",
    "    if (dest_dir_size == 0) or overwrite:\n",
    "        if os.path.isfile(src_zip_fp):\n",
    "            print(f\"Extracting {src_zip_fp} to {dest_csv_fp}\")\n",
    "        else:\n",
    "            print(f\"File not found: {src_zip_fp}\")\n",
    "            return\n",
    "        with zipfile.ZipFile(src_zip_fp, 'r') as zip_ref:\n",
    "            zip_ref.extractall(dest_csv_fp)\n",
    "    else:\n",
    "        print(f\"{dest_csv_fp} not empty with {dest_dir_size} files\")\n",
    "        return\n",
    "    \n",
    "def make_zips_and_csv_dirs(params):\n",
    "    data_date = datetime.now().strftime('%Y%m%d')\n",
    "    adjustment = params['adjustment']\n",
    "    timeframe = params['timeframe']\n",
    "    period = params['period']\n",
    "    \n",
    "    _dir = stock_download_directories.query(f\"type == 'stock' & timeframe == '{timeframe}' & adjustment == '{adjustment}'\")['directory'].values[0]\n",
    "    \n",
    "    if period == 'day':\n",
    "        _dir = _dir.replace('stock', f'stock_day_{data_date}')\n",
    "    elif period == 'week':\n",
    "        _dir = _dir.replace('stock', f'stock_week_{data_date}')\n",
    "    elif period == 'month':\n",
    "        _dir = _dir.replace('stock', f'stock_month_{data_date}')\n",
    "    _dir = os.path.join(FRD_DATA_DIR, _dir)\n",
    "    zips_dir = os.path.join(_dir, 'zips')\n",
    "    csv_dir = os.path.join(_dir, 'csv')\n",
    "\n",
    "\n",
    "    return zips_dir, csv_dir"
   ]
  },
  {
   "cell_type": "markdown",
   "metadata": {},
   "source": [
    "# Download Full History"
   ]
  },
  {
   "cell_type": "markdown",
   "metadata": {},
   "source": [
    "## 1 Minute Stock Bars Adjusted for Splits and Dividends"
   ]
  },
  {
   "cell_type": "code",
   "execution_count": null,
   "metadata": {},
   "outputs": [],
   "source": [
    "params = {\n",
    "    \"type\": \"stock\",\n",
    "    \"ticker_range\": \"\",\n",
    "    \"timeframe\": \"1min\",\n",
    "    \"adjustment\": \"adj_splitdiv\",\n",
    "    \"period\": \"full\",\n",
    "    'userid': FRD_USER_ID\n",
    "}"
   ]
  },
  {
   "cell_type": "code",
   "execution_count": null,
   "metadata": {},
   "outputs": [],
   "source": [
    "ZIPS_DIR, CSV_DIR = make_zips_and_csv_dirs(params)\n",
    "print(f\"ZIPS_DIR: {ZIPS_DIR}\")\n",
    "print(f\"CSV_DIR: {CSV_DIR}\")\n",
    "\n",
    "if not os.path.exists(CSV_DIR):\n",
    "    print(f\"Creating {CSV_DIR}\")\n",
    "    os.makedirs(CSV_DIR)\n",
    "else:\n",
    "    print(f\"{CSV_DIR} exists with {len(os.listdir(CSV_DIR))} files\")\n",
    "if not os.path.exists(ZIPS_DIR):\n",
    "    print(f\"Creating {ZIPS_DIR}\")\n",
    "    os.makedirs(ZIPS_DIR)\n",
    "else:\n",
    "    print(f\"{ZIPS_DIR} exists with {len(os.listdir(ZIPS_DIR))} files\")\n",
    "\n",
    "for ticker_first_letter in letters:\n",
    "    ticker_csv_dir = os.path.join(CSV_DIR, ticker_first_letter)\n",
    "    print(ticker_csv_dir)\n",
    "    \n",
    "    if not os.path.exists(ticker_csv_dir):\n",
    "        os.makedirs(ticker_csv_dir)\n",
    "        print(f\"Creating {ticker_csv_dir}\")\n",
    "    else:\n",
    "        print(f\"{ticker_csv_dir} exists with {len(os.listdir(ticker_csv_dir))} files\")"
   ]
  },
  {
   "cell_type": "code",
   "execution_count": null,
   "metadata": {},
   "outputs": [],
   "source": [
    "for ticker_first_letter in tqdm(letters):\n",
    "    params['ticker_range'] = ticker_first_letter\n",
    "    print(f\"Downloading data for {ticker_first_letter}...\")\n",
    "    download_frd_data(params=params, zips_dir=ZIPS_DIR, overwrite=False)"
   ]
  },
  {
   "cell_type": "code",
   "execution_count": null,
   "metadata": {},
   "outputs": [],
   "source": [
    "for letter in tqdm(letters):\n",
    "    extract_frd_zip(\n",
    "        src_zips_dir=ZIPS_DIR, \n",
    "        dest_csv_dir=CSV_DIR,\n",
    "        ticker_first_letter=letter,\n",
    "        period=params['period'],\n",
    "        adjustment=params['adjustment'],\n",
    "        timeframe=params['timeframe'],\n",
    "        overwrite=True\n",
    "    )"
   ]
  },
  {
   "cell_type": "markdown",
   "metadata": {},
   "source": [
    "## 5 Minute Stock Bars Adjusted for Splits and Dividends"
   ]
  },
  {
   "cell_type": "code",
   "execution_count": null,
   "metadata": {},
   "outputs": [],
   "source": [
    "params ={\n",
    "    \"type\": \"stock\",\n",
    "    \"ticker_range\": \"\",\n",
    "    \"timeframe\": \"5min\",\n",
    "    \"adjustment\": \"adj_splitdiv\",\n",
    "    \"period\": \"full\",\n",
    "    'userid': FRD_USER_ID\n",
    "}"
   ]
  },
  {
   "cell_type": "code",
   "execution_count": null,
   "metadata": {},
   "outputs": [],
   "source": [
    "ZIPS_DIR, CSV_DIR = make_zips_and_csv_dirs(params)\n",
    "print(f\"ZIPS_DIR: {ZIPS_DIR}\")\n",
    "print(f\"CSV_DIR: {CSV_DIR}\")\n",
    "\n",
    "if not os.path.exists(CSV_DIR):\n",
    "    print(f\"Creating {CSV_DIR}\")\n",
    "    os.makedirs(CSV_DIR)\n",
    "else:\n",
    "    print(f\"{CSV_DIR} exists with {len(os.listdir(CSV_DIR))} files\")\n",
    "if not os.path.exists(ZIPS_DIR):\n",
    "    print(f\"Creating {ZIPS_DIR}\")\n",
    "    os.makedirs(ZIPS_DIR)\n",
    "else:\n",
    "    print(f\"{ZIPS_DIR} exists with {len(os.listdir(ZIPS_DIR))} files\")\n",
    "\n",
    "for ticker_first_letter in letters:\n",
    "    ticker_csv_dir = os.path.join(CSV_DIR, ticker_first_letter)\n",
    "    print(ticker_csv_dir)\n",
    "    \n",
    "    if not os.path.exists(ticker_csv_dir):\n",
    "        os.makedirs(ticker_csv_dir)\n",
    "        print(f\"Creating {ticker_csv_dir}\")\n",
    "    else:\n",
    "        print(f\"{ticker_csv_dir} exists with {len(os.listdir(ticker_csv_dir))} files\")"
   ]
  },
  {
   "cell_type": "code",
   "execution_count": null,
   "metadata": {},
   "outputs": [],
   "source": [
    "letters = \"ABCDEFGHIJKLMNOPQRSTUVWXYZ\"\n",
    "#letters = ['X', 'Y']\n",
    "for ticker_first_letter in tqdm(letters):\n",
    "    params['ticker_range'] = ticker_first_letter\n",
    "    print(f\"Downloading data for {ticker_first_letter}...\")\n",
    "    download_frd_data(params=params, zips_dir=ZIPS_DIR, overwrite=False)"
   ]
  },
  {
   "cell_type": "code",
   "execution_count": null,
   "metadata": {},
   "outputs": [],
   "source": [
    "for letter in tqdm(letters):\n",
    "    extract_frd_zip(\n",
    "        src_zips_dir=ZIPS_DIR, \n",
    "        dest_csv_dir=CSV_DIR,\n",
    "        ticker_first_letter=letter,\n",
    "        period=params['period'],\n",
    "        adjustment=params['adjustment'],\n",
    "        timeframe=params['timeframe'],\n",
    "        overwrite=False\n",
    "    )"
   ]
  },
  {
   "cell_type": "markdown",
   "metadata": {},
   "source": [
    "# Download Weekly Updates"
   ]
  },
  {
   "cell_type": "markdown",
   "metadata": {},
   "source": [
    "## 1 min"
   ]
  },
  {
   "cell_type": "code",
   "execution_count": 115,
   "metadata": {},
   "outputs": [
    {
     "name": "stdout",
     "output_type": "stream",
     "text": [
      "ZIPS_DIR: /home/ubuntu/ibis/data/frd-historical/stock_week_20240915/adj_splitdiv/1min/zips\n",
      "CSV_DIR: /home/ubuntu/ibis/data/frd-historical/stock_week_20240915/adj_splitdiv/1min/csv\n",
      "/home/ubuntu/ibis/data/frd-historical/stock_week_20240915/adj_splitdiv/1min/csv exists with 0 files\n",
      "/home/ubuntu/ibis/data/frd-historical/stock_week_20240915/adj_splitdiv/1min/zips exists with 0 files\n"
     ]
    }
   ],
   "source": [
    "params ={\n",
    "    \"type\": \"stock\",\n",
    "    \"timeframe\": \"1min\",\n",
    "    \"adjustment\": \"adj_splitdiv\",\n",
    "    \"period\": \"week\",\n",
    "    'userid': FRD_USER_ID\n",
    "}\n",
    "\n",
    "ZIPS_DIR, CSV_DIR = make_zips_and_csv_dirs(params)\n",
    "print(f\"ZIPS_DIR: {ZIPS_DIR}\")\n",
    "print(f\"CSV_DIR: {CSV_DIR}\")\n",
    "\n",
    "if not os.path.exists(CSV_DIR):\n",
    "    print(f\"Creating {CSV_DIR}\")\n",
    "    os.makedirs(CSV_DIR)\n",
    "else:\n",
    "    print(f\"{CSV_DIR} exists with {len(os.listdir(CSV_DIR))} files\")\n",
    "if not os.path.exists(ZIPS_DIR):\n",
    "    print(f\"Creating {ZIPS_DIR}\")\n",
    "    os.makedirs(ZIPS_DIR)\n",
    "else:\n",
    "    print(f\"{ZIPS_DIR} exists with {len(os.listdir(ZIPS_DIR))} files\")"
   ]
  },
  {
   "cell_type": "code",
   "execution_count": 120,
   "metadata": {},
   "outputs": [
    {
     "name": "stdout",
     "output_type": "stream",
     "text": [
      "https://f004.backblazeb2.com/file/frd-apix03/stock_update_week_1min_adjsplitdiv_jabm3fa.zip\n",
      "ZIP file saved: /home/ubuntu/ibis/data/frd-historical/stock_week_20240915/adj_splitdiv/1min/zips/week_adj_splitdiv_1min.zip\n"
     ]
    }
   ],
   "source": [
    "download_frd_data(params=params, zips_dir=ZIPS_DIR, overwrite=False)"
   ]
  },
  {
   "cell_type": "code",
   "execution_count": 124,
   "metadata": {},
   "outputs": [
    {
     "data": {
      "application/vnd.jupyter.widget-view+json": {
       "model_id": "47a6970856de44e2935ab4fae8c80c65",
       "version_major": 2,
       "version_minor": 0
      },
      "text/plain": [
       "  0%|          | 0/2 [00:00<?, ?it/s]"
      ]
     },
     "metadata": {},
     "output_type": "display_data"
    },
    {
     "name": "stdout",
     "output_type": "stream",
     "text": [
      "Extracting /home/ubuntu/ibis/data/frd-historical/stock_week_20240915/adj_splitdiv/1min/zips/week_adj_splitdiv_1min.zip to /home/ubuntu/ibis/data/frd-historical/stock_week_20240915/adj_splitdiv/1min/csv\n",
      "Extracting /home/ubuntu/ibis/data/frd-historical/stock_week_20240915/adj_splitdiv/1min/zips/week_adj_splitdiv_1min.zip to /home/ubuntu/ibis/data/frd-historical/stock_week_20240915/adj_splitdiv/1min/csv\n"
     ]
    }
   ],
   "source": [
    "extract_frd_zip(\n",
    "    src_zips_dir=ZIPS_DIR, \n",
    "    dest_csv_dir=CSV_DIR,\n",
    "    \n",
    "    period=params['period'],\n",
    "    adjustment=params['adjustment'],\n",
    "    timeframe=params['timeframe'],\n",
    "    overwrite=True\n",
    ")"
   ]
  },
  {
   "cell_type": "code",
   "execution_count": 127,
   "metadata": {},
   "outputs": [
    {
     "data": {
      "text/plain": [
       "'/home/ubuntu/ibis/data/frd-historical/stock_week_20240915/adj_splitdiv/1min/csv'"
      ]
     },
     "execution_count": 127,
     "metadata": {},
     "output_type": "execute_result"
    }
   ],
   "source": [
    "CSV_DIR"
   ]
  },
  {
   "cell_type": "code",
   "execution_count": 155,
   "metadata": {},
   "outputs": [
    {
     "name": "stdout",
     "output_type": "stream",
     "text": [
      "/home/ubuntu/ibis/data/frd-historical/stock_week_20240915/adj_splitdiv/1min/csv/RDFN_week_1min_adjsplitdiv.txt\n"
     ]
    },
    {
     "data": {
      "text/html": [
       "<div>\n",
       "<style scoped>\n",
       "    .dataframe tbody tr th:only-of-type {\n",
       "        vertical-align: middle;\n",
       "    }\n",
       "\n",
       "    .dataframe tbody tr th {\n",
       "        vertical-align: top;\n",
       "    }\n",
       "\n",
       "    .dataframe thead th {\n",
       "        text-align: right;\n",
       "    }\n",
       "</style>\n",
       "<table border=\"1\" class=\"dataframe\">\n",
       "  <thead>\n",
       "    <tr style=\"text-align: right;\">\n",
       "      <th></th>\n",
       "      <th>open</th>\n",
       "      <th>high</th>\n",
       "      <th>low</th>\n",
       "      <th>close</th>\n",
       "      <th>volume</th>\n",
       "      <th>ret</th>\n",
       "    </tr>\n",
       "    <tr>\n",
       "      <th>date</th>\n",
       "      <th></th>\n",
       "      <th></th>\n",
       "      <th></th>\n",
       "      <th></th>\n",
       "      <th></th>\n",
       "      <th></th>\n",
       "    </tr>\n",
       "  </thead>\n",
       "  <tbody>\n",
       "    <tr>\n",
       "      <th>2024-09-09 07:11:00</th>\n",
       "      <td>9.4200</td>\n",
       "      <td>9.4200</td>\n",
       "      <td>9.4200</td>\n",
       "      <td>9.4200</td>\n",
       "      <td>500</td>\n",
       "      <td>NaN</td>\n",
       "    </tr>\n",
       "    <tr>\n",
       "      <th>2024-09-09 07:46:00</th>\n",
       "      <td>9.4000</td>\n",
       "      <td>9.4000</td>\n",
       "      <td>9.3500</td>\n",
       "      <td>9.3500</td>\n",
       "      <td>402</td>\n",
       "      <td>-0.007431</td>\n",
       "    </tr>\n",
       "    <tr>\n",
       "      <th>2024-09-09 08:00:00</th>\n",
       "      <td>9.6164</td>\n",
       "      <td>9.6164</td>\n",
       "      <td>9.6164</td>\n",
       "      <td>9.6164</td>\n",
       "      <td>500</td>\n",
       "      <td>0.028492</td>\n",
       "    </tr>\n",
       "    <tr>\n",
       "      <th>2024-09-09 08:06:00</th>\n",
       "      <td>9.4400</td>\n",
       "      <td>9.4400</td>\n",
       "      <td>9.4400</td>\n",
       "      <td>9.4400</td>\n",
       "      <td>10000</td>\n",
       "      <td>-0.018344</td>\n",
       "    </tr>\n",
       "    <tr>\n",
       "      <th>2024-09-09 08:07:00</th>\n",
       "      <td>9.4500</td>\n",
       "      <td>9.4500</td>\n",
       "      <td>9.4500</td>\n",
       "      <td>9.4500</td>\n",
       "      <td>3100</td>\n",
       "      <td>0.001059</td>\n",
       "    </tr>\n",
       "    <tr>\n",
       "      <th>...</th>\n",
       "      <td>...</td>\n",
       "      <td>...</td>\n",
       "      <td>...</td>\n",
       "      <td>...</td>\n",
       "      <td>...</td>\n",
       "      <td>...</td>\n",
       "    </tr>\n",
       "    <tr>\n",
       "      <th>2024-09-13 19:54:00</th>\n",
       "      <td>14.5000</td>\n",
       "      <td>14.5000</td>\n",
       "      <td>14.5000</td>\n",
       "      <td>14.5000</td>\n",
       "      <td>1760</td>\n",
       "      <td>0.000000</td>\n",
       "    </tr>\n",
       "    <tr>\n",
       "      <th>2024-09-13 19:56:00</th>\n",
       "      <td>14.5200</td>\n",
       "      <td>14.5200</td>\n",
       "      <td>14.5200</td>\n",
       "      <td>14.5200</td>\n",
       "      <td>150</td>\n",
       "      <td>0.001379</td>\n",
       "    </tr>\n",
       "    <tr>\n",
       "      <th>2024-09-13 19:57:00</th>\n",
       "      <td>14.5390</td>\n",
       "      <td>14.5390</td>\n",
       "      <td>14.5200</td>\n",
       "      <td>14.5200</td>\n",
       "      <td>530</td>\n",
       "      <td>0.000000</td>\n",
       "    </tr>\n",
       "    <tr>\n",
       "      <th>2024-09-13 19:58:00</th>\n",
       "      <td>14.5380</td>\n",
       "      <td>14.5400</td>\n",
       "      <td>14.5000</td>\n",
       "      <td>14.5000</td>\n",
       "      <td>5716</td>\n",
       "      <td>-0.001377</td>\n",
       "    </tr>\n",
       "    <tr>\n",
       "      <th>2024-09-13 19:59:00</th>\n",
       "      <td>14.4731</td>\n",
       "      <td>14.5000</td>\n",
       "      <td>14.4731</td>\n",
       "      <td>14.5000</td>\n",
       "      <td>2320</td>\n",
       "      <td>0.000000</td>\n",
       "    </tr>\n",
       "  </tbody>\n",
       "</table>\n",
       "<p>2398 rows × 6 columns</p>\n",
       "</div>"
      ],
      "text/plain": [
       "                        open     high      low    close  volume       ret\n",
       "date                                                                     \n",
       "2024-09-09 07:11:00   9.4200   9.4200   9.4200   9.4200     500       NaN\n",
       "2024-09-09 07:46:00   9.4000   9.4000   9.3500   9.3500     402 -0.007431\n",
       "2024-09-09 08:00:00   9.6164   9.6164   9.6164   9.6164     500  0.028492\n",
       "2024-09-09 08:06:00   9.4400   9.4400   9.4400   9.4400   10000 -0.018344\n",
       "2024-09-09 08:07:00   9.4500   9.4500   9.4500   9.4500    3100  0.001059\n",
       "...                      ...      ...      ...      ...     ...       ...\n",
       "2024-09-13 19:54:00  14.5000  14.5000  14.5000  14.5000    1760  0.000000\n",
       "2024-09-13 19:56:00  14.5200  14.5200  14.5200  14.5200     150  0.001379\n",
       "2024-09-13 19:57:00  14.5390  14.5390  14.5200  14.5200     530  0.000000\n",
       "2024-09-13 19:58:00  14.5380  14.5400  14.5000  14.5000    5716 -0.001377\n",
       "2024-09-13 19:59:00  14.4731  14.5000  14.4731  14.5000    2320  0.000000\n",
       "\n",
       "[2398 rows x 6 columns]"
      ]
     },
     "execution_count": 155,
     "metadata": {},
     "output_type": "execute_result"
    }
   ],
   "source": [
    "ticker = 'RDFN'\n",
    "fp = f\"{ticker}_{period}_{timeframe}_{adjustment.replace('_','')}.txt\"\n",
    "fp = os.path.join(CSV_DIR, fp)\n",
    "print(fp)\n",
    "rdfn_df = pd.read_csv(fp, names=['date', 'open', 'high', 'low', 'close', 'volume'])\n",
    "rdfn_df['ret'] = rdfn_df['close'].pct_change()\n",
    "rdfn_df['date'] = pd.to_datetime(rdfn_df['date'])\n",
    "rdfn_df.set_index('date', inplace=True)\n",
    "rdfn_df"
   ]
  },
  {
   "cell_type": "code",
   "execution_count": 146,
   "metadata": {},
   "outputs": [],
   "source": [
    "import matplotlib.pyplot as plt"
   ]
  },
  {
   "cell_type": "code",
   "execution_count": 153,
   "metadata": {},
   "outputs": [
    {
     "data": {
      "image/png": "[encoded data removed]",
      "text/plain": [
       "<Figure size 1200x600 with 1 Axes>"
      ]
     },
     "metadata": {},
     "output_type": "display_data"
    }
   ],
   "source": [
    "# add returns\n",
    "\n",
    "plt.figure(figsize=(12, 6))\n",
    "plt.plot(rdfn_df['ret'].values)\n",
    "plt.show()"
   ]
  },
  {
   "cell_type": "code",
   "execution_count": 161,
   "metadata": {},
   "outputs": [
    {
     "name": "stdout",
     "output_type": "stream",
     "text": [
      "<class 'pandas.core.frame.DataFrame'>\n",
      "DatetimeIndex: 5 entries, 2024-09-09 to 2024-09-13\n",
      "Freq: D\n",
      "Data columns (total 5 columns):\n",
      " #   Column  Non-Null Count  Dtype  \n",
      "---  ------  --------------  -----  \n",
      " 0   open    5 non-null      float64\n",
      " 1   high    5 non-null      float64\n",
      " 2   low     5 non-null      float64\n",
      " 3   close   5 non-null      float64\n",
      " 4   volume  5 non-null      int64  \n",
      "dtypes: float64(4), int64(1)\n",
      "memory usage: 240.0 bytes\n",
      "None\n"
     ]
    },
    {
     "data": {
      "text/html": [
       "<div>\n",
       "<style scoped>\n",
       "    .dataframe tbody tr th:only-of-type {\n",
       "        vertical-align: middle;\n",
       "    }\n",
       "\n",
       "    .dataframe tbody tr th {\n",
       "        vertical-align: top;\n",
       "    }\n",
       "\n",
       "    .dataframe thead th {\n",
       "        text-align: right;\n",
       "    }\n",
       "</style>\n",
       "<table border=\"1\" class=\"dataframe\">\n",
       "  <thead>\n",
       "    <tr style=\"text-align: right;\">\n",
       "      <th></th>\n",
       "      <th>open</th>\n",
       "      <th>high</th>\n",
       "      <th>low</th>\n",
       "      <th>close</th>\n",
       "      <th>volume</th>\n",
       "      <th>ret</th>\n",
       "      <th>intraday_ret</th>\n",
       "    </tr>\n",
       "    <tr>\n",
       "      <th>date</th>\n",
       "      <th></th>\n",
       "      <th></th>\n",
       "      <th></th>\n",
       "      <th></th>\n",
       "      <th></th>\n",
       "      <th></th>\n",
       "      <th></th>\n",
       "    </tr>\n",
       "  </thead>\n",
       "  <tbody>\n",
       "    <tr>\n",
       "      <th>2024-09-09</th>\n",
       "      <td>9.42</td>\n",
       "      <td>10.590</td>\n",
       "      <td>9.30</td>\n",
       "      <td>10.4600</td>\n",
       "      <td>6998002</td>\n",
       "      <td>NaN</td>\n",
       "      <td>0.110403</td>\n",
       "    </tr>\n",
       "    <tr>\n",
       "      <th>2024-09-10</th>\n",
       "      <td>10.33</td>\n",
       "      <td>10.850</td>\n",
       "      <td>10.04</td>\n",
       "      <td>10.8000</td>\n",
       "      <td>4853960</td>\n",
       "      <td>0.032505</td>\n",
       "      <td>0.045499</td>\n",
       "    </tr>\n",
       "    <tr>\n",
       "      <th>2024-09-11</th>\n",
       "      <td>10.83</td>\n",
       "      <td>11.210</td>\n",
       "      <td>10.31</td>\n",
       "      <td>10.9000</td>\n",
       "      <td>5229246</td>\n",
       "      <td>0.009259</td>\n",
       "      <td>0.006464</td>\n",
       "    </tr>\n",
       "    <tr>\n",
       "      <th>2024-09-12</th>\n",
       "      <td>11.08</td>\n",
       "      <td>11.575</td>\n",
       "      <td>10.74</td>\n",
       "      <td>11.5487</td>\n",
       "      <td>5845292</td>\n",
       "      <td>0.059514</td>\n",
       "      <td>0.042301</td>\n",
       "    </tr>\n",
       "    <tr>\n",
       "      <th>2024-09-13</th>\n",
       "      <td>11.63</td>\n",
       "      <td>14.540</td>\n",
       "      <td>11.63</td>\n",
       "      <td>14.5000</td>\n",
       "      <td>16434551</td>\n",
       "      <td>0.255553</td>\n",
       "      <td>0.246776</td>\n",
       "    </tr>\n",
       "  </tbody>\n",
       "</table>\n",
       "</div>"
      ],
      "text/plain": [
       "             open    high    low    close    volume       ret  intraday_ret\n",
       "date                                                                       \n",
       "2024-09-09   9.42  10.590   9.30  10.4600   6998002       NaN      0.110403\n",
       "2024-09-10  10.33  10.850  10.04  10.8000   4853960  0.032505      0.045499\n",
       "2024-09-11  10.83  11.210  10.31  10.9000   5229246  0.009259      0.006464\n",
       "2024-09-12  11.08  11.575  10.74  11.5487   5845292  0.059514      0.042301\n",
       "2024-09-13  11.63  14.540  11.63  14.5000  16434551  0.255553      0.246776"
      ]
     },
     "execution_count": 161,
     "metadata": {},
     "output_type": "execute_result"
    }
   ],
   "source": [
    "# resample to daily values\n",
    "rdfn_daily_df = rdfn_df.resample('D').agg({\n",
    "    'open': 'first',\n",
    "    'high': 'max',\n",
    "    'low': 'min',\n",
    "    'close': 'last',\n",
    "    'volume': 'sum',\n",
    "})\n",
    "print(rdfn_daily_df.info())\n",
    "rdfn_daily_df['close_to_close_ret'] = rdfn_daily_df['close'].pct_change()\n",
    "rdfn_daily_df['intraday_ret'] = rdfn_daily_df['close']/rdfn_daily_df['open'] - 1\n",
    "rdfn_daily_df"
   ]
  },
  {
   "cell_type": "code",
   "execution_count": 149,
   "metadata": {},
   "outputs": [
    {
     "data": {
      "image/png": "[encoded data removed]",
      "text/plain": [
       "<Figure size 1500x700 with 1 Axes>"
      ]
     },
     "metadata": {},
     "output_type": "display_data"
    }
   ],
   "source": [
    "plt.figure(figsize=(15, 7))\n",
    "plt.plot(rdfn_df['open'].values, label='Open')\n",
    "plt.plot(rdfn_df['high'].values, label='High')\n",
    "plt.plot(rdfn_df['low'].values, label='Low')\n",
    "plt.plot(rdfn_df['close'].values, label='Close')\n",
    "plt.legend()\n",
    "plt.title(f\"{ticker} {period}\")\n",
    "plt.show()"
   ]
  }
 ],
 "metadata": {
  "kernelspec": {
   "display_name": "ibis_env",
   "language": "python",
   "name": "python3"
  },
  "language_info": {
   "codemirror_mode": {
    "name": "ipython",
    "version": 3
   },
   "file_extension": ".py",
   "mimetype": "text/x-python",
   "name": "python",
   "nbconvert_exporter": "python",
   "pygments_lexer": "ipython3",
   "version": "3.11.9"
  }
 },
 "nbformat": 4,
 "nbformat_minor": 2
}
