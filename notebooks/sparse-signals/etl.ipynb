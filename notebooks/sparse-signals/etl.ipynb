{
 "cells": [
  {
   "cell_type": "code",
   "execution_count": 2,
   "metadata": {},
   "outputs": [
    {
     "name": "stdout",
     "output_type": "stream",
     "text": [
      "6114 files found in E:/frd-historical/data/stock/1min/csv/\n"
     ]
    }
   ],
   "source": [
    "# supress statsmodels warnings\n",
    "import warnings\n",
    "warnings.filterwarnings('ignore')\n",
    "\n",
    "import os\n",
    "import pandas as pd\n",
    "import numpy as np\n",
    "from datetime import datetime, timedelta\n",
    "import matplotlib.pyplot as plt\n",
    "#from tqdm.notebook import tqdm\n",
    "from tqdm import tqdm\n",
    "from IPython.display import display\n",
    "import pickle\n",
    "\n",
    "\n",
    "_start_year = 2017\n",
    "_end_year = 2017\n",
    "start_year = pd.to_datetime(f\"{_start_year}-01-01 00:00:00\")\n",
    "end_year = pd.to_datetime(f\"{_end_year}-12-31 23:59:59\")\n",
    "\n",
    "N_TICKERS = 300\n",
    "focal_ticker = 'AAPL'\n",
    "\n",
    "asset_type = 'stock'\n",
    "period = '1min'\n",
    "timeframe = 'full'\n",
    "adjustment = 'adjsplitdiv'\n",
    "\n",
    "# check operating system\n",
    "if os.name == 'nt':\n",
    "    CSV_DEST_DIR = f\"E:/frd-historical/data/{asset_type}/{period}/csv/\"\n",
    "else:\n",
    "    CSV_DEST_DIR = f\"/media/reggie/reg_ext/frd-historical/data/{asset_type}/{period}/csv/\"\n",
    "print(f\"{len(os.listdir(CSV_DEST_DIR))} files found in {CSV_DEST_DIR}\")"
   ]
  },
  {
   "cell_type": "code",
   "execution_count": 3,
   "metadata": {},
   "outputs": [],
   "source": [
    "def add_trading_hours(df):\n",
    "    \"\"\"\n",
    "    Add indicator for trading hours\n",
    "    Parameters\n",
    "    ----------\n",
    "    df: pd.DataFrame\n",
    "        Must have index as datetime\n",
    "    \"\"\"\n",
    "    trading_start = 930\n",
    "    trading_end = 1600\n",
    "    df['time'] = df.index.strftime('%H%M').astype(int)\n",
    "    df['is_trading_hour'] = (df['time'] >= trading_start) & (df['time'] <= trading_end)\n",
    "    return df\n",
    "\n",
    "def preprocess_data(data, nsamples=10_000, tickers='all', trading_hours=True):\n",
    "    # Ensure data is correctly formatted\n",
    "    if tickers == 'all':\n",
    "        tickers = list(data.keys())\n",
    "    else:\n",
    "        tickers = tickers\n",
    "    for ticker in data:\n",
    "        data[ticker] = data[ticker].asfreq('1T').fillna(method='ffill')\n",
    "        if nsamples > -1:\n",
    "            data[ticker] = data[ticker].iloc[:nsamples]\n",
    "        if trading_hours:\n",
    "            df = data[ticker].copy()\n",
    "            df = add_trading_hours(df)\n",
    "            data[ticker] = df[df['is_trading_hour']]\n",
    "    return data\n",
    "\n",
    "def calculate_lagged_returns(data: dict, lags: int=3):\n",
    "    for ticker in data:\n",
    "        data[ticker][f'{ticker}_return'] = data[ticker][f'{ticker}_close'].pct_change()\n",
    "        for i in range(1, lags + 1):\n",
    "            # Calculate the lagged returns\n",
    "            data[ticker][f'{ticker}_lag_{i}_return'] = data[ticker][f'{ticker}_close'].shift(1).pct_change(periods=i)\n",
    "    return data"
   ]
  },
  {
   "cell_type": "code",
   "execution_count": 4,
   "metadata": {},
   "outputs": [
    {
     "name": "stderr",
     "output_type": "stream",
     "text": [
      "  0%|          | 0/300 [00:00<?, ?it/s]"
     ]
    },
    {
     "name": "stdout",
     "output_type": "stream",
     "text": [
      "Reading AACG data from file E:/frd-historical/data/stock/1min/csv/AACG_full_1min_adjsplitdiv.txt\n"
     ]
    },
    {
     "name": "stderr",
     "output_type": "stream",
     "text": [
      "  0%|          | 1/300 [00:00<02:07,  2.34it/s]"
     ]
    },
    {
     "name": "stdout",
     "output_type": "stream",
     "text": [
      "Reading AACT data from file E:/frd-historical/data/stock/1min/csv/AACT_full_1min_adjsplitdiv.txt\n",
      "No data found for AACT for period 2017-01-01 00:00:00 to 2017-12-31 23:59:59\n",
      "Reading AADI data from file E:/frd-historical/data/stock/1min/csv/AADI_full_1min_adjsplitdiv.txt\n"
     ]
    },
    {
     "name": "stderr",
     "output_type": "stream",
     "text": [
      "  1%|          | 3/300 [00:01<01:56,  2.54it/s]"
     ]
    },
    {
     "name": "stdout",
     "output_type": "stream",
     "text": [
      "Reading AAL data from file E:/frd-historical/data/stock/1min/csv/AAL_full_1min_adjsplitdiv.txt\n"
     ]
    },
    {
     "name": "stderr",
     "output_type": "stream",
     "text": [
      "  1%|▏         | 4/300 [00:04<07:39,  1.55s/it]"
     ]
    },
    {
     "name": "stdout",
     "output_type": "stream",
     "text": [
      "Reading AAMC data from file E:/frd-historical/data/stock/1min/csv/AAMC_full_1min_adjsplitdiv.txt\n"
     ]
    },
    {
     "name": "stderr",
     "output_type": "stream",
     "text": [
      "  2%|▏         | 5/300 [00:05<05:50,  1.19s/it]"
     ]
    },
    {
     "name": "stdout",
     "output_type": "stream",
     "text": [
      "Reading AAME data from file E:/frd-historical/data/stock/1min/csv/AAME_full_1min_adjsplitdiv.txt\n"
     ]
    },
    {
     "name": "stderr",
     "output_type": "stream",
     "text": [
      "  2%|▏         | 6/300 [00:05<04:23,  1.11it/s]"
     ]
    },
    {
     "name": "stdout",
     "output_type": "stream",
     "text": [
      "Reading AAN data from file E:/frd-historical/data/stock/1min/csv/AAN_full_1min_adjsplitdiv.txt\n"
     ]
    },
    {
     "name": "stderr",
     "output_type": "stream",
     "text": [
      "  2%|▏         | 7/300 [00:06<03:56,  1.24it/s]"
     ]
    },
    {
     "name": "stdout",
     "output_type": "stream",
     "text": [
      "No data found for AAN for period 2017-01-01 00:00:00 to 2017-12-31 23:59:59\n",
      "Reading AAOI data from file E:/frd-historical/data/stock/1min/csv/AAOI_full_1min_adjsplitdiv.txt\n"
     ]
    },
    {
     "name": "stderr",
     "output_type": "stream",
     "text": [
      "  3%|▎         | 8/300 [00:07<05:17,  1.09s/it]"
     ]
    },
    {
     "name": "stdout",
     "output_type": "stream",
     "text": [
      "Reading AAON data from file E:/frd-historical/data/stock/1min/csv/AAON_full_1min_adjsplitdiv.txt\n"
     ]
    },
    {
     "name": "stderr",
     "output_type": "stream",
     "text": [
      "  3%|▎         | 9/300 [00:09<05:46,  1.19s/it]"
     ]
    },
    {
     "name": "stdout",
     "output_type": "stream",
     "text": [
      "Reading AAPL data from file E:/frd-historical/data/stock/1min/csv/AAPL_full_1min_adjsplitdiv.txt\n"
     ]
    },
    {
     "name": "stderr",
     "output_type": "stream",
     "text": [
      "  3%|▎         | 10/300 [00:17<16:34,  3.43s/it]"
     ]
    },
    {
     "name": "stdout",
     "output_type": "stream",
     "text": [
      "Reading AAP data from file E:/frd-historical/data/stock/1min/csv/AAP_full_1min_adjsplitdiv.txt\n"
     ]
    },
    {
     "name": "stderr",
     "output_type": "stream",
     "text": [
      "  4%|▎         | 11/300 [00:21<16:58,  3.53s/it]"
     ]
    },
    {
     "name": "stdout",
     "output_type": "stream",
     "text": [
      "Reading AAT data from file E:/frd-historical/data/stock/1min/csv/AAT_full_1min_adjsplitdiv.txt\n"
     ]
    },
    {
     "name": "stderr",
     "output_type": "stream",
     "text": [
      "  4%|▍         | 12/300 [00:23<14:06,  2.94s/it]"
     ]
    },
    {
     "name": "stdout",
     "output_type": "stream",
     "text": [
      "Reading AAU data from file E:/frd-historical/data/stock/1min/csv/AAU_full_1min_adjsplitdiv.txt\n"
     ]
    },
    {
     "name": "stderr",
     "output_type": "stream",
     "text": [
      "  4%|▍         | 13/300 [00:24<11:05,  2.32s/it]"
     ]
    },
    {
     "name": "stdout",
     "output_type": "stream",
     "text": [
      "Reading AA data from file E:/frd-historical/data/stock/1min/csv/AA_full_1min_adjsplitdiv.txt\n"
     ]
    },
    {
     "name": "stderr",
     "output_type": "stream",
     "text": [
      "  5%|▍         | 14/300 [00:25<09:52,  2.07s/it]"
     ]
    },
    {
     "name": "stdout",
     "output_type": "stream",
     "text": [
      "Reading ABBV data from file E:/frd-historical/data/stock/1min/csv/ABBV_full_1min_adjsplitdiv.txt\n"
     ]
    },
    {
     "name": "stderr",
     "output_type": "stream",
     "text": [
      "  5%|▌         | 15/300 [00:28<10:57,  2.31s/it]"
     ]
    },
    {
     "name": "stdout",
     "output_type": "stream",
     "text": [
      "Reading ABCB data from file E:/frd-historical/data/stock/1min/csv/ABCB_full_1min_adjsplitdiv.txt\n"
     ]
    },
    {
     "name": "stderr",
     "output_type": "stream",
     "text": [
      "  5%|▌         | 16/300 [00:30<09:51,  2.08s/it]"
     ]
    },
    {
     "name": "stdout",
     "output_type": "stream",
     "text": [
      "Reading ABCL data from file E:/frd-historical/data/stock/1min/csv/ABCL_full_1min_adjsplitdiv.txt\n"
     ]
    },
    {
     "name": "stderr",
     "output_type": "stream",
     "text": [
      "  6%|▌         | 17/300 [00:30<08:00,  1.70s/it]"
     ]
    },
    {
     "name": "stdout",
     "output_type": "stream",
     "text": [
      "No data found for ABCL for period 2017-01-01 00:00:00 to 2017-12-31 23:59:59\n",
      "Reading ABEO data from file E:/frd-historical/data/stock/1min/csv/ABEO_full_1min_adjsplitdiv.txt\n"
     ]
    },
    {
     "name": "stderr",
     "output_type": "stream",
     "text": [
      "  6%|▌         | 18/300 [00:32<07:21,  1.57s/it]"
     ]
    },
    {
     "name": "stdout",
     "output_type": "stream",
     "text": [
      "Reading ABEV data from file E:/frd-historical/data/stock/1min/csv/ABEV_full_1min_adjsplitdiv.txt\n"
     ]
    },
    {
     "name": "stderr",
     "output_type": "stream",
     "text": [
      "  7%|▋         | 20/300 [00:34<06:08,  1.32s/it]"
     ]
    },
    {
     "name": "stdout",
     "output_type": "stream",
     "text": [
      "Reading ABG data from file E:/frd-historical/data/stock/1min/csv/ABG_full_1min_adjsplitdiv.txt\n",
      "No data found for ABG for period 2017-01-01 00:00:00 to 2017-12-31 23:59:59\n",
      "Reading ABIO data from file E:/frd-historical/data/stock/1min/csv/ABIO_full_1min_adjsplitdiv.txt\n"
     ]
    },
    {
     "name": "stderr",
     "output_type": "stream",
     "text": [
      "  7%|▋         | 21/300 [00:35<05:20,  1.15s/it]"
     ]
    },
    {
     "name": "stdout",
     "output_type": "stream",
     "text": [
      "Reading ABLV data from file E:/frd-historical/data/stock/1min/csv/ABLV_full_1min_adjsplitdiv.txt\n",
      "No data found for ABLV for period 2017-01-01 00:00:00 to 2017-12-31 23:59:59\n",
      "Reading ABM data from file E:/frd-historical/data/stock/1min/csv/ABM_full_1min_adjsplitdiv.txt\n"
     ]
    },
    {
     "name": "stderr",
     "output_type": "stream",
     "text": [
      "  8%|▊         | 23/300 [00:37<05:05,  1.10s/it]"
     ]
    },
    {
     "name": "stdout",
     "output_type": "stream",
     "text": [
      "Reading ABNB data from file E:/frd-historical/data/stock/1min/csv/ABNB_full_1min_adjsplitdiv.txt\n"
     ]
    },
    {
     "name": "stderr",
     "output_type": "stream",
     "text": [
      "  8%|▊         | 24/300 [00:38<04:45,  1.03s/it]"
     ]
    },
    {
     "name": "stdout",
     "output_type": "stream",
     "text": [
      "No data found for ABNB for period 2017-01-01 00:00:00 to 2017-12-31 23:59:59\n",
      "Reading ABOS data from file E:/frd-historical/data/stock/1min/csv/ABOS_full_1min_adjsplitdiv.txt\n"
     ]
    },
    {
     "name": "stderr",
     "output_type": "stream",
     "text": [
      "  8%|▊         | 25/300 [00:38<03:53,  1.18it/s]"
     ]
    },
    {
     "name": "stdout",
     "output_type": "stream",
     "text": [
      "No data found for ABOS for period 2017-01-01 00:00:00 to 2017-12-31 23:59:59\n",
      "Reading ABR data from file E:/frd-historical/data/stock/1min/csv/ABR_full_1min_adjsplitdiv.txt\n"
     ]
    },
    {
     "name": "stderr",
     "output_type": "stream",
     "text": [
      "  9%|▊         | 26/300 [00:40<05:03,  1.11s/it]"
     ]
    },
    {
     "name": "stdout",
     "output_type": "stream",
     "text": [
      "Reading ABSI data from file E:/frd-historical/data/stock/1min/csv/ABSI_full_1min_adjsplitdiv.txt\n"
     ]
    },
    {
     "name": "stderr",
     "output_type": "stream",
     "text": [
      "  9%|▉         | 27/300 [00:40<04:05,  1.11it/s]"
     ]
    },
    {
     "name": "stdout",
     "output_type": "stream",
     "text": [
      "No data found for ABSI for period 2017-01-01 00:00:00 to 2017-12-31 23:59:59\n",
      "Reading ABTS data from file E:/frd-historical/data/stock/1min/csv/ABTS_full_1min_adjsplitdiv.txt\n"
     ]
    },
    {
     "name": "stderr",
     "output_type": "stream",
     "text": [
      "  9%|▉         | 28/300 [00:41<03:14,  1.40it/s]"
     ]
    },
    {
     "name": "stdout",
     "output_type": "stream",
     "text": [
      "Reading ABT data from file E:/frd-historical/data/stock/1min/csv/ABT_full_1min_adjsplitdiv.txt\n"
     ]
    },
    {
     "name": "stderr",
     "output_type": "stream",
     "text": [
      " 10%|▉         | 29/300 [00:44<07:14,  1.60s/it]"
     ]
    },
    {
     "name": "stdout",
     "output_type": "stream",
     "text": [
      "Reading ABUS data from file E:/frd-historical/data/stock/1min/csv/ABUS_full_1min_adjsplitdiv.txt\n"
     ]
    },
    {
     "name": "stderr",
     "output_type": "stream",
     "text": [
      " 10%|█         | 31/300 [00:46<04:56,  1.10s/it]"
     ]
    },
    {
     "name": "stdout",
     "output_type": "stream",
     "text": [
      "Reading ABVC data from file E:/frd-historical/data/stock/1min/csv/ABVC_full_1min_adjsplitdiv.txt\n",
      "No data found for ABVC for period 2017-01-01 00:00:00 to 2017-12-31 23:59:59\n",
      "Reading AB data from file E:/frd-historical/data/stock/1min/csv/AB_full_1min_adjsplitdiv.txt\n"
     ]
    },
    {
     "name": "stderr",
     "output_type": "stream",
     "text": [
      " 11%|█         | 32/300 [00:48<06:33,  1.47s/it]"
     ]
    },
    {
     "name": "stdout",
     "output_type": "stream",
     "text": [
      "Reading ACAC data from file E:/frd-historical/data/stock/1min/csv/ACAC_full_1min_adjsplitdiv.txt\n",
      "No data found for ACAC for period 2017-01-01 00:00:00 to 2017-12-31 23:59:59\n",
      "Reading ACAD data from file E:/frd-historical/data/stock/1min/csv/ACAD_full_1min_adjsplitdiv.txt\n"
     ]
    },
    {
     "name": "stderr",
     "output_type": "stream",
     "text": [
      " 11%|█▏        | 34/300 [00:51<06:10,  1.39s/it]"
     ]
    },
    {
     "name": "stdout",
     "output_type": "stream",
     "text": [
      "Reading ACAX data from file E:/frd-historical/data/stock/1min/csv/ACAX_full_1min_adjsplitdiv.txt\n",
      "No data found for ACAX for period 2017-01-01 00:00:00 to 2017-12-31 23:59:59\n",
      "Reading ACA data from file E:/frd-historical/data/stock/1min/csv/ACA_full_1min_adjsplitdiv.txt\n"
     ]
    },
    {
     "name": "stderr",
     "output_type": "stream",
     "text": [
      " 12%|█▏        | 36/300 [00:51<04:12,  1.05it/s]"
     ]
    },
    {
     "name": "stdout",
     "output_type": "stream",
     "text": [
      "No data found for ACA for period 2017-01-01 00:00:00 to 2017-12-31 23:59:59\n",
      "Reading ACB data from file E:/frd-historical/data/stock/1min/csv/ACB_full_1min_adjsplitdiv.txt\n"
     ]
    },
    {
     "name": "stderr",
     "output_type": "stream",
     "text": [
      " 12%|█▏        | 37/300 [00:53<04:29,  1.02s/it]"
     ]
    },
    {
     "name": "stdout",
     "output_type": "stream",
     "text": [
      "No data found for ACB for period 2017-01-01 00:00:00 to 2017-12-31 23:59:59\n",
      "Reading ACCD data from file E:/frd-historical/data/stock/1min/csv/ACCD_full_1min_adjsplitdiv.txt\n"
     ]
    },
    {
     "name": "stderr",
     "output_type": "stream",
     "text": [
      " 13%|█▎        | 38/300 [00:53<04:00,  1.09it/s]"
     ]
    },
    {
     "name": "stdout",
     "output_type": "stream",
     "text": [
      "No data found for ACCD for period 2017-01-01 00:00:00 to 2017-12-31 23:59:59\n",
      "Reading ACCO data from file E:/frd-historical/data/stock/1min/csv/ACCO_full_1min_adjsplitdiv.txt\n"
     ]
    },
    {
     "name": "stderr",
     "output_type": "stream",
     "text": [
      " 13%|█▎        | 39/300 [00:56<05:44,  1.32s/it]"
     ]
    },
    {
     "name": "stdout",
     "output_type": "stream",
     "text": [
      "Reading ACDC data from file E:/frd-historical/data/stock/1min/csv/ACDC_full_1min_adjsplitdiv.txt\n"
     ]
    },
    {
     "name": "stderr",
     "output_type": "stream",
     "text": [
      " 13%|█▎        | 40/300 [00:56<04:32,  1.05s/it]"
     ]
    },
    {
     "name": "stdout",
     "output_type": "stream",
     "text": [
      "No data found for ACDC for period 2017-01-01 00:00:00 to 2017-12-31 23:59:59\n",
      "Reading ACEL data from file E:/frd-historical/data/stock/1min/csv/ACEL_full_1min_adjsplitdiv.txt\n"
     ]
    },
    {
     "name": "stderr",
     "output_type": "stream",
     "text": [
      " 14%|█▎        | 41/300 [00:56<03:47,  1.14it/s]"
     ]
    },
    {
     "name": "stdout",
     "output_type": "stream",
     "text": [
      "Reading ACET data from file E:/frd-historical/data/stock/1min/csv/ACET_full_1min_adjsplitdiv.txt\n"
     ]
    },
    {
     "name": "stderr",
     "output_type": "stream",
     "text": [
      " 14%|█▍        | 42/300 [00:57<03:28,  1.24it/s]"
     ]
    },
    {
     "name": "stdout",
     "output_type": "stream",
     "text": [
      "No data found for ACET for period 2017-01-01 00:00:00 to 2017-12-31 23:59:59\n",
      "Reading ACGL data from file E:/frd-historical/data/stock/1min/csv/ACGL_full_1min_adjsplitdiv.txt\n"
     ]
    },
    {
     "name": "stderr",
     "output_type": "stream",
     "text": [
      " 14%|█▍        | 43/300 [01:00<05:48,  1.35s/it]"
     ]
    },
    {
     "name": "stdout",
     "output_type": "stream",
     "text": [
      "Reading ACHC data from file E:/frd-historical/data/stock/1min/csv/ACHC_full_1min_adjsplitdiv.txt\n"
     ]
    },
    {
     "name": "stderr",
     "output_type": "stream",
     "text": [
      " 15%|█▌        | 45/300 [01:02<04:33,  1.07s/it]"
     ]
    },
    {
     "name": "stdout",
     "output_type": "stream",
     "text": [
      "Reading ACHL data from file E:/frd-historical/data/stock/1min/csv/ACHL_full_1min_adjsplitdiv.txt\n",
      "No data found for ACHL for period 2017-01-01 00:00:00 to 2017-12-31 23:59:59\n",
      "Reading ACHR data from file E:/frd-historical/data/stock/1min/csv/ACHR_full_1min_adjsplitdiv.txt\n"
     ]
    },
    {
     "name": "stderr",
     "output_type": "stream",
     "text": [
      " 15%|█▌        | 46/300 [01:02<03:55,  1.08it/s]"
     ]
    },
    {
     "name": "stdout",
     "output_type": "stream",
     "text": [
      "No data found for ACHR for period 2017-01-01 00:00:00 to 2017-12-31 23:59:59\n",
      "Reading ACHV data from file E:/frd-historical/data/stock/1min/csv/ACHV_full_1min_adjsplitdiv.txt\n"
     ]
    },
    {
     "name": "stderr",
     "output_type": "stream",
     "text": [
      " 16%|█▌        | 47/300 [01:03<03:57,  1.07it/s]"
     ]
    },
    {
     "name": "stdout",
     "output_type": "stream",
     "text": [
      "Reading ACIC data from file E:/frd-historical/data/stock/1min/csv/ACIC_full_1min_adjsplitdiv.txt\n"
     ]
    },
    {
     "name": "stderr",
     "output_type": "stream",
     "text": [
      " 16%|█▌        | 48/300 [01:04<03:45,  1.12it/s]"
     ]
    },
    {
     "name": "stdout",
     "output_type": "stream",
     "text": [
      "Reading ACIU data from file E:/frd-historical/data/stock/1min/csv/ACIU_full_1min_adjsplitdiv.txt\n"
     ]
    },
    {
     "name": "stderr",
     "output_type": "stream",
     "text": [
      " 16%|█▋        | 49/300 [01:04<03:17,  1.27it/s]"
     ]
    },
    {
     "name": "stdout",
     "output_type": "stream",
     "text": [
      "Reading ACIW data from file E:/frd-historical/data/stock/1min/csv/ACIW_full_1min_adjsplitdiv.txt\n"
     ]
    },
    {
     "name": "stderr",
     "output_type": "stream",
     "text": [
      " 17%|█▋        | 50/300 [01:07<05:09,  1.24s/it]"
     ]
    },
    {
     "name": "stdout",
     "output_type": "stream",
     "text": [
      "Reading ACI data from file E:/frd-historical/data/stock/1min/csv/ACI_full_1min_adjsplitdiv.txt\n"
     ]
    },
    {
     "name": "stderr",
     "output_type": "stream",
     "text": [
      " 17%|█▋        | 51/300 [01:07<04:28,  1.08s/it]"
     ]
    },
    {
     "name": "stdout",
     "output_type": "stream",
     "text": [
      "No data found for ACI for period 2017-01-01 00:00:00 to 2017-12-31 23:59:59\n",
      "Reading ACLS data from file E:/frd-historical/data/stock/1min/csv/ACLS_full_1min_adjsplitdiv.txt\n"
     ]
    },
    {
     "name": "stderr",
     "output_type": "stream",
     "text": [
      " 17%|█▋        | 52/300 [01:10<05:41,  1.38s/it]"
     ]
    },
    {
     "name": "stdout",
     "output_type": "stream",
     "text": [
      "Reading ACLX data from file E:/frd-historical/data/stock/1min/csv/ACLX_full_1min_adjsplitdiv.txt\n"
     ]
    },
    {
     "name": "stderr",
     "output_type": "stream",
     "text": [
      " 18%|█▊        | 53/300 [01:10<04:21,  1.06s/it]"
     ]
    },
    {
     "name": "stdout",
     "output_type": "stream",
     "text": [
      "No data found for ACLX for period 2017-01-01 00:00:00 to 2017-12-31 23:59:59\n",
      "Reading ACMR data from file E:/frd-historical/data/stock/1min/csv/ACMR_full_1min_adjsplitdiv.txt\n"
     ]
    },
    {
     "name": "stderr",
     "output_type": "stream",
     "text": [
      " 18%|█▊        | 54/300 [01:11<04:02,  1.01it/s]"
     ]
    },
    {
     "name": "stdout",
     "output_type": "stream",
     "text": [
      "Reading ACM data from file E:/frd-historical/data/stock/1min/csv/ACM_full_1min_adjsplitdiv.txt\n"
     ]
    },
    {
     "name": "stderr",
     "output_type": "stream",
     "text": [
      " 19%|█▊        | 56/300 [01:14<04:33,  1.12s/it]"
     ]
    },
    {
     "name": "stdout",
     "output_type": "stream",
     "text": [
      "Reading ACNB data from file E:/frd-historical/data/stock/1min/csv/ACNB_full_1min_adjsplitdiv.txt\n",
      "Reading ACNT data from file E:/frd-historical/data/stock/1min/csv/ACNT_full_1min_adjsplitdiv.txt\n"
     ]
    },
    {
     "name": "stderr",
     "output_type": "stream",
     "text": [
      " 19%|█▉        | 57/300 [01:14<03:32,  1.14it/s]"
     ]
    },
    {
     "name": "stdout",
     "output_type": "stream",
     "text": [
      "Reading ACN data from file E:/frd-historical/data/stock/1min/csv/ACN_full_1min_adjsplitdiv.txt\n"
     ]
    },
    {
     "name": "stderr",
     "output_type": "stream",
     "text": [
      " 20%|██        | 60/300 [01:17<03:14,  1.23it/s]"
     ]
    },
    {
     "name": "stdout",
     "output_type": "stream",
     "text": [
      "Reading ACONW data from file E:/frd-historical/data/stock/1min/csv/ACONW_full_1min_adjsplitdiv.txt\n",
      "No data found for ACONW for period 2017-01-01 00:00:00 to 2017-12-31 23:59:59\n",
      "Reading ACON data from file E:/frd-historical/data/stock/1min/csv/ACON_full_1min_adjsplitdiv.txt\n",
      "No data found for ACON for period 2017-01-01 00:00:00 to 2017-12-31 23:59:59\n",
      "Reading ACOR data from file E:/frd-historical/data/stock/1min/csv/ACOR_full_1min_adjsplitdiv.txt\n"
     ]
    },
    {
     "name": "stderr",
     "output_type": "stream",
     "text": [
      " 20%|██        | 61/300 [01:19<04:36,  1.16s/it]"
     ]
    },
    {
     "name": "stdout",
     "output_type": "stream",
     "text": [
      "Reading ACP data from file E:/frd-historical/data/stock/1min/csv/ACP_full_1min_adjsplitdiv.txt\n"
     ]
    },
    {
     "name": "stderr",
     "output_type": "stream",
     "text": [
      " 21%|██        | 62/300 [01:20<04:09,  1.05s/it]"
     ]
    },
    {
     "name": "stdout",
     "output_type": "stream",
     "text": [
      "Reading ACRE data from file E:/frd-historical/data/stock/1min/csv/ACRE_full_1min_adjsplitdiv.txt\n"
     ]
    },
    {
     "name": "stderr",
     "output_type": "stream",
     "text": [
      " 21%|██        | 63/300 [01:21<04:23,  1.11s/it]"
     ]
    },
    {
     "name": "stdout",
     "output_type": "stream",
     "text": [
      "Reading ACRS data from file E:/frd-historical/data/stock/1min/csv/ACRS_full_1min_adjsplitdiv.txt\n"
     ]
    },
    {
     "name": "stderr",
     "output_type": "stream",
     "text": [
      " 22%|██▏       | 66/300 [01:22<02:28,  1.57it/s]"
     ]
    },
    {
     "name": "stdout",
     "output_type": "stream",
     "text": [
      "Reading ACRV data from file E:/frd-historical/data/stock/1min/csv/ACRV_full_1min_adjsplitdiv.txt\n",
      "No data found for ACRV for period 2017-01-01 00:00:00 to 2017-12-31 23:59:59\n",
      "Reading ACR data from file E:/frd-historical/data/stock/1min/csv/ACR_full_1min_adjsplitdiv.txt\n",
      "No data found for ACR for period 2017-01-01 00:00:00 to 2017-12-31 23:59:59\n",
      "Reading ACST data from file E:/frd-historical/data/stock/1min/csv/ACST_full_1min_adjsplitdiv.txt\n"
     ]
    },
    {
     "name": "stderr",
     "output_type": "stream",
     "text": [
      " 22%|██▏       | 67/300 [01:23<02:30,  1.55it/s]"
     ]
    },
    {
     "name": "stdout",
     "output_type": "stream",
     "text": [
      "Reading ACTG data from file E:/frd-historical/data/stock/1min/csv/ACTG_full_1min_adjsplitdiv.txt\n"
     ]
    },
    {
     "name": "stderr",
     "output_type": "stream",
     "text": [
      " 23%|██▎       | 69/300 [01:25<02:50,  1.36it/s]"
     ]
    },
    {
     "name": "stdout",
     "output_type": "stream",
     "text": [
      "Reading ACU data from file E:/frd-historical/data/stock/1min/csv/ACU_full_1min_adjsplitdiv.txt\n",
      "Reading ACVA data from file E:/frd-historical/data/stock/1min/csv/ACVA_full_1min_adjsplitdiv.txt\n"
     ]
    },
    {
     "name": "stderr",
     "output_type": "stream",
     "text": [
      " 23%|██▎       | 70/300 [01:25<02:35,  1.48it/s]"
     ]
    },
    {
     "name": "stdout",
     "output_type": "stream",
     "text": [
      "No data found for ACVA for period 2017-01-01 00:00:00 to 2017-12-31 23:59:59\n",
      "Reading ACV data from file E:/frd-historical/data/stock/1min/csv/ACV_full_1min_adjsplitdiv.txt\n"
     ]
    },
    {
     "name": "stderr",
     "output_type": "stream",
     "text": [
      " 24%|██▍       | 72/300 [01:26<01:39,  2.30it/s]"
     ]
    },
    {
     "name": "stdout",
     "output_type": "stream",
     "text": [
      "Reading ACXP data from file E:/frd-historical/data/stock/1min/csv/ACXP_full_1min_adjsplitdiv.txt\n",
      "No data found for ACXP for period 2017-01-01 00:00:00 to 2017-12-31 23:59:59\n",
      "Reading AC data from file E:/frd-historical/data/stock/1min/csv/AC_full_1min_adjsplitdiv.txt\n"
     ]
    },
    {
     "name": "stderr",
     "output_type": "stream",
     "text": [
      " 24%|██▍       | 73/300 [01:26<01:19,  2.87it/s]"
     ]
    },
    {
     "name": "stdout",
     "output_type": "stream",
     "text": [
      "Reading ADAG data from file E:/frd-historical/data/stock/1min/csv/ADAG_full_1min_adjsplitdiv.txt\n",
      "No data found for ADAG for period 2017-01-01 00:00:00 to 2017-12-31 23:59:59\n",
      "Reading ADAP data from file E:/frd-historical/data/stock/1min/csv/ADAP_full_1min_adjsplitdiv.txt\n"
     ]
    },
    {
     "name": "stderr",
     "output_type": "stream",
     "text": [
      " 25%|██▌       | 75/300 [01:27<01:39,  2.27it/s]"
     ]
    },
    {
     "name": "stdout",
     "output_type": "stream",
     "text": [
      "Reading ADBE data from file E:/frd-historical/data/stock/1min/csv/ADBE_full_1min_adjsplitdiv.txt\n"
     ]
    },
    {
     "name": "stderr",
     "output_type": "stream",
     "text": [
      " 25%|██▌       | 76/300 [01:32<05:27,  1.46s/it]"
     ]
    },
    {
     "name": "stdout",
     "output_type": "stream",
     "text": [
      "Reading ADC data from file E:/frd-historical/data/stock/1min/csv/ADC_full_1min_adjsplitdiv.txt\n"
     ]
    },
    {
     "name": "stderr",
     "output_type": "stream",
     "text": [
      " 26%|██▌       | 77/300 [01:33<05:39,  1.52s/it]"
     ]
    },
    {
     "name": "stdout",
     "output_type": "stream",
     "text": [
      "Reading ADD data from file E:/frd-historical/data/stock/1min/csv/ADD_full_1min_adjsplitdiv.txt\n"
     ]
    },
    {
     "name": "stderr",
     "output_type": "stream",
     "text": [
      " 26%|██▌       | 78/300 [01:34<04:50,  1.31s/it]"
     ]
    },
    {
     "name": "stdout",
     "output_type": "stream",
     "text": [
      "Reading ADEA data from file E:/frd-historical/data/stock/1min/csv/ADEA_full_1min_adjsplitdiv.txt\n"
     ]
    },
    {
     "name": "stderr",
     "output_type": "stream",
     "text": [
      " 26%|██▋       | 79/300 [01:36<05:57,  1.62s/it]"
     ]
    },
    {
     "name": "stdout",
     "output_type": "stream",
     "text": [
      "Reading ADIL data from file E:/frd-historical/data/stock/1min/csv/ADIL_full_1min_adjsplitdiv.txt\n"
     ]
    },
    {
     "name": "stderr",
     "output_type": "stream",
     "text": [
      " 27%|██▋       | 80/300 [01:37<04:34,  1.25s/it]"
     ]
    },
    {
     "name": "stdout",
     "output_type": "stream",
     "text": [
      "No data found for ADIL for period 2017-01-01 00:00:00 to 2017-12-31 23:59:59\n",
      "Reading ADI data from file E:/frd-historical/data/stock/1min/csv/ADI_full_1min_adjsplitdiv.txt\n"
     ]
    },
    {
     "name": "stderr",
     "output_type": "stream",
     "text": [
      " 27%|██▋       | 81/300 [01:40<07:08,  1.96s/it]"
     ]
    },
    {
     "name": "stdout",
     "output_type": "stream",
     "text": [
      "Reading ADMA data from file E:/frd-historical/data/stock/1min/csv/ADMA_full_1min_adjsplitdiv.txt\n"
     ]
    },
    {
     "name": "stderr",
     "output_type": "stream",
     "text": [
      " 27%|██▋       | 82/300 [01:42<06:18,  1.73s/it]"
     ]
    },
    {
     "name": "stdout",
     "output_type": "stream",
     "text": [
      "Reading ADM data from file E:/frd-historical/data/stock/1min/csv/ADM_full_1min_adjsplitdiv.txt\n"
     ]
    },
    {
     "name": "stderr",
     "output_type": "stream",
     "text": [
      " 28%|██▊       | 83/300 [01:45<07:51,  2.17s/it]"
     ]
    },
    {
     "name": "stdout",
     "output_type": "stream",
     "text": [
      "Reading ADNT data from file E:/frd-historical/data/stock/1min/csv/ADNT_full_1min_adjsplitdiv.txt\n"
     ]
    },
    {
     "name": "stderr",
     "output_type": "stream",
     "text": [
      " 28%|██▊       | 85/300 [01:46<04:54,  1.37s/it]"
     ]
    },
    {
     "name": "stdout",
     "output_type": "stream",
     "text": [
      "Reading ADNWW data from file E:/frd-historical/data/stock/1min/csv/ADNWW_full_1min_adjsplitdiv.txt\n",
      "No data found for ADNWW for period 2017-01-01 00:00:00 to 2017-12-31 23:59:59\n",
      "Reading ADN data from file E:/frd-historical/data/stock/1min/csv/ADN_full_1min_adjsplitdiv.txt\n"
     ]
    },
    {
     "name": "stderr",
     "output_type": "stream",
     "text": [
      " 29%|██▊       | 86/300 [01:47<03:51,  1.08s/it]"
     ]
    },
    {
     "name": "stdout",
     "output_type": "stream",
     "text": [
      "No data found for ADN for period 2017-01-01 00:00:00 to 2017-12-31 23:59:59\n",
      "Reading ADPT data from file E:/frd-historical/data/stock/1min/csv/ADPT_full_1min_adjsplitdiv.txt\n"
     ]
    },
    {
     "name": "stderr",
     "output_type": "stream",
     "text": [
      " 29%|██▉       | 87/300 [01:47<03:23,  1.05it/s]"
     ]
    },
    {
     "name": "stdout",
     "output_type": "stream",
     "text": [
      "No data found for ADPT for period 2017-01-01 00:00:00 to 2017-12-31 23:59:59\n",
      "Reading ADP data from file E:/frd-historical/data/stock/1min/csv/ADP_full_1min_adjsplitdiv.txt\n"
     ]
    },
    {
     "name": "stderr",
     "output_type": "stream",
     "text": [
      " 30%|███       | 90/300 [01:51<03:14,  1.08it/s]"
     ]
    },
    {
     "name": "stdout",
     "output_type": "stream",
     "text": [
      "Reading ADRT data from file E:/frd-historical/data/stock/1min/csv/ADRT_full_1min_adjsplitdiv.txt\n",
      "No data found for ADRT for period 2017-01-01 00:00:00 to 2017-12-31 23:59:59\n",
      "Reading ADSEW data from file E:/frd-historical/data/stock/1min/csv/ADSEW_full_1min_adjsplitdiv.txt\n",
      "No data found for ADSEW for period 2017-01-01 00:00:00 to 2017-12-31 23:59:59\n",
      "Reading ADSE data from file E:/frd-historical/data/stock/1min/csv/ADSE_full_1min_adjsplitdiv.txt\n",
      "No data found for ADSE for period 2017-01-01 00:00:00 to 2017-12-31 23:59:59\n",
      "Reading ADSK data from file E:/frd-historical/data/stock/1min/csv/ADSK_full_1min_adjsplitdiv.txt\n"
     ]
    },
    {
     "name": "stderr",
     "output_type": "stream",
     "text": [
      " 31%|███▏      | 94/300 [01:54<02:43,  1.26it/s]"
     ]
    },
    {
     "name": "stdout",
     "output_type": "stream",
     "text": [
      "Reading ADTHW data from file E:/frd-historical/data/stock/1min/csv/ADTHW_full_1min_adjsplitdiv.txt\n",
      "No data found for ADTHW for period 2017-01-01 00:00:00 to 2017-12-31 23:59:59\n",
      "Reading ADTH data from file E:/frd-historical/data/stock/1min/csv/ADTH_full_1min_adjsplitdiv.txt\n",
      "No data found for ADTH for period 2017-01-01 00:00:00 to 2017-12-31 23:59:59\n",
      "Reading ADTN data from file E:/frd-historical/data/stock/1min/csv/ADTN_full_1min_adjsplitdiv.txt\n"
     ]
    },
    {
     "name": "stderr",
     "output_type": "stream",
     "text": [
      " 32%|███▏      | 95/300 [01:57<03:54,  1.15s/it]"
     ]
    },
    {
     "name": "stdout",
     "output_type": "stream",
     "text": [
      "Reading ADTX data from file E:/frd-historical/data/stock/1min/csv/ADTX_full_1min_adjsplitdiv.txt\n"
     ]
    },
    {
     "name": "stderr",
     "output_type": "stream",
     "text": [
      " 32%|███▏      | 96/300 [01:57<03:18,  1.03it/s]"
     ]
    },
    {
     "name": "stdout",
     "output_type": "stream",
     "text": [
      "No data found for ADTX for period 2017-01-01 00:00:00 to 2017-12-31 23:59:59\n",
      "Reading ADT data from file E:/frd-historical/data/stock/1min/csv/ADT_full_1min_adjsplitdiv.txt\n"
     ]
    },
    {
     "name": "stderr",
     "output_type": "stream",
     "text": [
      " 32%|███▏      | 97/300 [01:58<03:23,  1.00s/it]"
     ]
    },
    {
     "name": "stdout",
     "output_type": "stream",
     "text": [
      "No data found for ADT for period 2017-01-01 00:00:00 to 2017-12-31 23:59:59\n",
      "Reading ADUS data from file E:/frd-historical/data/stock/1min/csv/ADUS_full_1min_adjsplitdiv.txt\n"
     ]
    },
    {
     "name": "stderr",
     "output_type": "stream",
     "text": [
      " 33%|███▎      | 98/300 [01:59<03:04,  1.09it/s]"
     ]
    },
    {
     "name": "stdout",
     "output_type": "stream",
     "text": [
      "Reading ADVM data from file E:/frd-historical/data/stock/1min/csv/ADVM_full_1min_adjsplitdiv.txt\n"
     ]
    },
    {
     "name": "stderr",
     "output_type": "stream",
     "text": [
      " 33%|███▎      | 99/300 [02:00<03:09,  1.06it/s]"
     ]
    },
    {
     "name": "stdout",
     "output_type": "stream",
     "text": [
      "Reading ADVWW data from file E:/frd-historical/data/stock/1min/csv/ADVWW_full_1min_adjsplitdiv.txt\n",
      "Reading ADV data from file E:/frd-historical/data/stock/1min/csv/ADV_full_1min_adjsplitdiv.txt\n"
     ]
    },
    {
     "name": "stderr",
     "output_type": "stream",
     "text": [
      " 34%|███▎      | 101/300 [02:00<02:04,  1.60it/s]"
     ]
    },
    {
     "name": "stdout",
     "output_type": "stream",
     "text": [
      "No data found for ADV for period 2017-01-01 00:00:00 to 2017-12-31 23:59:59\n",
      "Reading ADXN data from file E:/frd-historical/data/stock/1min/csv/ADXN_full_1min_adjsplitdiv.txt\n",
      "No data found for ADXN for period 2017-01-01 00:00:00 to 2017-12-31 23:59:59\n",
      "Reading ADX data from file E:/frd-historical/data/stock/1min/csv/ADX_full_1min_adjsplitdiv.txt\n"
     ]
    },
    {
     "name": "stderr",
     "output_type": "stream",
     "text": [
      " 34%|███▍      | 103/300 [02:01<01:59,  1.65it/s]"
     ]
    },
    {
     "name": "stdout",
     "output_type": "stream",
     "text": [
      "Reading AEE data from file E:/frd-historical/data/stock/1min/csv/AEE_full_1min_adjsplitdiv.txt\n"
     ]
    },
    {
     "name": "stderr",
     "output_type": "stream",
     "text": [
      " 35%|███▍      | 104/300 [02:04<03:38,  1.12s/it]"
     ]
    },
    {
     "name": "stdout",
     "output_type": "stream",
     "text": [
      "Reading AEF data from file E:/frd-historical/data/stock/1min/csv/AEF_full_1min_adjsplitdiv.txt\n"
     ]
    },
    {
     "name": "stderr",
     "output_type": "stream",
     "text": [
      " 35%|███▌      | 105/300 [02:05<03:09,  1.03it/s]"
     ]
    },
    {
     "name": "stdout",
     "output_type": "stream",
     "text": [
      "No data found for AEF for period 2017-01-01 00:00:00 to 2017-12-31 23:59:59\n",
      "Reading AEG data from file E:/frd-historical/data/stock/1min/csv/AEG_full_1min_adjsplitdiv.txt\n"
     ]
    },
    {
     "name": "stderr",
     "output_type": "stream",
     "text": [
      " 35%|███▌      | 106/300 [02:07<04:09,  1.28s/it]"
     ]
    },
    {
     "name": "stdout",
     "output_type": "stream",
     "text": [
      "Reading AEHL data from file E:/frd-historical/data/stock/1min/csv/AEHL_full_1min_adjsplitdiv.txt\n"
     ]
    },
    {
     "name": "stderr",
     "output_type": "stream",
     "text": [
      " 36%|███▌      | 107/300 [02:07<03:22,  1.05s/it]"
     ]
    },
    {
     "name": "stdout",
     "output_type": "stream",
     "text": [
      "Reading AEHR data from file E:/frd-historical/data/stock/1min/csv/AEHR_full_1min_adjsplitdiv.txt\n"
     ]
    },
    {
     "name": "stderr",
     "output_type": "stream",
     "text": [
      " 36%|███▌      | 108/300 [02:08<03:04,  1.04it/s]"
     ]
    },
    {
     "name": "stdout",
     "output_type": "stream",
     "text": [
      "Reading AEIS data from file E:/frd-historical/data/stock/1min/csv/AEIS_full_1min_adjsplitdiv.txt\n"
     ]
    },
    {
     "name": "stderr",
     "output_type": "stream",
     "text": [
      " 36%|███▋      | 109/300 [02:10<03:51,  1.21s/it]"
     ]
    },
    {
     "name": "stdout",
     "output_type": "stream",
     "text": [
      "Reading AEI data from file E:/frd-historical/data/stock/1min/csv/AEI_full_1min_adjsplitdiv.txt\n"
     ]
    },
    {
     "name": "stderr",
     "output_type": "stream",
     "text": [
      " 37%|███▋      | 110/300 [02:10<03:03,  1.04it/s]"
     ]
    },
    {
     "name": "stdout",
     "output_type": "stream",
     "text": [
      "No data found for AEI for period 2017-01-01 00:00:00 to 2017-12-31 23:59:59\n",
      "Reading AEL data from file E:/frd-historical/data/stock/1min/csv/AEL_full_1min_adjsplitdiv.txt\n"
     ]
    },
    {
     "name": "stderr",
     "output_type": "stream",
     "text": [
      " 37%|███▋      | 111/300 [02:13<04:11,  1.33s/it]"
     ]
    },
    {
     "name": "stdout",
     "output_type": "stream",
     "text": [
      "Reading AEMD data from file E:/frd-historical/data/stock/1min/csv/AEMD_full_1min_adjsplitdiv.txt\n"
     ]
    },
    {
     "name": "stderr",
     "output_type": "stream",
     "text": [
      " 37%|███▋      | 112/300 [02:13<03:24,  1.09s/it]"
     ]
    },
    {
     "name": "stdout",
     "output_type": "stream",
     "text": [
      "Reading AEM data from file E:/frd-historical/data/stock/1min/csv/AEM_full_1min_adjsplitdiv.txt\n"
     ]
    },
    {
     "name": "stderr",
     "output_type": "stream",
     "text": [
      " 38%|███▊      | 113/300 [02:16<04:46,  1.53s/it]"
     ]
    },
    {
     "name": "stdout",
     "output_type": "stream",
     "text": [
      "Reading AENT data from file E:/frd-historical/data/stock/1min/csv/AENT_full_1min_adjsplitdiv.txt\n",
      "No data found for AENT for period 2017-01-01 00:00:00 to 2017-12-31 23:59:59\n",
      "Reading AEO data from file E:/frd-historical/data/stock/1min/csv/AEO_full_1min_adjsplitdiv.txt\n"
     ]
    },
    {
     "name": "stderr",
     "output_type": "stream",
     "text": [
      " 38%|███▊      | 115/300 [02:19<04:34,  1.49s/it]"
     ]
    },
    {
     "name": "stdout",
     "output_type": "stream",
     "text": [
      "Reading AEP data from file E:/frd-historical/data/stock/1min/csv/AEP_full_1min_adjsplitdiv.txt\n"
     ]
    },
    {
     "name": "stderr",
     "output_type": "stream",
     "text": [
      " 39%|███▊      | 116/300 [02:22<05:47,  1.89s/it]"
     ]
    },
    {
     "name": "stdout",
     "output_type": "stream",
     "text": [
      "Reading AER data from file E:/frd-historical/data/stock/1min/csv/AER_full_1min_adjsplitdiv.txt\n"
     ]
    },
    {
     "name": "stderr",
     "output_type": "stream",
     "text": [
      " 39%|███▉      | 118/300 [02:24<04:26,  1.46s/it]"
     ]
    },
    {
     "name": "stdout",
     "output_type": "stream",
     "text": [
      "Reading AESI data from file E:/frd-historical/data/stock/1min/csv/AESI_full_1min_adjsplitdiv.txt\n",
      "No data found for AESI for period 2017-01-01 00:00:00 to 2017-12-31 23:59:59\n",
      "Reading AES data from file E:/frd-historical/data/stock/1min/csv/AES_full_1min_adjsplitdiv.txt\n"
     ]
    },
    {
     "name": "stderr",
     "output_type": "stream",
     "text": [
      " 40%|███▉      | 119/300 [02:27<05:30,  1.83s/it]"
     ]
    },
    {
     "name": "stdout",
     "output_type": "stream",
     "text": [
      "Reading AEVA data from file E:/frd-historical/data/stock/1min/csv/AEVA_full_1min_adjsplitdiv.txt\n"
     ]
    },
    {
     "name": "stderr",
     "output_type": "stream",
     "text": [
      " 40%|████      | 121/300 [02:27<03:14,  1.09s/it]"
     ]
    },
    {
     "name": "stdout",
     "output_type": "stream",
     "text": [
      "No data found for AEVA for period 2017-01-01 00:00:00 to 2017-12-31 23:59:59\n",
      "Reading AEYE data from file E:/frd-historical/data/stock/1min/csv/AEYE_full_1min_adjsplitdiv.txt\n",
      "No data found for AEYE for period 2017-01-01 00:00:00 to 2017-12-31 23:59:59\n",
      "Reading AEY data from file E:/frd-historical/data/stock/1min/csv/AEY_full_1min_adjsplitdiv.txt\n"
     ]
    },
    {
     "name": "stderr",
     "output_type": "stream",
     "text": [
      " 41%|████      | 122/300 [02:28<02:28,  1.20it/s]"
     ]
    },
    {
     "name": "stdout",
     "output_type": "stream",
     "text": [
      "Reading AEZS data from file E:/frd-historical/data/stock/1min/csv/AEZS_full_1min_adjsplitdiv.txt\n"
     ]
    },
    {
     "name": "stderr",
     "output_type": "stream",
     "text": [
      " 41%|████▏     | 124/300 [02:29<02:01,  1.45it/s]"
     ]
    },
    {
     "name": "stdout",
     "output_type": "stream",
     "text": [
      "Reading AE data from file E:/frd-historical/data/stock/1min/csv/AE_full_1min_adjsplitdiv.txt\n",
      "Reading AFAR data from file E:/frd-historical/data/stock/1min/csv/AFAR_full_1min_adjsplitdiv.txt\n",
      "No data found for AFAR for period 2017-01-01 00:00:00 to 2017-12-31 23:59:59\n",
      "Reading AFBI data from file E:/frd-historical/data/stock/1min/csv/AFBI_full_1min_adjsplitdiv.txt\n",
      "No data found for AFBI for period 2017-01-01 00:00:00 to 2017-12-31 23:59:59\n",
      "Reading AFB data from file E:/frd-historical/data/stock/1min/csv/AFB_full_1min_adjsplitdiv.txt\n"
     ]
    },
    {
     "name": "stderr",
     "output_type": "stream",
     "text": [
      " 43%|████▎     | 128/300 [02:30<01:05,  2.61it/s]"
     ]
    },
    {
     "name": "stdout",
     "output_type": "stream",
     "text": [
      "Reading AFCG data from file E:/frd-historical/data/stock/1min/csv/AFCG_full_1min_adjsplitdiv.txt\n",
      "No data found for AFCG for period 2017-01-01 00:00:00 to 2017-12-31 23:59:59\n",
      "Reading AFGE data from file E:/frd-historical/data/stock/1min/csv/AFGE_full_1min_adjsplitdiv.txt\n",
      "No data found for AFGE for period 2017-01-01 00:00:00 to 2017-12-31 23:59:59\n",
      "Reading AFG data from file E:/frd-historical/data/stock/1min/csv/AFG_full_1min_adjsplitdiv.txt\n"
     ]
    },
    {
     "name": "stderr",
     "output_type": "stream",
     "text": [
      " 43%|████▎     | 130/300 [02:32<01:41,  1.67it/s]"
     ]
    },
    {
     "name": "stdout",
     "output_type": "stream",
     "text": [
      "Reading AFIB data from file E:/frd-historical/data/stock/1min/csv/AFIB_full_1min_adjsplitdiv.txt\n"
     ]
    },
    {
     "name": "stderr",
     "output_type": "stream",
     "text": [
      " 44%|████▎     | 131/300 [02:32<01:29,  1.89it/s]"
     ]
    },
    {
     "name": "stdout",
     "output_type": "stream",
     "text": [
      "No data found for AFIB for period 2017-01-01 00:00:00 to 2017-12-31 23:59:59\n",
      "Reading AFJK data from file E:/frd-historical/data/stock/1min/csv/AFJK_full_1min_adjsplitdiv.txt\n",
      "No data found for AFJK for period 2017-01-01 00:00:00 to 2017-12-31 23:59:59\n",
      "Reading AFL data from file E:/frd-historical/data/stock/1min/csv/AFL_full_1min_adjsplitdiv.txt\n"
     ]
    },
    {
     "name": "stderr",
     "output_type": "stream",
     "text": [
      " 44%|████▍     | 133/300 [02:35<02:26,  1.14it/s]"
     ]
    },
    {
     "name": "stdout",
     "output_type": "stream",
     "text": [
      "Reading AFMD data from file E:/frd-historical/data/stock/1min/csv/AFMD_full_1min_adjsplitdiv.txt\n"
     ]
    },
    {
     "name": "stderr",
     "output_type": "stream",
     "text": [
      " 45%|████▍     | 134/300 [02:36<02:26,  1.14it/s]"
     ]
    },
    {
     "name": "stdout",
     "output_type": "stream",
     "text": [
      "Reading AFRIW data from file E:/frd-historical/data/stock/1min/csv/AFRIW_full_1min_adjsplitdiv.txt\n",
      "No data found for AFRIW for period 2017-01-01 00:00:00 to 2017-12-31 23:59:59\n",
      "Reading AFRI data from file E:/frd-historical/data/stock/1min/csv/AFRI_full_1min_adjsplitdiv.txt\n",
      "No data found for AFRI for period 2017-01-01 00:00:00 to 2017-12-31 23:59:59\n",
      "Reading AFRM data from file E:/frd-historical/data/stock/1min/csv/AFRM_full_1min_adjsplitdiv.txt\n"
     ]
    },
    {
     "name": "stderr",
     "output_type": "stream",
     "text": [
      " 46%|████▌     | 137/300 [02:37<01:34,  1.73it/s]"
     ]
    },
    {
     "name": "stdout",
     "output_type": "stream",
     "text": [
      "No data found for AFRM for period 2017-01-01 00:00:00 to 2017-12-31 23:59:59\n",
      "Reading AFT data from file E:/frd-historical/data/stock/1min/csv/AFT_full_1min_adjsplitdiv.txt\n"
     ]
    },
    {
     "name": "stderr",
     "output_type": "stream",
     "text": [
      " 46%|████▌     | 138/300 [02:37<01:31,  1.77it/s]"
     ]
    },
    {
     "name": "stdout",
     "output_type": "stream",
     "text": [
      "Reading AFYA data from file E:/frd-historical/data/stock/1min/csv/AFYA_full_1min_adjsplitdiv.txt\n"
     ]
    },
    {
     "name": "stderr",
     "output_type": "stream",
     "text": [
      " 46%|████▋     | 139/300 [02:37<01:27,  1.84it/s]"
     ]
    },
    {
     "name": "stdout",
     "output_type": "stream",
     "text": [
      "No data found for AFYA for period 2017-01-01 00:00:00 to 2017-12-31 23:59:59\n",
      "Reading AGAE data from file E:/frd-historical/data/stock/1min/csv/AGAE_full_1min_adjsplitdiv.txt\n"
     ]
    },
    {
     "name": "stderr",
     "output_type": "stream",
     "text": [
      " 47%|████▋     | 141/300 [02:38<01:03,  2.51it/s]"
     ]
    },
    {
     "name": "stdout",
     "output_type": "stream",
     "text": [
      "Reading AGBA data from file E:/frd-historical/data/stock/1min/csv/AGBA_full_1min_adjsplitdiv.txt\n",
      "No data found for AGBA for period 2017-01-01 00:00:00 to 2017-12-31 23:59:59\n",
      "Reading AGCO data from file E:/frd-historical/data/stock/1min/csv/AGCO_full_1min_adjsplitdiv.txt\n"
     ]
    },
    {
     "name": "stderr",
     "output_type": "stream",
     "text": [
      " 47%|████▋     | 142/300 [02:40<02:11,  1.20it/s]"
     ]
    },
    {
     "name": "stdout",
     "output_type": "stream",
     "text": [
      "Reading AGD data from file E:/frd-historical/data/stock/1min/csv/AGD_full_1min_adjsplitdiv.txt\n"
     ]
    },
    {
     "name": "stderr",
     "output_type": "stream",
     "text": [
      " 48%|████▊     | 143/300 [02:41<02:02,  1.28it/s]"
     ]
    },
    {
     "name": "stdout",
     "output_type": "stream",
     "text": [
      "Reading AGEN data from file E:/frd-historical/data/stock/1min/csv/AGEN_full_1min_adjsplitdiv.txt\n"
     ]
    },
    {
     "name": "stderr",
     "output_type": "stream",
     "text": [
      " 48%|████▊     | 144/300 [02:42<02:43,  1.05s/it]"
     ]
    },
    {
     "name": "stdout",
     "output_type": "stream",
     "text": [
      "Reading AGE data from file E:/frd-historical/data/stock/1min/csv/AGE_full_1min_adjsplitdiv.txt\n"
     ]
    },
    {
     "name": "stderr",
     "output_type": "stream",
     "text": [
      " 48%|████▊     | 145/300 [02:43<02:07,  1.22it/s]"
     ]
    },
    {
     "name": "stdout",
     "output_type": "stream",
     "text": [
      "No data found for AGE for period 2017-01-01 00:00:00 to 2017-12-31 23:59:59\n",
      "Reading AGFY data from file E:/frd-historical/data/stock/1min/csv/AGFY_full_1min_adjsplitdiv.txt\n"
     ]
    },
    {
     "name": "stderr",
     "output_type": "stream",
     "text": [
      " 49%|████▊     | 146/300 [02:43<01:45,  1.45it/s]"
     ]
    },
    {
     "name": "stdout",
     "output_type": "stream",
     "text": [
      "No data found for AGFY for period 2017-01-01 00:00:00 to 2017-12-31 23:59:59\n",
      "Reading AGIO data from file E:/frd-historical/data/stock/1min/csv/AGIO_full_1min_adjsplitdiv.txt\n"
     ]
    },
    {
     "name": "stderr",
     "output_type": "stream",
     "text": [
      " 49%|████▉     | 147/300 [02:44<02:12,  1.16it/s]"
     ]
    },
    {
     "name": "stdout",
     "output_type": "stream",
     "text": [
      "Reading AGI data from file E:/frd-historical/data/stock/1min/csv/AGI_full_1min_adjsplitdiv.txt\n"
     ]
    },
    {
     "name": "stderr",
     "output_type": "stream",
     "text": [
      " 49%|████▉     | 148/300 [02:45<02:27,  1.03it/s]"
     ]
    },
    {
     "name": "stdout",
     "output_type": "stream",
     "text": [
      "Reading AGL data from file E:/frd-historical/data/stock/1min/csv/AGL_full_1min_adjsplitdiv.txt\n"
     ]
    },
    {
     "name": "stderr",
     "output_type": "stream",
     "text": [
      " 50%|████▉     | 149/300 [02:46<02:05,  1.21it/s]"
     ]
    },
    {
     "name": "stdout",
     "output_type": "stream",
     "text": [
      "No data found for AGL for period 2017-01-01 00:00:00 to 2017-12-31 23:59:59\n",
      "Reading AGMH data from file E:/frd-historical/data/stock/1min/csv/AGMH_full_1min_adjsplitdiv.txt\n",
      "No data found for AGMH for period 2017-01-01 00:00:00 to 2017-12-31 23:59:59\n",
      "Reading AGM data from file E:/frd-historical/data/stock/1min/csv/AGM_full_1min_adjsplitdiv.txt\n"
     ]
    },
    {
     "name": "stderr",
     "output_type": "stream",
     "text": [
      " 51%|█████     | 152/300 [02:47<01:14,  1.98it/s]"
     ]
    },
    {
     "name": "stdout",
     "output_type": "stream",
     "text": [
      "Reading AGNCN data from file E:/frd-historical/data/stock/1min/csv/AGNCN_full_1min_adjsplitdiv.txt\n",
      "Reading AGNCP data from file E:/frd-historical/data/stock/1min/csv/AGNCP_full_1min_adjsplitdiv.txt\n"
     ]
    },
    {
     "name": "stderr",
     "output_type": "stream",
     "text": [
      " 51%|█████     | 153/300 [02:47<01:00,  2.42it/s]"
     ]
    },
    {
     "name": "stdout",
     "output_type": "stream",
     "text": [
      "No data found for AGNCP for period 2017-01-01 00:00:00 to 2017-12-31 23:59:59\n",
      "Reading AGNC data from file E:/frd-historical/data/stock/1min/csv/AGNC_full_1min_adjsplitdiv.txt\n"
     ]
    },
    {
     "name": "stderr",
     "output_type": "stream",
     "text": [
      " 51%|█████▏    | 154/300 [02:50<02:25,  1.01it/s]"
     ]
    },
    {
     "name": "stdout",
     "output_type": "stream",
     "text": [
      "Reading AGO data from file E:/frd-historical/data/stock/1min/csv/AGO_full_1min_adjsplitdiv.txt\n"
     ]
    },
    {
     "name": "stderr",
     "output_type": "stream",
     "text": [
      " 52%|█████▏    | 155/300 [02:52<03:19,  1.38s/it]"
     ]
    },
    {
     "name": "stdout",
     "output_type": "stream",
     "text": [
      "Reading AGRIW data from file E:/frd-historical/data/stock/1min/csv/AGRIW_full_1min_adjsplitdiv.txt\n",
      "No data found for AGRIW for period 2017-01-01 00:00:00 to 2017-12-31 23:59:59\n",
      "Reading AGRI data from file E:/frd-historical/data/stock/1min/csv/AGRI_full_1min_adjsplitdiv.txt\n"
     ]
    },
    {
     "name": "stderr",
     "output_type": "stream",
     "text": [
      " 52%|█████▏    | 157/300 [02:52<01:59,  1.20it/s]"
     ]
    },
    {
     "name": "stdout",
     "output_type": "stream",
     "text": [
      "No data found for AGRI for period 2017-01-01 00:00:00 to 2017-12-31 23:59:59\n",
      "Reading AGRO data from file E:/frd-historical/data/stock/1min/csv/AGRO_full_1min_adjsplitdiv.txt\n"
     ]
    },
    {
     "name": "stderr",
     "output_type": "stream",
     "text": [
      " 53%|█████▎    | 158/300 [02:54<02:13,  1.06it/s]"
     ]
    },
    {
     "name": "stdout",
     "output_type": "stream",
     "text": [
      "Reading AGRX data from file E:/frd-historical/data/stock/1min/csv/AGRX_full_1min_adjsplitdiv.txt\n"
     ]
    },
    {
     "name": "stderr",
     "output_type": "stream",
     "text": [
      " 53%|█████▎    | 159/300 [02:54<02:04,  1.13it/s]"
     ]
    },
    {
     "name": "stdout",
     "output_type": "stream",
     "text": [
      "Reading AGR data from file E:/frd-historical/data/stock/1min/csv/AGR_full_1min_adjsplitdiv.txt\n"
     ]
    },
    {
     "name": "stderr",
     "output_type": "stream",
     "text": [
      " 53%|█████▎    | 160/300 [02:55<02:07,  1.10it/s]"
     ]
    },
    {
     "name": "stdout",
     "output_type": "stream",
     "text": [
      "Reading AGS data from file E:/frd-historical/data/stock/1min/csv/AGS_full_1min_adjsplitdiv.txt\n"
     ]
    },
    {
     "name": "stderr",
     "output_type": "stream",
     "text": [
      " 54%|█████▎    | 161/300 [02:56<01:53,  1.23it/s]"
     ]
    },
    {
     "name": "stdout",
     "output_type": "stream",
     "text": [
      "No data found for AGS for period 2017-01-01 00:00:00 to 2017-12-31 23:59:59\n",
      "Reading AGTI data from file E:/frd-historical/data/stock/1min/csv/AGTI_full_1min_adjsplitdiv.txt\n"
     ]
    },
    {
     "name": "stderr",
     "output_type": "stream",
     "text": [
      " 54%|█████▍    | 162/300 [02:56<01:30,  1.53it/s]"
     ]
    },
    {
     "name": "stdout",
     "output_type": "stream",
     "text": [
      "No data found for AGTI for period 2017-01-01 00:00:00 to 2017-12-31 23:59:59\n",
      "Reading AGX data from file E:/frd-historical/data/stock/1min/csv/AGX_full_1min_adjsplitdiv.txt\n"
     ]
    },
    {
     "name": "stderr",
     "output_type": "stream",
     "text": [
      " 54%|█████▍    | 163/300 [02:57<01:33,  1.47it/s]"
     ]
    },
    {
     "name": "stdout",
     "output_type": "stream",
     "text": [
      "Reading AGYS data from file E:/frd-historical/data/stock/1min/csv/AGYS_full_1min_adjsplitdiv.txt\n"
     ]
    },
    {
     "name": "stderr",
     "output_type": "stream",
     "text": [
      " 55%|█████▍    | 164/300 [02:58<01:42,  1.32it/s]"
     ]
    },
    {
     "name": "stdout",
     "output_type": "stream",
     "text": [
      "Reading AG data from file E:/frd-historical/data/stock/1min/csv/AG_full_1min_adjsplitdiv.txt\n"
     ]
    },
    {
     "name": "stderr",
     "output_type": "stream",
     "text": [
      " 55%|█████▌    | 165/300 [03:00<02:55,  1.30s/it]"
     ]
    },
    {
     "name": "stdout",
     "output_type": "stream",
     "text": [
      "Reading AHCO data from file E:/frd-historical/data/stock/1min/csv/AHCO_full_1min_adjsplitdiv.txt\n"
     ]
    },
    {
     "name": "stderr",
     "output_type": "stream",
     "text": [
      " 55%|█████▌    | 166/300 [03:01<02:27,  1.10s/it]"
     ]
    },
    {
     "name": "stdout",
     "output_type": "stream",
     "text": [
      "No data found for AHCO for period 2017-01-01 00:00:00 to 2017-12-31 23:59:59\n",
      "Reading AHG data from file E:/frd-historical/data/stock/1min/csv/AHG_full_1min_adjsplitdiv.txt\n"
     ]
    },
    {
     "name": "stderr",
     "output_type": "stream",
     "text": [
      " 56%|█████▌    | 167/300 [03:01<01:52,  1.18it/s]"
     ]
    },
    {
     "name": "stdout",
     "output_type": "stream",
     "text": [
      "Reading AHH data from file E:/frd-historical/data/stock/1min/csv/AHH_full_1min_adjsplitdiv.txt\n"
     ]
    },
    {
     "name": "stderr",
     "output_type": "stream",
     "text": [
      " 56%|█████▋    | 169/300 [03:02<01:25,  1.54it/s]"
     ]
    },
    {
     "name": "stdout",
     "output_type": "stream",
     "text": [
      "Reading AHI data from file E:/frd-historical/data/stock/1min/csv/AHI_full_1min_adjsplitdiv.txt\n",
      "No data found for AHI for period 2017-01-01 00:00:00 to 2017-12-31 23:59:59\n",
      "Reading AHR data from file E:/frd-historical/data/stock/1min/csv/AHR_full_1min_adjsplitdiv.txt\n",
      "No data found for AHR for period 2017-01-01 00:00:00 to 2017-12-31 23:59:59\n",
      "Reading AHT data from file E:/frd-historical/data/stock/1min/csv/AHT_full_1min_adjsplitdiv.txt\n"
     ]
    },
    {
     "name": "stderr",
     "output_type": "stream",
     "text": [
      " 57%|█████▋    | 171/300 [03:05<01:55,  1.12it/s]"
     ]
    },
    {
     "name": "stdout",
     "output_type": "stream",
     "text": [
      "Reading AIB data from file E:/frd-historical/data/stock/1min/csv/AIB_full_1min_adjsplitdiv.txt\n",
      "No data found for AIB for period 2017-01-01 00:00:00 to 2017-12-31 23:59:59\n",
      "Reading AIF data from file E:/frd-historical/data/stock/1min/csv/AIF_full_1min_adjsplitdiv.txt\n"
     ]
    },
    {
     "name": "stderr",
     "output_type": "stream",
     "text": [
      " 58%|█████▊    | 173/300 [03:05<01:23,  1.52it/s]"
     ]
    },
    {
     "name": "stdout",
     "output_type": "stream",
     "text": [
      "Reading AIG data from file E:/frd-historical/data/stock/1min/csv/AIG_full_1min_adjsplitdiv.txt\n"
     ]
    },
    {
     "name": "stderr",
     "output_type": "stream",
     "text": [
      " 58%|█████▊    | 174/300 [03:08<02:33,  1.22s/it]"
     ]
    },
    {
     "name": "stdout",
     "output_type": "stream",
     "text": [
      "Reading AIHS data from file E:/frd-historical/data/stock/1min/csv/AIHS_full_1min_adjsplitdiv.txt\n"
     ]
    },
    {
     "name": "stderr",
     "output_type": "stream",
     "text": [
      " 59%|█████▊    | 176/300 [03:09<01:36,  1.28it/s]"
     ]
    },
    {
     "name": "stdout",
     "output_type": "stream",
     "text": [
      "No data found for AIHS for period 2017-01-01 00:00:00 to 2017-12-31 23:59:59\n",
      "Reading AIH data from file E:/frd-historical/data/stock/1min/csv/AIH_full_1min_adjsplitdiv.txt\n",
      "No data found for AIH for period 2017-01-01 00:00:00 to 2017-12-31 23:59:59\n",
      "Reading AIMAU data from file E:/frd-historical/data/stock/1min/csv/AIMAU_full_1min_adjsplitdiv.txt\n",
      "No data found for AIMAU for period 2017-01-01 00:00:00 to 2017-12-31 23:59:59\n",
      "Reading AIMAW data from file E:/frd-historical/data/stock/1min/csv/AIMAW_full_1min_adjsplitdiv.txt\n",
      "No data found for AIMAW for period 2017-01-01 00:00:00 to 2017-12-31 23:59:59\n",
      "Reading AIMD data from file E:/frd-historical/data/stock/1min/csv/AIMD_full_1min_adjsplitdiv.txt\n"
     ]
    },
    {
     "name": "stderr",
     "output_type": "stream",
     "text": [
      " 60%|█████▉    | 179/300 [03:09<00:47,  2.53it/s]"
     ]
    },
    {
     "name": "stdout",
     "output_type": "stream",
     "text": [
      "Reading AIM data from file E:/frd-historical/data/stock/1min/csv/AIM_full_1min_adjsplitdiv.txt\n"
     ]
    },
    {
     "name": "stderr",
     "output_type": "stream",
     "text": [
      " 60%|██████    | 181/300 [03:10<00:55,  2.14it/s]"
     ]
    },
    {
     "name": "stdout",
     "output_type": "stream",
     "text": [
      "Reading AINC data from file E:/frd-historical/data/stock/1min/csv/AINC_full_1min_adjsplitdiv.txt\n",
      "Reading AIN data from file E:/frd-historical/data/stock/1min/csv/AIN_full_1min_adjsplitdiv.txt\n"
     ]
    },
    {
     "name": "stderr",
     "output_type": "stream",
     "text": [
      " 61%|██████    | 182/300 [03:11<01:12,  1.62it/s]"
     ]
    },
    {
     "name": "stdout",
     "output_type": "stream",
     "text": [
      "Reading AIO data from file E:/frd-historical/data/stock/1min/csv/AIO_full_1min_adjsplitdiv.txt\n"
     ]
    },
    {
     "name": "stderr",
     "output_type": "stream",
     "text": [
      " 61%|██████    | 183/300 [03:12<01:03,  1.83it/s]"
     ]
    },
    {
     "name": "stdout",
     "output_type": "stream",
     "text": [
      "No data found for AIO for period 2017-01-01 00:00:00 to 2017-12-31 23:59:59\n",
      "Reading AIP data from file E:/frd-historical/data/stock/1min/csv/AIP_full_1min_adjsplitdiv.txt\n"
     ]
    },
    {
     "name": "stderr",
     "output_type": "stream",
     "text": [
      " 61%|██████▏   | 184/300 [03:12<00:54,  2.14it/s]"
     ]
    },
    {
     "name": "stdout",
     "output_type": "stream",
     "text": [
      "No data found for AIP for period 2017-01-01 00:00:00 to 2017-12-31 23:59:59\n",
      "Reading AIRC data from file E:/frd-historical/data/stock/1min/csv/AIRC_full_1min_adjsplitdiv.txt\n"
     ]
    },
    {
     "name": "stderr",
     "output_type": "stream",
     "text": [
      " 62%|██████▏   | 185/300 [03:13<00:55,  2.08it/s]"
     ]
    },
    {
     "name": "stdout",
     "output_type": "stream",
     "text": [
      "No data found for AIRC for period 2017-01-01 00:00:00 to 2017-12-31 23:59:59\n",
      "Reading AIRG data from file E:/frd-historical/data/stock/1min/csv/AIRG_full_1min_adjsplitdiv.txt\n"
     ]
    },
    {
     "name": "stderr",
     "output_type": "stream",
     "text": [
      " 62%|██████▏   | 187/300 [03:13<00:42,  2.68it/s]"
     ]
    },
    {
     "name": "stdout",
     "output_type": "stream",
     "text": [
      "Reading AIRI data from file E:/frd-historical/data/stock/1min/csv/AIRI_full_1min_adjsplitdiv.txt\n"
     ]
    },
    {
     "name": "stderr",
     "output_type": "stream",
     "text": [
      " 63%|██████▎   | 188/300 [03:13<00:34,  3.22it/s]"
     ]
    },
    {
     "name": "stdout",
     "output_type": "stream",
     "text": [
      "Reading AIRS data from file E:/frd-historical/data/stock/1min/csv/AIRS_full_1min_adjsplitdiv.txt\n",
      "No data found for AIRS for period 2017-01-01 00:00:00 to 2017-12-31 23:59:59\n",
      "Reading AIRTP data from file E:/frd-historical/data/stock/1min/csv/AIRTP_full_1min_adjsplitdiv.txt\n",
      "No data found for AIRTP for period 2017-01-01 00:00:00 to 2017-12-31 23:59:59\n",
      "Reading AIRT data from file E:/frd-historical/data/stock/1min/csv/AIRT_full_1min_adjsplitdiv.txt\n"
     ]
    },
    {
     "name": "stderr",
     "output_type": "stream",
     "text": [
      " 63%|██████▎   | 190/300 [03:13<00:22,  4.86it/s]"
     ]
    },
    {
     "name": "stdout",
     "output_type": "stream",
     "text": [
      "Reading AIR data from file E:/frd-historical/data/stock/1min/csv/AIR_full_1min_adjsplitdiv.txt\n"
     ]
    },
    {
     "name": "stderr",
     "output_type": "stream",
     "text": [
      " 64%|██████▎   | 191/300 [03:15<01:04,  1.69it/s]"
     ]
    },
    {
     "name": "stdout",
     "output_type": "stream",
     "text": [
      "Reading AITR data from file E:/frd-historical/data/stock/1min/csv/AITR_full_1min_adjsplitdiv.txt\n",
      "No data found for AITR for period 2017-01-01 00:00:00 to 2017-12-31 23:59:59\n",
      "Reading AIT data from file E:/frd-historical/data/stock/1min/csv/AIT_full_1min_adjsplitdiv.txt\n"
     ]
    },
    {
     "name": "stderr",
     "output_type": "stream",
     "text": [
      " 64%|██████▍   | 193/300 [03:17<01:11,  1.50it/s]"
     ]
    },
    {
     "name": "stdout",
     "output_type": "stream",
     "text": [
      "Reading AIU data from file E:/frd-historical/data/stock/1min/csv/AIU_full_1min_adjsplitdiv.txt\n",
      "No data found for AIU for period 2017-01-01 00:00:00 to 2017-12-31 23:59:59\n",
      "Reading AIV data from file E:/frd-historical/data/stock/1min/csv/AIV_full_1min_adjsplitdiv.txt\n"
     ]
    },
    {
     "name": "stderr",
     "output_type": "stream",
     "text": [
      " 65%|██████▌   | 196/300 [03:19<01:09,  1.49it/s]"
     ]
    },
    {
     "name": "stdout",
     "output_type": "stream",
     "text": [
      "Reading AIXI data from file E:/frd-historical/data/stock/1min/csv/AIXI_full_1min_adjsplitdiv.txt\n",
      "No data found for AIXI for period 2017-01-01 00:00:00 to 2017-12-31 23:59:59\n",
      "Reading AIZ data from file E:/frd-historical/data/stock/1min/csv/AIZ_full_1min_adjsplitdiv.txt\n"
     ]
    },
    {
     "name": "stderr",
     "output_type": "stream",
     "text": [
      " 66%|██████▌   | 197/300 [03:22<01:54,  1.11s/it]"
     ]
    },
    {
     "name": "stdout",
     "output_type": "stream",
     "text": [
      "Reading AI data from file E:/frd-historical/data/stock/1min/csv/AI_full_1min_adjsplitdiv.txt\n"
     ]
    },
    {
     "name": "stderr",
     "output_type": "stream",
     "text": [
      " 66%|██████▌   | 198/300 [03:22<01:42,  1.01s/it]"
     ]
    },
    {
     "name": "stdout",
     "output_type": "stream",
     "text": [
      "No data found for AI for period 2017-01-01 00:00:00 to 2017-12-31 23:59:59\n",
      "Reading AJG data from file E:/frd-historical/data/stock/1min/csv/AJG_full_1min_adjsplitdiv.txt\n"
     ]
    },
    {
     "name": "stderr",
     "output_type": "stream",
     "text": [
      " 66%|██████▋   | 199/300 [03:25<02:23,  1.42s/it]"
     ]
    },
    {
     "name": "stdout",
     "output_type": "stream",
     "text": [
      "Reading AJX data from file E:/frd-historical/data/stock/1min/csv/AJX_full_1min_adjsplitdiv.txt\n"
     ]
    },
    {
     "name": "stderr",
     "output_type": "stream",
     "text": [
      " 67%|██████▋   | 200/300 [03:25<01:54,  1.15s/it]"
     ]
    },
    {
     "name": "stdout",
     "output_type": "stream",
     "text": [
      "Reading AKAM data from file E:/frd-historical/data/stock/1min/csv/AKAM_full_1min_adjsplitdiv.txt\n"
     ]
    },
    {
     "name": "stderr",
     "output_type": "stream",
     "text": [
      " 67%|██████▋   | 202/300 [03:28<01:57,  1.20s/it]"
     ]
    },
    {
     "name": "stdout",
     "output_type": "stream",
     "text": [
      "Reading AKAN data from file E:/frd-historical/data/stock/1min/csv/AKAN_full_1min_adjsplitdiv.txt\n",
      "No data found for AKAN for period 2017-01-01 00:00:00 to 2017-12-31 23:59:59\n",
      "Reading AKA data from file E:/frd-historical/data/stock/1min/csv/AKA_full_1min_adjsplitdiv.txt\n"
     ]
    },
    {
     "name": "stderr",
     "output_type": "stream",
     "text": [
      " 68%|██████▊   | 203/300 [03:28<01:26,  1.12it/s]"
     ]
    },
    {
     "name": "stdout",
     "output_type": "stream",
     "text": [
      "No data found for AKA for period 2017-01-01 00:00:00 to 2017-12-31 23:59:59\n",
      "Reading AKBA data from file E:/frd-historical/data/stock/1min/csv/AKBA_full_1min_adjsplitdiv.txt\n"
     ]
    },
    {
     "name": "stderr",
     "output_type": "stream",
     "text": [
      " 68%|██████▊   | 205/300 [03:30<01:09,  1.36it/s]"
     ]
    },
    {
     "name": "stdout",
     "output_type": "stream",
     "text": [
      "Reading AKLI data from file E:/frd-historical/data/stock/1min/csv/AKLI_full_1min_adjsplitdiv.txt\n",
      "No data found for AKLI for period 2017-01-01 00:00:00 to 2017-12-31 23:59:59\n",
      "Reading AKO.A data from file E:/frd-historical/data/stock/1min/csv/AKO.A_full_1min_adjsplitdiv.txt\n",
      "Reading AKO.B data from file E:/frd-historical/data/stock/1min/csv/AKO.B_full_1min_adjsplitdiv.txt\n"
     ]
    },
    {
     "name": "stderr",
     "output_type": "stream",
     "text": [
      " 69%|██████▉   | 207/300 [03:30<00:43,  2.13it/s]"
     ]
    },
    {
     "name": "stdout",
     "output_type": "stream",
     "text": [
      "Reading AKRO data from file E:/frd-historical/data/stock/1min/csv/AKRO_full_1min_adjsplitdiv.txt\n"
     ]
    },
    {
     "name": "stderr",
     "output_type": "stream",
     "text": [
      " 69%|██████▉   | 208/300 [03:30<00:42,  2.18it/s]"
     ]
    },
    {
     "name": "stdout",
     "output_type": "stream",
     "text": [
      "No data found for AKRO for period 2017-01-01 00:00:00 to 2017-12-31 23:59:59\n",
      "Reading AKR data from file E:/frd-historical/data/stock/1min/csv/AKR_full_1min_adjsplitdiv.txt\n"
     ]
    },
    {
     "name": "stderr",
     "output_type": "stream",
     "text": [
      " 70%|██████▉   | 209/300 [03:32<01:13,  1.24it/s]"
     ]
    },
    {
     "name": "stdout",
     "output_type": "stream",
     "text": [
      "Reading AKTS data from file E:/frd-historical/data/stock/1min/csv/AKTS_full_1min_adjsplitdiv.txt\n"
     ]
    },
    {
     "name": "stderr",
     "output_type": "stream",
     "text": [
      " 70%|███████   | 210/300 [03:33<01:09,  1.30it/s]"
     ]
    },
    {
     "name": "stdout",
     "output_type": "stream",
     "text": [
      "Reading AKTX data from file E:/frd-historical/data/stock/1min/csv/AKTX_full_1min_adjsplitdiv.txt\n"
     ]
    },
    {
     "name": "stderr",
     "output_type": "stream",
     "text": [
      " 70%|███████   | 211/300 [03:33<00:55,  1.59it/s]"
     ]
    },
    {
     "name": "stdout",
     "output_type": "stream",
     "text": [
      "Reading AKYA data from file E:/frd-historical/data/stock/1min/csv/AKYA_full_1min_adjsplitdiv.txt\n"
     ]
    },
    {
     "name": "stderr",
     "output_type": "stream",
     "text": [
      " 71%|███████   | 212/300 [03:33<00:45,  1.95it/s]"
     ]
    },
    {
     "name": "stdout",
     "output_type": "stream",
     "text": [
      "No data found for AKYA for period 2017-01-01 00:00:00 to 2017-12-31 23:59:59\n",
      "Reading ALAR data from file E:/frd-historical/data/stock/1min/csv/ALAR_full_1min_adjsplitdiv.txt\n"
     ]
    },
    {
     "name": "stderr",
     "output_type": "stream",
     "text": [
      " 71%|███████   | 213/300 [03:34<00:39,  2.23it/s]"
     ]
    },
    {
     "name": "stdout",
     "output_type": "stream",
     "text": [
      "No data found for ALAR for period 2017-01-01 00:00:00 to 2017-12-31 23:59:59\n",
      "Reading ALBT data from file E:/frd-historical/data/stock/1min/csv/ALBT_full_1min_adjsplitdiv.txt\n"
     ]
    },
    {
     "name": "stderr",
     "output_type": "stream",
     "text": [
      " 71%|███████▏  | 214/300 [03:34<00:33,  2.55it/s]"
     ]
    },
    {
     "name": "stdout",
     "output_type": "stream",
     "text": [
      "No data found for ALBT for period 2017-01-01 00:00:00 to 2017-12-31 23:59:59\n",
      "Reading ALB data from file E:/frd-historical/data/stock/1min/csv/ALB_full_1min_adjsplitdiv.txt\n"
     ]
    },
    {
     "name": "stderr",
     "output_type": "stream",
     "text": [
      " 72%|███████▏  | 215/300 [03:37<01:31,  1.08s/it]"
     ]
    },
    {
     "name": "stdout",
     "output_type": "stream",
     "text": [
      "Reading ALCE data from file E:/frd-historical/data/stock/1min/csv/ALCE_full_1min_adjsplitdiv.txt\n",
      "No data found for ALCE for period 2017-01-01 00:00:00 to 2017-12-31 23:59:59\n",
      "Reading ALCO data from file E:/frd-historical/data/stock/1min/csv/ALCO_full_1min_adjsplitdiv.txt\n"
     ]
    },
    {
     "name": "stderr",
     "output_type": "stream",
     "text": [
      " 72%|███████▏  | 217/300 [03:37<00:55,  1.51it/s]"
     ]
    },
    {
     "name": "stdout",
     "output_type": "stream",
     "text": [
      "Reading ALCY data from file E:/frd-historical/data/stock/1min/csv/ALCY_full_1min_adjsplitdiv.txt\n",
      "No data found for ALCY for period 2017-01-01 00:00:00 to 2017-12-31 23:59:59\n",
      "Reading ALC data from file E:/frd-historical/data/stock/1min/csv/ALC_full_1min_adjsplitdiv.txt\n"
     ]
    },
    {
     "name": "stderr",
     "output_type": "stream",
     "text": [
      " 73%|███████▎  | 219/300 [03:38<00:43,  1.85it/s]"
     ]
    },
    {
     "name": "stdout",
     "output_type": "stream",
     "text": [
      "No data found for ALC for period 2017-01-01 00:00:00 to 2017-12-31 23:59:59\n",
      "Reading ALDX data from file E:/frd-historical/data/stock/1min/csv/ALDX_full_1min_adjsplitdiv.txt\n"
     ]
    },
    {
     "name": "stderr",
     "output_type": "stream",
     "text": [
      " 73%|███████▎  | 220/300 [03:38<00:46,  1.73it/s]"
     ]
    },
    {
     "name": "stdout",
     "output_type": "stream",
     "text": [
      "Reading ALEC data from file E:/frd-historical/data/stock/1min/csv/ALEC_full_1min_adjsplitdiv.txt\n"
     ]
    },
    {
     "name": "stderr",
     "output_type": "stream",
     "text": [
      " 74%|███████▎  | 221/300 [03:39<00:45,  1.72it/s]"
     ]
    },
    {
     "name": "stdout",
     "output_type": "stream",
     "text": [
      "No data found for ALEC for period 2017-01-01 00:00:00 to 2017-12-31 23:59:59\n",
      "Reading ALEX data from file E:/frd-historical/data/stock/1min/csv/ALEX_full_1min_adjsplitdiv.txt\n"
     ]
    },
    {
     "name": "stderr",
     "output_type": "stream",
     "text": [
      " 74%|███████▍  | 222/300 [03:40<00:57,  1.35it/s]"
     ]
    },
    {
     "name": "stdout",
     "output_type": "stream",
     "text": [
      "Reading ALE data from file E:/frd-historical/data/stock/1min/csv/ALE_full_1min_adjsplitdiv.txt\n"
     ]
    },
    {
     "name": "stderr",
     "output_type": "stream",
     "text": [
      " 74%|███████▍  | 223/300 [03:42<01:14,  1.03it/s]"
     ]
    },
    {
     "name": "stdout",
     "output_type": "stream",
     "text": [
      "Reading ALGM data from file E:/frd-historical/data/stock/1min/csv/ALGM_full_1min_adjsplitdiv.txt\n"
     ]
    },
    {
     "name": "stderr",
     "output_type": "stream",
     "text": [
      " 75%|███████▍  | 224/300 [03:42<01:03,  1.20it/s]"
     ]
    },
    {
     "name": "stdout",
     "output_type": "stream",
     "text": [
      "No data found for ALGM for period 2017-01-01 00:00:00 to 2017-12-31 23:59:59\n",
      "Reading ALGN data from file E:/frd-historical/data/stock/1min/csv/ALGN_full_1min_adjsplitdiv.txt\n"
     ]
    },
    {
     "name": "stderr",
     "output_type": "stream",
     "text": [
      " 75%|███████▌  | 225/300 [03:44<01:31,  1.22s/it]"
     ]
    },
    {
     "name": "stdout",
     "output_type": "stream",
     "text": [
      "Reading ALGS data from file E:/frd-historical/data/stock/1min/csv/ALGS_full_1min_adjsplitdiv.txt\n"
     ]
    },
    {
     "name": "stderr",
     "output_type": "stream",
     "text": [
      " 75%|███████▌  | 226/300 [03:45<01:08,  1.07it/s]"
     ]
    },
    {
     "name": "stdout",
     "output_type": "stream",
     "text": [
      "No data found for ALGS for period 2017-01-01 00:00:00 to 2017-12-31 23:59:59\n",
      "Reading ALGT data from file E:/frd-historical/data/stock/1min/csv/ALGT_full_1min_adjsplitdiv.txt\n"
     ]
    },
    {
     "name": "stderr",
     "output_type": "stream",
     "text": [
      " 76%|███████▌  | 227/300 [03:46<01:20,  1.11s/it]"
     ]
    },
    {
     "name": "stdout",
     "output_type": "stream",
     "text": [
      "Reading ALG data from file E:/frd-historical/data/stock/1min/csv/ALG_full_1min_adjsplitdiv.txt\n"
     ]
    },
    {
     "name": "stderr",
     "output_type": "stream",
     "text": [
      " 76%|███████▌  | 228/300 [03:47<01:09,  1.04it/s]"
     ]
    },
    {
     "name": "stdout",
     "output_type": "stream",
     "text": [
      "Reading ALHC data from file E:/frd-historical/data/stock/1min/csv/ALHC_full_1min_adjsplitdiv.txt\n"
     ]
    },
    {
     "name": "stderr",
     "output_type": "stream",
     "text": [
      " 76%|███████▋  | 229/300 [03:47<00:55,  1.28it/s]"
     ]
    },
    {
     "name": "stdout",
     "output_type": "stream",
     "text": [
      "No data found for ALHC for period 2017-01-01 00:00:00 to 2017-12-31 23:59:59\n",
      "Reading ALIM data from file E:/frd-historical/data/stock/1min/csv/ALIM_full_1min_adjsplitdiv.txt\n"
     ]
    },
    {
     "name": "stderr",
     "output_type": "stream",
     "text": [
      " 77%|███████▋  | 230/300 [03:48<00:49,  1.40it/s]"
     ]
    },
    {
     "name": "stdout",
     "output_type": "stream",
     "text": [
      "Reading ALIT data from file E:/frd-historical/data/stock/1min/csv/ALIT_full_1min_adjsplitdiv.txt\n"
     ]
    },
    {
     "name": "stderr",
     "output_type": "stream",
     "text": [
      " 77%|███████▋  | 231/300 [03:48<00:46,  1.48it/s]"
     ]
    },
    {
     "name": "stdout",
     "output_type": "stream",
     "text": [
      "No data found for ALIT for period 2017-01-01 00:00:00 to 2017-12-31 23:59:59\n",
      "Reading ALKS data from file E:/frd-historical/data/stock/1min/csv/ALKS_full_1min_adjsplitdiv.txt\n"
     ]
    },
    {
     "name": "stderr",
     "output_type": "stream",
     "text": [
      " 77%|███████▋  | 232/300 [03:51<01:19,  1.17s/it]"
     ]
    },
    {
     "name": "stdout",
     "output_type": "stream",
     "text": [
      "Reading ALKT data from file E:/frd-historical/data/stock/1min/csv/ALKT_full_1min_adjsplitdiv.txt\n"
     ]
    },
    {
     "name": "stderr",
     "output_type": "stream",
     "text": [
      " 78%|███████▊  | 233/300 [03:51<01:00,  1.10it/s]"
     ]
    },
    {
     "name": "stdout",
     "output_type": "stream",
     "text": [
      "No data found for ALKT for period 2017-01-01 00:00:00 to 2017-12-31 23:59:59\n",
      "Reading ALK data from file E:/frd-historical/data/stock/1min/csv/ALK_full_1min_adjsplitdiv.txt\n"
     ]
    },
    {
     "name": "stderr",
     "output_type": "stream",
     "text": [
      " 78%|███████▊  | 234/300 [03:54<01:37,  1.48s/it]"
     ]
    },
    {
     "name": "stdout",
     "output_type": "stream",
     "text": [
      "Reading ALLE data from file E:/frd-historical/data/stock/1min/csv/ALLE_full_1min_adjsplitdiv.txt\n"
     ]
    },
    {
     "name": "stderr",
     "output_type": "stream",
     "text": [
      " 79%|███████▊  | 236/300 [03:55<01:08,  1.08s/it]"
     ]
    },
    {
     "name": "stdout",
     "output_type": "stream",
     "text": [
      "Reading ALLG data from file E:/frd-historical/data/stock/1min/csv/ALLG_full_1min_adjsplitdiv.txt\n",
      "No data found for ALLG for period 2017-01-01 00:00:00 to 2017-12-31 23:59:59\n",
      "Reading ALLK data from file E:/frd-historical/data/stock/1min/csv/ALLK_full_1min_adjsplitdiv.txt\n"
     ]
    },
    {
     "name": "stderr",
     "output_type": "stream",
     "text": [
      " 79%|███████▉  | 237/300 [03:56<00:58,  1.07it/s]"
     ]
    },
    {
     "name": "stdout",
     "output_type": "stream",
     "text": [
      "No data found for ALLK for period 2017-01-01 00:00:00 to 2017-12-31 23:59:59\n",
      "Reading ALLO data from file E:/frd-historical/data/stock/1min/csv/ALLO_full_1min_adjsplitdiv.txt\n"
     ]
    },
    {
     "name": "stderr",
     "output_type": "stream",
     "text": [
      " 80%|███████▉  | 239/300 [03:57<00:40,  1.51it/s]"
     ]
    },
    {
     "name": "stdout",
     "output_type": "stream",
     "text": [
      "No data found for ALLO for period 2017-01-01 00:00:00 to 2017-12-31 23:59:59\n",
      "Reading ALLR data from file E:/frd-historical/data/stock/1min/csv/ALLR_full_1min_adjsplitdiv.txt\n",
      "No data found for ALLR for period 2017-01-01 00:00:00 to 2017-12-31 23:59:59\n",
      "Reading ALLT data from file E:/frd-historical/data/stock/1min/csv/ALLT_full_1min_adjsplitdiv.txt\n"
     ]
    },
    {
     "name": "stderr",
     "output_type": "stream",
     "text": [
      " 80%|████████  | 240/300 [03:58<00:42,  1.42it/s]"
     ]
    },
    {
     "name": "stdout",
     "output_type": "stream",
     "text": [
      "Reading ALLY data from file E:/frd-historical/data/stock/1min/csv/ALLY_full_1min_adjsplitdiv.txt\n"
     ]
    },
    {
     "name": "stderr",
     "output_type": "stream",
     "text": [
      " 80%|████████  | 241/300 [03:59<00:56,  1.05it/s]"
     ]
    },
    {
     "name": "stdout",
     "output_type": "stream",
     "text": [
      "Reading ALL data from file E:/frd-historical/data/stock/1min/csv/ALL_full_1min_adjsplitdiv.txt\n"
     ]
    },
    {
     "name": "stderr",
     "output_type": "stream",
     "text": [
      " 81%|████████  | 242/300 [04:02<01:32,  1.60s/it]"
     ]
    },
    {
     "name": "stdout",
     "output_type": "stream",
     "text": [
      "Reading ALNT data from file E:/frd-historical/data/stock/1min/csv/ALNT_full_1min_adjsplitdiv.txt\n"
     ]
    },
    {
     "name": "stderr",
     "output_type": "stream",
     "text": [
      " 81%|████████  | 243/300 [04:03<01:10,  1.23s/it]"
     ]
    },
    {
     "name": "stdout",
     "output_type": "stream",
     "text": [
      "Reading ALNY data from file E:/frd-historical/data/stock/1min/csv/ALNY_full_1min_adjsplitdiv.txt\n"
     ]
    },
    {
     "name": "stderr",
     "output_type": "stream",
     "text": [
      " 81%|████████▏ | 244/300 [04:06<01:39,  1.78s/it]"
     ]
    },
    {
     "name": "stdout",
     "output_type": "stream",
     "text": [
      "Reading ALOT data from file E:/frd-historical/data/stock/1min/csv/ALOT_full_1min_adjsplitdiv.txt\n"
     ]
    },
    {
     "name": "stderr",
     "output_type": "stream",
     "text": [
      " 82%|████████▏ | 245/300 [04:06<01:12,  1.32s/it]"
     ]
    },
    {
     "name": "stdout",
     "output_type": "stream",
     "text": [
      "Reading ALPN data from file E:/frd-historical/data/stock/1min/csv/ALPN_full_1min_adjsplitdiv.txt\n"
     ]
    },
    {
     "name": "stderr",
     "output_type": "stream",
     "text": [
      " 82%|████████▏ | 246/300 [04:07<00:58,  1.09s/it]"
     ]
    },
    {
     "name": "stdout",
     "output_type": "stream",
     "text": [
      "Reading ALPP data from file E:/frd-historical/data/stock/1min/csv/ALPP_full_1min_adjsplitdiv.txt\n"
     ]
    },
    {
     "name": "stderr",
     "output_type": "stream",
     "text": [
      " 82%|████████▏ | 247/300 [04:07<00:50,  1.06it/s]"
     ]
    },
    {
     "name": "stdout",
     "output_type": "stream",
     "text": [
      "Reading ALRM data from file E:/frd-historical/data/stock/1min/csv/ALRM_full_1min_adjsplitdiv.txt\n"
     ]
    },
    {
     "name": "stderr",
     "output_type": "stream",
     "text": [
      " 83%|████████▎ | 248/300 [04:08<00:52,  1.01s/it]"
     ]
    },
    {
     "name": "stdout",
     "output_type": "stream",
     "text": [
      "Reading ALRN data from file E:/frd-historical/data/stock/1min/csv/ALRN_full_1min_adjsplitdiv.txt\n"
     ]
    },
    {
     "name": "stderr",
     "output_type": "stream",
     "text": [
      " 83%|████████▎ | 250/300 [04:09<00:32,  1.56it/s]"
     ]
    },
    {
     "name": "stdout",
     "output_type": "stream",
     "text": [
      "Reading ALRS data from file E:/frd-historical/data/stock/1min/csv/ALRS_full_1min_adjsplitdiv.txt\n",
      "Reading ALSN data from file E:/frd-historical/data/stock/1min/csv/ALSN_full_1min_adjsplitdiv.txt\n"
     ]
    },
    {
     "name": "stderr",
     "output_type": "stream",
     "text": [
      " 84%|████████▎ | 251/300 [04:11<00:47,  1.04it/s]"
     ]
    },
    {
     "name": "stdout",
     "output_type": "stream",
     "text": [
      "Reading ALTG data from file E:/frd-historical/data/stock/1min/csv/ALTG_full_1min_adjsplitdiv.txt\n"
     ]
    },
    {
     "name": "stderr",
     "output_type": "stream",
     "text": [
      " 84%|████████▍ | 252/300 [04:11<00:36,  1.33it/s]"
     ]
    },
    {
     "name": "stdout",
     "output_type": "stream",
     "text": [
      "No data found for ALTG for period 2017-01-01 00:00:00 to 2017-12-31 23:59:59\n",
      "Reading ALTI data from file E:/frd-historical/data/stock/1min/csv/ALTI_full_1min_adjsplitdiv.txt\n",
      "No data found for ALTI for period 2017-01-01 00:00:00 to 2017-12-31 23:59:59\n",
      "Reading ALTO data from file E:/frd-historical/data/stock/1min/csv/ALTO_full_1min_adjsplitdiv.txt\n"
     ]
    },
    {
     "name": "stderr",
     "output_type": "stream",
     "text": [
      " 85%|████████▍ | 254/300 [04:13<00:38,  1.18it/s]"
     ]
    },
    {
     "name": "stdout",
     "output_type": "stream",
     "text": [
      "Reading ALTR data from file E:/frd-historical/data/stock/1min/csv/ALTR_full_1min_adjsplitdiv.txt\n"
     ]
    },
    {
     "name": "stderr",
     "output_type": "stream",
     "text": [
      " 86%|████████▌ | 257/300 [04:14<00:21,  2.04it/s]"
     ]
    },
    {
     "name": "stdout",
     "output_type": "stream",
     "text": [
      "Reading ALVOW data from file E:/frd-historical/data/stock/1min/csv/ALVOW_full_1min_adjsplitdiv.txt\n",
      "No data found for ALVOW for period 2017-01-01 00:00:00 to 2017-12-31 23:59:59\n",
      "Reading ALVO data from file E:/frd-historical/data/stock/1min/csv/ALVO_full_1min_adjsplitdiv.txt\n",
      "No data found for ALVO for period 2017-01-01 00:00:00 to 2017-12-31 23:59:59\n",
      "Reading ALVR data from file E:/frd-historical/data/stock/1min/csv/ALVR_full_1min_adjsplitdiv.txt\n"
     ]
    },
    {
     "name": "stderr",
     "output_type": "stream",
     "text": [
      " 86%|████████▌ | 258/300 [04:14<00:19,  2.21it/s]"
     ]
    },
    {
     "name": "stdout",
     "output_type": "stream",
     "text": [
      "No data found for ALVR for period 2017-01-01 00:00:00 to 2017-12-31 23:59:59\n",
      "Reading ALV data from file E:/frd-historical/data/stock/1min/csv/ALV_full_1min_adjsplitdiv.txt\n"
     ]
    },
    {
     "name": "stderr",
     "output_type": "stream",
     "text": [
      " 86%|████████▋ | 259/300 [04:16<00:38,  1.08it/s]"
     ]
    },
    {
     "name": "stdout",
     "output_type": "stream",
     "text": [
      "Reading ALXO data from file E:/frd-historical/data/stock/1min/csv/ALXO_full_1min_adjsplitdiv.txt\n"
     ]
    },
    {
     "name": "stderr",
     "output_type": "stream",
     "text": [
      " 87%|████████▋ | 261/300 [04:17<00:24,  1.58it/s]"
     ]
    },
    {
     "name": "stdout",
     "output_type": "stream",
     "text": [
      "No data found for ALXO for period 2017-01-01 00:00:00 to 2017-12-31 23:59:59\n",
      "Reading ALX data from file E:/frd-historical/data/stock/1min/csv/ALX_full_1min_adjsplitdiv.txt\n"
     ]
    },
    {
     "name": "stderr",
     "output_type": "stream",
     "text": [
      " 87%|████████▋ | 262/300 [04:17<00:18,  2.04it/s]"
     ]
    },
    {
     "name": "stdout",
     "output_type": "stream",
     "text": [
      "Reading ALYA data from file E:/frd-historical/data/stock/1min/csv/ALYA_full_1min_adjsplitdiv.txt\n",
      "No data found for ALYA for period 2017-01-01 00:00:00 to 2017-12-31 23:59:59\n",
      "Reading ALZN data from file E:/frd-historical/data/stock/1min/csv/ALZN_full_1min_adjsplitdiv.txt\n"
     ]
    },
    {
     "name": "stderr",
     "output_type": "stream",
     "text": [
      " 88%|████████▊ | 263/300 [04:17<00:15,  2.37it/s]"
     ]
    },
    {
     "name": "stdout",
     "output_type": "stream",
     "text": [
      "No data found for ALZN for period 2017-01-01 00:00:00 to 2017-12-31 23:59:59\n",
      "Reading AL data from file E:/frd-historical/data/stock/1min/csv/AL_full_1min_adjsplitdiv.txt\n"
     ]
    },
    {
     "name": "stderr",
     "output_type": "stream",
     "text": [
      " 88%|████████▊ | 264/300 [04:19<00:27,  1.29it/s]"
     ]
    },
    {
     "name": "stdout",
     "output_type": "stream",
     "text": [
      "Reading AMAL data from file E:/frd-historical/data/stock/1min/csv/AMAL_full_1min_adjsplitdiv.txt\n"
     ]
    },
    {
     "name": "stderr",
     "output_type": "stream",
     "text": [
      " 88%|████████▊ | 265/300 [04:19<00:22,  1.56it/s]"
     ]
    },
    {
     "name": "stdout",
     "output_type": "stream",
     "text": [
      "No data found for AMAL for period 2017-01-01 00:00:00 to 2017-12-31 23:59:59\n",
      "Reading AMAT data from file E:/frd-historical/data/stock/1min/csv/AMAT_full_1min_adjsplitdiv.txt\n"
     ]
    },
    {
     "name": "stderr",
     "output_type": "stream",
     "text": [
      " 89%|████████▊ | 266/300 [04:23<00:51,  1.50s/it]"
     ]
    },
    {
     "name": "stdout",
     "output_type": "stream",
     "text": [
      "Reading AMBA data from file E:/frd-historical/data/stock/1min/csv/AMBA_full_1min_adjsplitdiv.txt\n"
     ]
    },
    {
     "name": "stderr",
     "output_type": "stream",
     "text": [
      " 89%|████████▉ | 267/300 [04:24<00:48,  1.48s/it]"
     ]
    },
    {
     "name": "stdout",
     "output_type": "stream",
     "text": [
      "Reading AMBC data from file E:/frd-historical/data/stock/1min/csv/AMBC_full_1min_adjsplitdiv.txt\n"
     ]
    },
    {
     "name": "stderr",
     "output_type": "stream",
     "text": [
      " 90%|████████▉ | 269/300 [04:25<00:30,  1.01it/s]"
     ]
    },
    {
     "name": "stdout",
     "output_type": "stream",
     "text": [
      "Reading AMBI data from file E:/frd-historical/data/stock/1min/csv/AMBI_full_1min_adjsplitdiv.txt\n",
      "No data found for AMBI for period 2017-01-01 00:00:00 to 2017-12-31 23:59:59\n",
      "Reading AMBO data from file E:/frd-historical/data/stock/1min/csv/AMBO_full_1min_adjsplitdiv.txt\n"
     ]
    },
    {
     "name": "stderr",
     "output_type": "stream",
     "text": [
      " 90%|█████████ | 270/300 [04:26<00:21,  1.37it/s]"
     ]
    },
    {
     "name": "stdout",
     "output_type": "stream",
     "text": [
      "No data found for AMBO for period 2017-01-01 00:00:00 to 2017-12-31 23:59:59\n",
      "Reading AMBP data from file E:/frd-historical/data/stock/1min/csv/AMBP_full_1min_adjsplitdiv.txt\n"
     ]
    },
    {
     "name": "stderr",
     "output_type": "stream",
     "text": [
      " 90%|█████████ | 271/300 [04:26<00:18,  1.53it/s]"
     ]
    },
    {
     "name": "stdout",
     "output_type": "stream",
     "text": [
      "No data found for AMBP for period 2017-01-01 00:00:00 to 2017-12-31 23:59:59\n",
      "Reading AMCR data from file E:/frd-historical/data/stock/1min/csv/AMCR_full_1min_adjsplitdiv.txt\n"
     ]
    },
    {
     "name": "stderr",
     "output_type": "stream",
     "text": [
      " 91%|█████████ | 272/300 [04:27<00:19,  1.45it/s]"
     ]
    },
    {
     "name": "stdout",
     "output_type": "stream",
     "text": [
      "No data found for AMCR for period 2017-01-01 00:00:00 to 2017-12-31 23:59:59\n",
      "Reading AMCX data from file E:/frd-historical/data/stock/1min/csv/AMCX_full_1min_adjsplitdiv.txt\n"
     ]
    },
    {
     "name": "stderr",
     "output_type": "stream",
     "text": [
      " 91%|█████████ | 273/300 [04:28<00:25,  1.07it/s]"
     ]
    },
    {
     "name": "stdout",
     "output_type": "stream",
     "text": [
      "Reading AMC data from file E:/frd-historical/data/stock/1min/csv/AMC_full_1min_adjsplitdiv.txt\n"
     ]
    },
    {
     "name": "stderr",
     "output_type": "stream",
     "text": [
      " 91%|█████████▏| 274/300 [04:30<00:30,  1.17s/it]"
     ]
    },
    {
     "name": "stdout",
     "output_type": "stream",
     "text": [
      "Reading AMD data from file E:/frd-historical/data/stock/1min/csv/AMD_full_1min_adjsplitdiv.txt\n"
     ]
    },
    {
     "name": "stderr",
     "output_type": "stream",
     "text": [
      " 92%|█████████▏| 275/300 [04:34<00:49,  1.97s/it]"
     ]
    },
    {
     "name": "stdout",
     "output_type": "stream",
     "text": [
      "Reading AMED data from file E:/frd-historical/data/stock/1min/csv/AMED_full_1min_adjsplitdiv.txt\n"
     ]
    },
    {
     "name": "stderr",
     "output_type": "stream",
     "text": [
      " 92%|█████████▏| 276/300 [04:36<00:47,  1.96s/it]"
     ]
    },
    {
     "name": "stdout",
     "output_type": "stream",
     "text": [
      "Reading AME data from file E:/frd-historical/data/stock/1min/csv/AME_full_1min_adjsplitdiv.txt\n"
     ]
    },
    {
     "name": "stderr",
     "output_type": "stream",
     "text": [
      " 92%|█████████▏| 277/300 [04:38<00:50,  2.18s/it]"
     ]
    },
    {
     "name": "stdout",
     "output_type": "stream",
     "text": [
      "Reading AMGN data from file E:/frd-historical/data/stock/1min/csv/AMGN_full_1min_adjsplitdiv.txt\n"
     ]
    },
    {
     "name": "stderr",
     "output_type": "stream",
     "text": [
      " 93%|█████████▎| 278/300 [04:41<00:52,  2.40s/it]"
     ]
    },
    {
     "name": "stdout",
     "output_type": "stream",
     "text": [
      "Reading AMG data from file E:/frd-historical/data/stock/1min/csv/AMG_full_1min_adjsplitdiv.txt\n"
     ]
    },
    {
     "name": "stderr",
     "output_type": "stream",
     "text": [
      " 93%|█████████▎| 279/300 [04:44<00:49,  2.35s/it]"
     ]
    },
    {
     "name": "stdout",
     "output_type": "stream",
     "text": [
      "Reading AMH data from file E:/frd-historical/data/stock/1min/csv/AMH_full_1min_adjsplitdiv.txt\n"
     ]
    },
    {
     "name": "stderr",
     "output_type": "stream",
     "text": [
      " 93%|█████████▎| 280/300 [04:45<00:41,  2.09s/it]"
     ]
    },
    {
     "name": "stdout",
     "output_type": "stream",
     "text": [
      "Reading AMKR data from file E:/frd-historical/data/stock/1min/csv/AMKR_full_1min_adjsplitdiv.txt\n"
     ]
    },
    {
     "name": "stderr",
     "output_type": "stream",
     "text": [
      " 94%|█████████▎| 281/300 [04:47<00:40,  2.14s/it]"
     ]
    },
    {
     "name": "stdout",
     "output_type": "stream",
     "text": [
      "Reading AMK data from file E:/frd-historical/data/stock/1min/csv/AMK_full_1min_adjsplitdiv.txt\n"
     ]
    },
    {
     "name": "stderr",
     "output_type": "stream",
     "text": [
      " 94%|█████████▍| 283/300 [04:48<00:19,  1.15s/it]"
     ]
    },
    {
     "name": "stdout",
     "output_type": "stream",
     "text": [
      "No data found for AMK for period 2017-01-01 00:00:00 to 2017-12-31 23:59:59\n",
      "Reading AMLI data from file E:/frd-historical/data/stock/1min/csv/AMLI_full_1min_adjsplitdiv.txt\n",
      "No data found for AMLI for period 2017-01-01 00:00:00 to 2017-12-31 23:59:59\n",
      "Reading AMLX data from file E:/frd-historical/data/stock/1min/csv/AMLX_full_1min_adjsplitdiv.txt\n"
     ]
    },
    {
     "name": "stderr",
     "output_type": "stream",
     "text": [
      " 95%|█████████▍| 284/300 [04:48<00:14,  1.13it/s]"
     ]
    },
    {
     "name": "stdout",
     "output_type": "stream",
     "text": [
      "No data found for AMLX for period 2017-01-01 00:00:00 to 2017-12-31 23:59:59\n",
      "Reading AMNB data from file E:/frd-historical/data/stock/1min/csv/AMNB_full_1min_adjsplitdiv.txt\n"
     ]
    },
    {
     "name": "stderr",
     "output_type": "stream",
     "text": [
      " 95%|█████████▌| 285/300 [04:48<00:10,  1.45it/s]"
     ]
    },
    {
     "name": "stdout",
     "output_type": "stream",
     "text": [
      "Reading AMN data from file E:/frd-historical/data/stock/1min/csv/AMN_full_1min_adjsplitdiv.txt\n"
     ]
    },
    {
     "name": "stderr",
     "output_type": "stream",
     "text": [
      " 95%|█████████▌| 286/300 [04:50<00:13,  1.02it/s]"
     ]
    },
    {
     "name": "stdout",
     "output_type": "stream",
     "text": [
      "Reading AMPE data from file E:/frd-historical/data/stock/1min/csv/AMPE_full_1min_adjsplitdiv.txt\n"
     ]
    },
    {
     "name": "stderr",
     "output_type": "stream",
     "text": [
      " 96%|█████████▌| 287/300 [04:51<00:13,  1.02s/it]"
     ]
    },
    {
     "name": "stdout",
     "output_type": "stream",
     "text": [
      "Reading AMPG data from file E:/frd-historical/data/stock/1min/csv/AMPG_full_1min_adjsplitdiv.txt\n"
     ]
    },
    {
     "name": "stderr",
     "output_type": "stream",
     "text": [
      " 96%|█████████▌| 288/300 [04:51<00:09,  1.28it/s]"
     ]
    },
    {
     "name": "stdout",
     "output_type": "stream",
     "text": [
      "No data found for AMPG for period 2017-01-01 00:00:00 to 2017-12-31 23:59:59\n",
      "Reading AMPH data from file E:/frd-historical/data/stock/1min/csv/AMPH_full_1min_adjsplitdiv.txt\n"
     ]
    },
    {
     "name": "stderr",
     "output_type": "stream",
     "text": [
      " 96%|█████████▋| 289/300 [04:52<00:08,  1.26it/s]"
     ]
    },
    {
     "name": "stdout",
     "output_type": "stream",
     "text": [
      "Reading AMPL data from file E:/frd-historical/data/stock/1min/csv/AMPL_full_1min_adjsplitdiv.txt\n"
     ]
    },
    {
     "name": "stderr",
     "output_type": "stream",
     "text": [
      " 97%|█████████▋| 290/300 [04:53<00:06,  1.49it/s]"
     ]
    },
    {
     "name": "stdout",
     "output_type": "stream",
     "text": [
      "No data found for AMPL for period 2017-01-01 00:00:00 to 2017-12-31 23:59:59\n",
      "Reading AMPS data from file E:/frd-historical/data/stock/1min/csv/AMPS_full_1min_adjsplitdiv.txt\n"
     ]
    },
    {
     "name": "stderr",
     "output_type": "stream",
     "text": [
      " 97%|█████████▋| 292/300 [04:53<00:03,  2.25it/s]"
     ]
    },
    {
     "name": "stdout",
     "output_type": "stream",
     "text": [
      "No data found for AMPS for period 2017-01-01 00:00:00 to 2017-12-31 23:59:59\n",
      "Reading AMPX data from file E:/frd-historical/data/stock/1min/csv/AMPX_full_1min_adjsplitdiv.txt\n",
      "No data found for AMPX for period 2017-01-01 00:00:00 to 2017-12-31 23:59:59\n",
      "Reading AMPY data from file E:/frd-historical/data/stock/1min/csv/AMPY_full_1min_adjsplitdiv.txt\n"
     ]
    },
    {
     "name": "stderr",
     "output_type": "stream",
     "text": [
      " 98%|█████████▊| 293/300 [04:54<00:03,  2.11it/s]"
     ]
    },
    {
     "name": "stdout",
     "output_type": "stream",
     "text": [
      "Reading AMP data from file E:/frd-historical/data/stock/1min/csv/AMP_full_1min_adjsplitdiv.txt\n"
     ]
    },
    {
     "name": "stderr",
     "output_type": "stream",
     "text": [
      " 98%|█████████▊| 294/300 [04:56<00:06,  1.08s/it]"
     ]
    },
    {
     "name": "stdout",
     "output_type": "stream",
     "text": [
      "Reading AMRC data from file E:/frd-historical/data/stock/1min/csv/AMRC_full_1min_adjsplitdiv.txt\n"
     ]
    },
    {
     "name": "stderr",
     "output_type": "stream",
     "text": [
      " 98%|█████████▊| 295/300 [04:57<00:05,  1.05s/it]"
     ]
    },
    {
     "name": "stdout",
     "output_type": "stream",
     "text": [
      "Reading AMRK data from file E:/frd-historical/data/stock/1min/csv/AMRK_full_1min_adjsplitdiv.txt\n"
     ]
    },
    {
     "name": "stderr",
     "output_type": "stream",
     "text": [
      " 99%|█████████▊| 296/300 [04:57<00:03,  1.21it/s]"
     ]
    },
    {
     "name": "stdout",
     "output_type": "stream",
     "text": [
      "Reading AMRN data from file E:/frd-historical/data/stock/1min/csv/AMRN_full_1min_adjsplitdiv.txt\n"
     ]
    },
    {
     "name": "stderr",
     "output_type": "stream",
     "text": [
      " 99%|█████████▉| 297/300 [04:59<00:03,  1.17s/it]"
     ]
    },
    {
     "name": "stdout",
     "output_type": "stream",
     "text": [
      "Reading AMRX data from file E:/frd-historical/data/stock/1min/csv/AMRX_full_1min_adjsplitdiv.txt\n"
     ]
    },
    {
     "name": "stderr",
     "output_type": "stream",
     "text": [
      " 99%|█████████▉| 298/300 [05:00<00:02,  1.04s/it]"
     ]
    },
    {
     "name": "stdout",
     "output_type": "stream",
     "text": [
      "No data found for AMRX for period 2017-01-01 00:00:00 to 2017-12-31 23:59:59\n",
      "Reading AMR data from file E:/frd-historical/data/stock/1min/csv/AMR_full_1min_adjsplitdiv.txt\n"
     ]
    },
    {
     "name": "stderr",
     "output_type": "stream",
     "text": [
      "100%|█████████▉| 299/300 [05:00<00:00,  1.16it/s]"
     ]
    },
    {
     "name": "stdout",
     "output_type": "stream",
     "text": [
      "Reading AMSC data from file E:/frd-historical/data/stock/1min/csv/AMSC_full_1min_adjsplitdiv.txt\n"
     ]
    },
    {
     "name": "stderr",
     "output_type": "stream",
     "text": [
      "100%|██████████| 300/300 [05:02<00:00,  1.01s/it]\n"
     ]
    }
   ],
   "source": [
    "dtype={'date': str, 'open': float, 'high': float, 'low': float, 'close': float, 'volume': float}\n",
    "columns = list(dtype.keys())\n",
    "data = {}\n",
    "tickers = [f.split(\"_\")[0] for f in os.listdir(CSV_DEST_DIR) if f.endswith(\".txt\")][:N_TICKERS]\n",
    "for ticker in tqdm(tickers):\n",
    "    csv_path = os.path.join(CSV_DEST_DIR, f\"{ticker}_{timeframe}_{period}_{adjustment}.txt\")\n",
    "    print(f\"Reading {ticker} data from file {csv_path}\")\n",
    "    _columns = columns.copy()\n",
    "    _columns[1:] = [f\"{ticker}_{col}\" for col in _columns[1:]]\n",
    "    df = pd.read_csv(csv_path, names=_columns)\n",
    "    df['date'] = pd.to_datetime(df['date'])\n",
    "    df = df[['date', f'{ticker}_close']]\n",
    "    df.set_index(\"date\", inplace=True)\n",
    "    try:\n",
    "        df = df[(df.index >= start_year) & (df.index <= end_year)]    \n",
    "    except:\n",
    "        print(f\"No data found for {ticker} for period {start_year} to {end_year}\")\n",
    "        continue\n",
    "    if len(df) > 0:\n",
    "        data[ticker] = df\n",
    "    else:\n",
    "        print(f\"No data found for {ticker} for period {start_year} to {end_year}\")"
   ]
  },
  {
   "cell_type": "code",
   "execution_count": 5,
   "metadata": {},
   "outputs": [
    {
     "name": "stdout",
     "output_type": "stream",
     "text": [
      "AACG (2657, 7)\n",
      "AADI (2657, 7)\n",
      "AAL (2737, 7)\n",
      "AAMC (2737, 7)\n",
      "AAME (2737, 7)\n",
      "AAOI (2737, 7)\n",
      "AAON (2737, 7)\n",
      "AAPL (2737, 7)\n",
      "AAP (2737, 7)\n",
      "AAT (2737, 7)\n",
      "AAU (2735, 7)\n",
      "AA (2737, 7)\n",
      "ABBV (2737, 7)\n",
      "ABCB (2737, 7)\n",
      "ABEO (2737, 7)\n",
      "ABEV (2737, 7)\n",
      "ABIO (2737, 7)\n",
      "ABM (2737, 7)\n",
      "ABR (2737, 7)\n",
      "ABTS (2729, 7)\n",
      "ABT (2737, 7)\n",
      "ABUS (2737, 7)\n",
      "AB (2737, 7)\n",
      "ACAD (2737, 7)\n",
      "ACCO (2737, 7)\n",
      "ACEL (2657, 7)\n",
      "ACGL (2737, 7)\n",
      "ACHC (2737, 7)\n",
      "ACHV (2737, 7)\n",
      "ACIC (2737, 7)\n",
      "ACIU (2737, 7)\n",
      "ACIW (2737, 7)\n",
      "ACLS (2737, 7)\n",
      "ACMR (2657, 7)\n",
      "ACM (2737, 7)\n",
      "ACNB (2737, 7)\n",
      "ACNT (2737, 7)\n",
      "ACN (2737, 7)\n",
      "ACOR (2737, 7)\n",
      "ACP (2737, 7)\n",
      "ACRE (2737, 7)\n",
      "ACRS (2737, 7)\n",
      "ACST (2737, 7)\n",
      "ACTG (2737, 7)\n",
      "ACU (2737, 7)\n",
      "ACV (2737, 7)\n",
      "AC (2737, 7)\n",
      "ADAP (2737, 7)\n",
      "ADBE (2737, 7)\n",
      "ADC (2737, 7)\n",
      "ADD (2715, 7)\n",
      "ADEA (2737, 7)\n",
      "ADI (2737, 7)\n",
      "ADMA (2717, 7)\n",
      "ADM (2737, 7)\n",
      "ADNT (2737, 7)\n",
      "ADP (2737, 7)\n",
      "ADSK (2737, 7)\n",
      "ADTN (2737, 7)\n",
      "ADUS (2737, 7)\n",
      "ADVM (2737, 7)\n",
      "ADVWW (2657, 7)\n",
      "ADX (2737, 7)\n",
      "AEE (2737, 7)\n",
      "AEG (2737, 7)\n",
      "AEHL (2698, 7)\n",
      "AEHR (2736, 7)\n",
      "AEIS (2737, 7)\n",
      "AEL (2737, 7)\n",
      "AEMD (2730, 7)\n",
      "AEM (2737, 7)\n",
      "AEO (2737, 7)\n",
      "AEP (2737, 7)\n",
      "AER (2737, 7)\n",
      "AES (2737, 7)\n",
      "AEY (2737, 7)\n",
      "AEZS (2737, 7)\n",
      "AE (2737, 7)\n",
      "AFB (2737, 7)\n",
      "AFG (2737, 7)\n",
      "AFL (2737, 7)\n",
      "AFMD (2737, 7)\n",
      "AFT (2737, 7)\n",
      "AGAE (2715, 7)\n",
      "AGCO (2737, 7)\n",
      "AGD (2737, 7)\n",
      "AGEN (2737, 7)\n",
      "AGIO (2737, 7)\n",
      "AGI (2737, 7)\n",
      "AGM (2737, 7)\n",
      "AGNCN (2737, 7)\n",
      "AGNC (2737, 7)\n",
      "AGO (2737, 7)\n",
      "AGRO (2737, 7)\n",
      "AGRX (2737, 7)\n",
      "AGR (2737, 7)\n",
      "AGX (2737, 7)\n",
      "AGYS (2737, 7)\n",
      "AG (2737, 7)\n",
      "AHG (2706, 7)\n",
      "AHH (2737, 7)\n",
      "AHT (2737, 7)\n",
      "AIF (2737, 7)\n",
      "AIG (2737, 7)\n",
      "AIMD (2737, 7)\n",
      "AIM (2737, 7)\n",
      "AINC (2737, 7)\n",
      "AIN (2737, 7)\n",
      "AIRG (2737, 7)\n",
      "AIRI (2737, 7)\n",
      "AIRT (2737, 7)\n",
      "AIR (2737, 7)\n",
      "AIT (2737, 7)\n",
      "AIV (2737, 7)\n",
      "AIZ (2737, 7)\n",
      "AJG (2737, 7)\n",
      "AJX (2737, 7)\n",
      "AKAM (2737, 7)\n",
      "AKBA (2737, 7)\n",
      "AKO.A (2657, 7)\n",
      "AKO.B (2675, 7)\n",
      "AKR (2737, 7)\n",
      "AKTS (2737, 7)\n",
      "AKTX (2667, 7)\n",
      "ALB (2737, 7)\n",
      "ALCO (2737, 7)\n",
      "ALDX (2737, 7)\n",
      "ALEX (2737, 7)\n",
      "ALE (2737, 7)\n",
      "ALGN (2737, 7)\n",
      "ALGT (2737, 7)\n",
      "ALG (2733, 7)\n",
      "ALIM (2737, 7)\n",
      "ALKS (2737, 7)\n",
      "ALK (2736, 7)\n",
      "ALLE (2737, 7)\n",
      "ALLT (2737, 7)\n",
      "ALLY (2737, 7)\n",
      "ALL (2737, 7)\n",
      "ALNT (2737, 7)\n",
      "ALNY (2737, 7)\n",
      "ALOT (2720, 7)\n",
      "ALPN (2737, 7)\n",
      "ALPP (2657, 7)\n",
      "ALRM (2737, 7)\n",
      "ALRN (2657, 7)\n",
      "ALRS (2727, 7)\n",
      "ALSN (2737, 7)\n",
      "ALTO (2737, 7)\n",
      "ALTR (2671, 7)\n",
      "ALV (2737, 7)\n",
      "ALX (2737, 7)\n",
      "AL (2737, 7)\n",
      "AMAT (2737, 7)\n",
      "AMBA (2737, 7)\n",
      "AMBC (2737, 7)\n",
      "AMCX (2737, 7)\n",
      "AMC (2737, 7)\n",
      "AMD (2737, 7)\n",
      "AMED (2737, 7)\n",
      "AME (2737, 7)\n",
      "AMGN (2737, 7)\n",
      "AMG (2734, 7)\n",
      "AMH (2737, 7)\n",
      "AMKR (2737, 7)\n",
      "AMNB (2737, 7)\n",
      "AMN (2737, 7)\n",
      "AMPE (2737, 7)\n",
      "AMPH (2737, 7)\n",
      "AMPY (2657, 7)\n",
      "AMP (2737, 7)\n",
      "AMRC (2736, 7)\n",
      "AMRK (2737, 7)\n",
      "AMRN (2737, 7)\n",
      "AMR (2657, 7)\n",
      "AMSC (2737, 7)\n"
     ]
    }
   ],
   "source": [
    "data = preprocess_data(data)\n",
    "data = calculate_lagged_returns(data)\n",
    "for ticker in data:\n",
    "    print(ticker, data[ticker].shape)"
   ]
  },
  {
   "cell_type": "code",
   "execution_count": null,
   "metadata": {},
   "outputs": [],
   "source": [
    "# Merge feature dataframes -- returns and lagged returns for all stocks\n",
    "x = data[focal_ticker].copy()\n",
    "x.drop(columns=[f'{focal_ticker}_close', 'is_trading_hour', 'time'], inplace=True)\n",
    "n = len(x)\n",
    "print(n)\n",
    "for ticker in data:\n",
    "    if ticker != focal_ticker:\n",
    "        y = data[ticker].copy()\n",
    "        y.drop(columns=[f'{ticker}_close', 'is_trading_hour', 'time'], inplace=True)\n",
    "\n",
    "        # optional: skip tickers with fewer than n samples\n",
    "        if y.shape[0] < n:\n",
    "            print(f\"Skipping {ticker} with shape {y.shape}\")\n",
    "            continue\n",
    "        \n",
    "        print(f\"Merging {focal_ticker} and {ticker} with shapes {x.shape} and {y.shape}\")\n",
    "        x = x.merge(y, left_index=True, right_index=True, how='left')\n",
    "        print(x.shape)\n",
    "return_features_df = x.copy()\n",
    "return_features_df = return_features_df.iloc[4:,] # because of lag NAs\n",
    "print(return_features_df.shape)\n",
    "print(return_features_df.info())\n",
    "print(return_features_df)\n",
    "\n",
    "# examine missing\n",
    "print(return_features_df.shape)\n",
    "for col in return_features_df.columns:\n",
    "    missing = return_features_df[col].isnull().sum()\n",
    "    if missing > 0:\n",
    "        print(f\"{col}: {missing} missing\")\n",
    "        return_features_df.drop(columns=[col], inplace=True)\n",
    "print(return_features_df.shape)\n",
    "\n",
    "with open('return_features_df.pickle', 'wb') as f:\n",
    "    pickle.dump(return_features_df, f)"
   ]
  }
 ],
 "metadata": {
  "kernelspec": {
   "display_name": "d2lai",
   "language": "python",
   "name": "python3"
  },
  "language_info": {
   "codemirror_mode": {
    "name": "ipython",
    "version": 3
   },
   "file_extension": ".py",
   "mimetype": "text/x-python",
   "name": "python",
   "nbconvert_exporter": "python",
   "pygments_lexer": "ipython3",
   "version": "3.11.0"
  }
 },
 "nbformat": 4,
 "nbformat_minor": 2
}
